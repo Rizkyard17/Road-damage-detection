{
  "nbformat": 4,
  "nbformat_minor": 0,
  "metadata": {
    "colab": {
      "provenance": [],
      "gpuType": "T4"
    },
    "kernelspec": {
      "name": "python3",
      "display_name": "Python 3"
    },
    "language_info": {
      "name": "python"
    },
    "accelerator": "GPU"
  },
  "cells": [
    {
      "cell_type": "markdown",
      "source": [
        "# Connect Drive"
      ],
      "metadata": {
        "id": "oBhscaWErxaw"
      }
    },
    {
      "cell_type": "code",
      "execution_count": null,
      "metadata": {
        "id": "WfLTZflmOO1P"
      },
      "outputs": [],
      "source": [
        "# Connect Google Drive\n",
        "from google.colab import drive4\n",
        "\n",
        "drive.mount('/content/drive/')"
      ]
    },
    {
      "cell_type": "markdown",
      "source": [
        "================================================================================================\n",
        "\n",
        "Download dataset pada link dibawah ini"
      ],
      "metadata": {
        "id": "4rDvADPLsRe2"
      }
    },
    {
      "cell_type": "markdown",
      "source": [
        "Link Dataset: https://drive.google.com/file/d/191mgRxzIvNGlEwk6fM-WRRfsYzg3yfZP/view?usp=sharing\n",
        "\n",
        "================================================================================================"
      ],
      "metadata": {
        "id": "l78zwwE1sLFe"
      }
    },
    {
      "cell_type": "code",
      "source": [
        "# Melakukan pengekstrakan Dataset\n",
        "!unzip -q /content/drive/MyDrive/Dataset/Project_Data_Science/new_data/road_damage_dataset.zip -d /content/dataset/"
      ],
      "metadata": {
        "id": "qeuJs5EJObtH",
        "collapsed": true
      },
      "execution_count": null,
      "outputs": []
    },
    {
      "cell_type": "markdown",
      "source": [
        "# Import Library"
      ],
      "metadata": {
        "id": "Jvc0KeKjsxsm"
      }
    },
    {
      "cell_type": "markdown",
      "source": [
        "## Install library"
      ],
      "metadata": {
        "id": "-5Ws5oHhs4Uj"
      }
    },
    {
      "cell_type": "code",
      "source": [
        "!pip install ultralytics"
      ],
      "metadata": {
        "colab": {
          "base_uri": "https://localhost:8080/"
        },
        "id": "dmbyHequO9ZM",
        "outputId": "68d10f66-b916-4238-98e6-6adc98b4ac5f",
        "collapsed": true
      },
      "execution_count": null,
      "outputs": [
        {
          "output_type": "stream",
          "name": "stdout",
          "text": [
            "Collecting ultralytics\n",
            "  Downloading ultralytics-8.3.156-py3-none-any.whl.metadata (37 kB)\n",
            "Requirement already satisfied: numpy>=1.23.0 in /usr/local/lib/python3.11/dist-packages (from ultralytics) (2.0.2)\n",
            "Requirement already satisfied: matplotlib>=3.3.0 in /usr/local/lib/python3.11/dist-packages (from ultralytics) (3.10.0)\n",
            "Requirement already satisfied: opencv-python>=4.6.0 in /usr/local/lib/python3.11/dist-packages (from ultralytics) (4.11.0.86)\n",
            "Requirement already satisfied: pillow>=7.1.2 in /usr/local/lib/python3.11/dist-packages (from ultralytics) (11.2.1)\n",
            "Requirement already satisfied: pyyaml>=5.3.1 in /usr/local/lib/python3.11/dist-packages (from ultralytics) (6.0.2)\n",
            "Requirement already satisfied: requests>=2.23.0 in /usr/local/lib/python3.11/dist-packages (from ultralytics) (2.32.3)\n",
            "Requirement already satisfied: scipy>=1.4.1 in /usr/local/lib/python3.11/dist-packages (from ultralytics) (1.15.3)\n",
            "Requirement already satisfied: torch>=1.8.0 in /usr/local/lib/python3.11/dist-packages (from ultralytics) (2.6.0+cu124)\n",
            "Requirement already satisfied: torchvision>=0.9.0 in /usr/local/lib/python3.11/dist-packages (from ultralytics) (0.21.0+cu124)\n",
            "Requirement already satisfied: tqdm>=4.64.0 in /usr/local/lib/python3.11/dist-packages (from ultralytics) (4.67.1)\n",
            "Requirement already satisfied: psutil in /usr/local/lib/python3.11/dist-packages (from ultralytics) (5.9.5)\n",
            "Requirement already satisfied: py-cpuinfo in /usr/local/lib/python3.11/dist-packages (from ultralytics) (9.0.0)\n",
            "Requirement already satisfied: pandas>=1.1.4 in /usr/local/lib/python3.11/dist-packages (from ultralytics) (2.2.2)\n",
            "Collecting ultralytics-thop>=2.0.0 (from ultralytics)\n",
            "  Downloading ultralytics_thop-2.0.14-py3-none-any.whl.metadata (9.4 kB)\n",
            "Requirement already satisfied: contourpy>=1.0.1 in /usr/local/lib/python3.11/dist-packages (from matplotlib>=3.3.0->ultralytics) (1.3.2)\n",
            "Requirement already satisfied: cycler>=0.10 in /usr/local/lib/python3.11/dist-packages (from matplotlib>=3.3.0->ultralytics) (0.12.1)\n",
            "Requirement already satisfied: fonttools>=4.22.0 in /usr/local/lib/python3.11/dist-packages (from matplotlib>=3.3.0->ultralytics) (4.58.2)\n",
            "Requirement already satisfied: kiwisolver>=1.3.1 in /usr/local/lib/python3.11/dist-packages (from matplotlib>=3.3.0->ultralytics) (1.4.8)\n",
            "Requirement already satisfied: packaging>=20.0 in /usr/local/lib/python3.11/dist-packages (from matplotlib>=3.3.0->ultralytics) (24.2)\n",
            "Requirement already satisfied: pyparsing>=2.3.1 in /usr/local/lib/python3.11/dist-packages (from matplotlib>=3.3.0->ultralytics) (3.2.3)\n",
            "Requirement already satisfied: python-dateutil>=2.7 in /usr/local/lib/python3.11/dist-packages (from matplotlib>=3.3.0->ultralytics) (2.9.0.post0)\n",
            "Requirement already satisfied: pytz>=2020.1 in /usr/local/lib/python3.11/dist-packages (from pandas>=1.1.4->ultralytics) (2025.2)\n",
            "Requirement already satisfied: tzdata>=2022.7 in /usr/local/lib/python3.11/dist-packages (from pandas>=1.1.4->ultralytics) (2025.2)\n",
            "Requirement already satisfied: charset-normalizer<4,>=2 in /usr/local/lib/python3.11/dist-packages (from requests>=2.23.0->ultralytics) (3.4.2)\n",
            "Requirement already satisfied: idna<4,>=2.5 in /usr/local/lib/python3.11/dist-packages (from requests>=2.23.0->ultralytics) (3.10)\n",
            "Requirement already satisfied: urllib3<3,>=1.21.1 in /usr/local/lib/python3.11/dist-packages (from requests>=2.23.0->ultralytics) (2.4.0)\n",
            "Requirement already satisfied: certifi>=2017.4.17 in /usr/local/lib/python3.11/dist-packages (from requests>=2.23.0->ultralytics) (2025.4.26)\n",
            "Requirement already satisfied: filelock in /usr/local/lib/python3.11/dist-packages (from torch>=1.8.0->ultralytics) (3.18.0)\n",
            "Requirement already satisfied: typing-extensions>=4.10.0 in /usr/local/lib/python3.11/dist-packages (from torch>=1.8.0->ultralytics) (4.14.0)\n",
            "Requirement already satisfied: networkx in /usr/local/lib/python3.11/dist-packages (from torch>=1.8.0->ultralytics) (3.5)\n",
            "Requirement already satisfied: jinja2 in /usr/local/lib/python3.11/dist-packages (from torch>=1.8.0->ultralytics) (3.1.6)\n",
            "Requirement already satisfied: fsspec in /usr/local/lib/python3.11/dist-packages (from torch>=1.8.0->ultralytics) (2025.3.2)\n",
            "Collecting nvidia-cuda-nvrtc-cu12==12.4.127 (from torch>=1.8.0->ultralytics)\n",
            "  Downloading nvidia_cuda_nvrtc_cu12-12.4.127-py3-none-manylinux2014_x86_64.whl.metadata (1.5 kB)\n",
            "Collecting nvidia-cuda-runtime-cu12==12.4.127 (from torch>=1.8.0->ultralytics)\n",
            "  Downloading nvidia_cuda_runtime_cu12-12.4.127-py3-none-manylinux2014_x86_64.whl.metadata (1.5 kB)\n",
            "Collecting nvidia-cuda-cupti-cu12==12.4.127 (from torch>=1.8.0->ultralytics)\n",
            "  Downloading nvidia_cuda_cupti_cu12-12.4.127-py3-none-manylinux2014_x86_64.whl.metadata (1.6 kB)\n",
            "Collecting nvidia-cudnn-cu12==9.1.0.70 (from torch>=1.8.0->ultralytics)\n",
            "  Downloading nvidia_cudnn_cu12-9.1.0.70-py3-none-manylinux2014_x86_64.whl.metadata (1.6 kB)\n",
            "Collecting nvidia-cublas-cu12==12.4.5.8 (from torch>=1.8.0->ultralytics)\n",
            "  Downloading nvidia_cublas_cu12-12.4.5.8-py3-none-manylinux2014_x86_64.whl.metadata (1.5 kB)\n",
            "Collecting nvidia-cufft-cu12==11.2.1.3 (from torch>=1.8.0->ultralytics)\n",
            "  Downloading nvidia_cufft_cu12-11.2.1.3-py3-none-manylinux2014_x86_64.whl.metadata (1.5 kB)\n",
            "Collecting nvidia-curand-cu12==10.3.5.147 (from torch>=1.8.0->ultralytics)\n",
            "  Downloading nvidia_curand_cu12-10.3.5.147-py3-none-manylinux2014_x86_64.whl.metadata (1.5 kB)\n",
            "Collecting nvidia-cusolver-cu12==11.6.1.9 (from torch>=1.8.0->ultralytics)\n",
            "  Downloading nvidia_cusolver_cu12-11.6.1.9-py3-none-manylinux2014_x86_64.whl.metadata (1.6 kB)\n",
            "Collecting nvidia-cusparse-cu12==12.3.1.170 (from torch>=1.8.0->ultralytics)\n",
            "  Downloading nvidia_cusparse_cu12-12.3.1.170-py3-none-manylinux2014_x86_64.whl.metadata (1.6 kB)\n",
            "Requirement already satisfied: nvidia-cusparselt-cu12==0.6.2 in /usr/local/lib/python3.11/dist-packages (from torch>=1.8.0->ultralytics) (0.6.2)\n",
            "Requirement already satisfied: nvidia-nccl-cu12==2.21.5 in /usr/local/lib/python3.11/dist-packages (from torch>=1.8.0->ultralytics) (2.21.5)\n",
            "Requirement already satisfied: nvidia-nvtx-cu12==12.4.127 in /usr/local/lib/python3.11/dist-packages (from torch>=1.8.0->ultralytics) (12.4.127)\n",
            "Collecting nvidia-nvjitlink-cu12==12.4.127 (from torch>=1.8.0->ultralytics)\n",
            "  Downloading nvidia_nvjitlink_cu12-12.4.127-py3-none-manylinux2014_x86_64.whl.metadata (1.5 kB)\n",
            "Requirement already satisfied: triton==3.2.0 in /usr/local/lib/python3.11/dist-packages (from torch>=1.8.0->ultralytics) (3.2.0)\n",
            "Requirement already satisfied: sympy==1.13.1 in /usr/local/lib/python3.11/dist-packages (from torch>=1.8.0->ultralytics) (1.13.1)\n",
            "Requirement already satisfied: mpmath<1.4,>=1.1.0 in /usr/local/lib/python3.11/dist-packages (from sympy==1.13.1->torch>=1.8.0->ultralytics) (1.3.0)\n",
            "Requirement already satisfied: six>=1.5 in /usr/local/lib/python3.11/dist-packages (from python-dateutil>=2.7->matplotlib>=3.3.0->ultralytics) (1.17.0)\n",
            "Requirement already satisfied: MarkupSafe>=2.0 in /usr/local/lib/python3.11/dist-packages (from jinja2->torch>=1.8.0->ultralytics) (3.0.2)\n",
            "Downloading ultralytics-8.3.156-py3-none-any.whl (1.0 MB)\n",
            "\u001b[2K   \u001b[90m━━━━━━━━━━━━━━━━━━━━━━━━━━━━━━━━━━━━━━━━\u001b[0m \u001b[32m1.0/1.0 MB\u001b[0m \u001b[31m31.9 MB/s\u001b[0m eta \u001b[36m0:00:00\u001b[0m\n",
            "\u001b[?25hDownloading nvidia_cublas_cu12-12.4.5.8-py3-none-manylinux2014_x86_64.whl (363.4 MB)\n",
            "\u001b[2K   \u001b[90m━━━━━━━━━━━━━━━━━━━━━━━━━━━━━━━━━━━━━━━━\u001b[0m \u001b[32m363.4/363.4 MB\u001b[0m \u001b[31m4.5 MB/s\u001b[0m eta \u001b[36m0:00:00\u001b[0m\n",
            "\u001b[?25hDownloading nvidia_cuda_cupti_cu12-12.4.127-py3-none-manylinux2014_x86_64.whl (13.8 MB)\n",
            "\u001b[2K   \u001b[90m━━━━━━━━━━━━━━━━━━━━━━━━━━━━━━━━━━━━━━━━\u001b[0m \u001b[32m13.8/13.8 MB\u001b[0m \u001b[31m43.4 MB/s\u001b[0m eta \u001b[36m0:00:00\u001b[0m\n",
            "\u001b[?25hDownloading nvidia_cuda_nvrtc_cu12-12.4.127-py3-none-manylinux2014_x86_64.whl (24.6 MB)\n",
            "\u001b[2K   \u001b[90m━━━━━━━━━━━━━━━━━━━━━━━━━━━━━━━━━━━━━━━━\u001b[0m \u001b[32m24.6/24.6 MB\u001b[0m \u001b[31m41.1 MB/s\u001b[0m eta \u001b[36m0:00:00\u001b[0m\n",
            "\u001b[?25hDownloading nvidia_cuda_runtime_cu12-12.4.127-py3-none-manylinux2014_x86_64.whl (883 kB)\n",
            "\u001b[2K   \u001b[90m━━━━━━━━━━━━━━━━━━━━━━━━━━━━━━━━━━━━━━━━\u001b[0m \u001b[32m883.7/883.7 kB\u001b[0m \u001b[31m36.2 MB/s\u001b[0m eta \u001b[36m0:00:00\u001b[0m\n",
            "\u001b[?25hDownloading nvidia_cudnn_cu12-9.1.0.70-py3-none-manylinux2014_x86_64.whl (664.8 MB)\n",
            "\u001b[2K   \u001b[90m━━━━━━━━━━━━━━━━━━━━━━━━━━━━━━━━━━━━━━━━\u001b[0m \u001b[32m664.8/664.8 MB\u001b[0m \u001b[31m2.9 MB/s\u001b[0m eta \u001b[36m0:00:00\u001b[0m\n",
            "\u001b[?25hDownloading nvidia_cufft_cu12-11.2.1.3-py3-none-manylinux2014_x86_64.whl (211.5 MB)\n",
            "\u001b[2K   \u001b[90m━━━━━━━━━━━━━━━━━━━━━━━━━━━━━━━━━━━━━━━━\u001b[0m \u001b[32m211.5/211.5 MB\u001b[0m \u001b[31m7.2 MB/s\u001b[0m eta \u001b[36m0:00:00\u001b[0m\n",
            "\u001b[?25hDownloading nvidia_curand_cu12-10.3.5.147-py3-none-manylinux2014_x86_64.whl (56.3 MB)\n",
            "\u001b[2K   \u001b[90m━━━━━━━━━━━━━━━━━━━━━━━━━━━━━━━━━━━━━━━━\u001b[0m \u001b[32m56.3/56.3 MB\u001b[0m \u001b[31m11.4 MB/s\u001b[0m eta \u001b[36m0:00:00\u001b[0m\n",
            "\u001b[?25hDownloading nvidia_cusolver_cu12-11.6.1.9-py3-none-manylinux2014_x86_64.whl (127.9 MB)\n",
            "\u001b[2K   \u001b[90m━━━━━━━━━━━━━━━━━━━━━━━━━━━━━━━━━━━━━━━━\u001b[0m \u001b[32m127.9/127.9 MB\u001b[0m \u001b[31m9.5 MB/s\u001b[0m eta \u001b[36m0:00:00\u001b[0m\n",
            "\u001b[?25hDownloading nvidia_cusparse_cu12-12.3.1.170-py3-none-manylinux2014_x86_64.whl (207.5 MB)\n",
            "\u001b[2K   \u001b[90m━━━━━━━━━━━━━━━━━━━━━━━━━━━━━━━━━━━━━━━━\u001b[0m \u001b[32m207.5/207.5 MB\u001b[0m \u001b[31m2.4 MB/s\u001b[0m eta \u001b[36m0:00:00\u001b[0m\n",
            "\u001b[?25hDownloading nvidia_nvjitlink_cu12-12.4.127-py3-none-manylinux2014_x86_64.whl (21.1 MB)\n",
            "\u001b[2K   \u001b[90m━━━━━━━━━━━━━━━━━━━━━━━━━━━━━━━━━━━━━━━━\u001b[0m \u001b[32m21.1/21.1 MB\u001b[0m \u001b[31m54.6 MB/s\u001b[0m eta \u001b[36m0:00:00\u001b[0m\n",
            "\u001b[?25hDownloading ultralytics_thop-2.0.14-py3-none-any.whl (26 kB)\n",
            "Installing collected packages: nvidia-nvjitlink-cu12, nvidia-curand-cu12, nvidia-cufft-cu12, nvidia-cuda-runtime-cu12, nvidia-cuda-nvrtc-cu12, nvidia-cuda-cupti-cu12, nvidia-cublas-cu12, nvidia-cusparse-cu12, nvidia-cudnn-cu12, nvidia-cusolver-cu12, ultralytics-thop, ultralytics\n",
            "  Attempting uninstall: nvidia-nvjitlink-cu12\n",
            "    Found existing installation: nvidia-nvjitlink-cu12 12.5.82\n",
            "    Uninstalling nvidia-nvjitlink-cu12-12.5.82:\n",
            "      Successfully uninstalled nvidia-nvjitlink-cu12-12.5.82\n",
            "  Attempting uninstall: nvidia-curand-cu12\n",
            "    Found existing installation: nvidia-curand-cu12 10.3.6.82\n",
            "    Uninstalling nvidia-curand-cu12-10.3.6.82:\n",
            "      Successfully uninstalled nvidia-curand-cu12-10.3.6.82\n",
            "  Attempting uninstall: nvidia-cufft-cu12\n",
            "    Found existing installation: nvidia-cufft-cu12 11.2.3.61\n",
            "    Uninstalling nvidia-cufft-cu12-11.2.3.61:\n",
            "      Successfully uninstalled nvidia-cufft-cu12-11.2.3.61\n",
            "  Attempting uninstall: nvidia-cuda-runtime-cu12\n",
            "    Found existing installation: nvidia-cuda-runtime-cu12 12.5.82\n",
            "    Uninstalling nvidia-cuda-runtime-cu12-12.5.82:\n",
            "      Successfully uninstalled nvidia-cuda-runtime-cu12-12.5.82\n",
            "  Attempting uninstall: nvidia-cuda-nvrtc-cu12\n",
            "    Found existing installation: nvidia-cuda-nvrtc-cu12 12.5.82\n",
            "    Uninstalling nvidia-cuda-nvrtc-cu12-12.5.82:\n",
            "      Successfully uninstalled nvidia-cuda-nvrtc-cu12-12.5.82\n",
            "  Attempting uninstall: nvidia-cuda-cupti-cu12\n",
            "    Found existing installation: nvidia-cuda-cupti-cu12 12.5.82\n",
            "    Uninstalling nvidia-cuda-cupti-cu12-12.5.82:\n",
            "      Successfully uninstalled nvidia-cuda-cupti-cu12-12.5.82\n",
            "  Attempting uninstall: nvidia-cublas-cu12\n",
            "    Found existing installation: nvidia-cublas-cu12 12.5.3.2\n",
            "    Uninstalling nvidia-cublas-cu12-12.5.3.2:\n",
            "      Successfully uninstalled nvidia-cublas-cu12-12.5.3.2\n",
            "  Attempting uninstall: nvidia-cusparse-cu12\n",
            "    Found existing installation: nvidia-cusparse-cu12 12.5.1.3\n",
            "    Uninstalling nvidia-cusparse-cu12-12.5.1.3:\n",
            "      Successfully uninstalled nvidia-cusparse-cu12-12.5.1.3\n",
            "  Attempting uninstall: nvidia-cudnn-cu12\n",
            "    Found existing installation: nvidia-cudnn-cu12 9.3.0.75\n",
            "    Uninstalling nvidia-cudnn-cu12-9.3.0.75:\n",
            "      Successfully uninstalled nvidia-cudnn-cu12-9.3.0.75\n",
            "  Attempting uninstall: nvidia-cusolver-cu12\n",
            "    Found existing installation: nvidia-cusolver-cu12 11.6.3.83\n",
            "    Uninstalling nvidia-cusolver-cu12-11.6.3.83:\n",
            "      Successfully uninstalled nvidia-cusolver-cu12-11.6.3.83\n",
            "Successfully installed nvidia-cublas-cu12-12.4.5.8 nvidia-cuda-cupti-cu12-12.4.127 nvidia-cuda-nvrtc-cu12-12.4.127 nvidia-cuda-runtime-cu12-12.4.127 nvidia-cudnn-cu12-9.1.0.70 nvidia-cufft-cu12-11.2.1.3 nvidia-curand-cu12-10.3.5.147 nvidia-cusolver-cu12-11.6.1.9 nvidia-cusparse-cu12-12.3.1.170 nvidia-nvjitlink-cu12-12.4.127 ultralytics-8.3.156 ultralytics-thop-2.0.14\n"
          ]
        }
      ]
    },
    {
      "cell_type": "markdown",
      "source": [
        "## Import Library"
      ],
      "metadata": {
        "id": "Kk1UhX5Js6YV"
      }
    },
    {
      "cell_type": "code",
      "source": [
        "from collections import Counter\n",
        "from ultralytics import YOLO\n",
        "from PIL import Image\n",
        "from google.colab import files\n",
        "from IPython.display import Image, display\n",
        "import os\n",
        "import matplotlib.pyplot as plt\n",
        "import random\n",
        "import shutil\n",
        "import pandas as pd\n",
        "import seaborn as sns\n",
        "sns.set(style='whitegrid')"
      ],
      "metadata": {
        "id": "yprJK0bgs1zn"
      },
      "execution_count": null,
      "outputs": []
    },
    {
      "cell_type": "markdown",
      "source": [
        "# Exploratory Data Analysis"
      ],
      "metadata": {
        "id": "0rZsZ-iKslJM"
      }
    },
    {
      "cell_type": "markdown",
      "source": [
        "## DIstribusi Data"
      ],
      "metadata": {
        "id": "BRezvEAJstWv"
      }
    },
    {
      "cell_type": "code",
      "source": [
        "def count_classes(label_dir):\n",
        "    class_counts = Counter()\n",
        "\n",
        "    for file in os.listdir(label_dir):\n",
        "\n",
        "        if file.endswith(\".txt\"):\n",
        "\n",
        "            with open(os.path.join(label_dir, file), 'r') as f:\n",
        "\n",
        "                lines = f.readlines()\n",
        "\n",
        "                for line in lines:\n",
        "\n",
        "                    cls_id = int(line.strip().split()[0])\n",
        "\n",
        "                    class_counts[cls_id] += 1\n",
        "\n",
        "    return class_counts\n",
        "\n",
        "label_dir = '/content/dataset/labels'\n",
        "\n",
        "print(\"Label Class Count:\", count_classes(label_dir))\n",
        "\n",
        "\n",
        "\n",
        "# Hitung distribusi\n",
        "class_counts = count_classes(label_dir)\n",
        "\n",
        "class_ids = list(class_counts.keys())\n",
        "\n",
        "counts = list(class_counts.values())\n",
        "\n",
        "\n",
        "\n",
        "# Plot\n",
        "plt.figure(figsize=(8, 5))\n",
        "\n",
        "plt.bar(class_ids, counts, color='skyblue')\n",
        "\n",
        "plt.xlabel('Class ID')\n",
        "\n",
        "plt.ylabel('Jumlah Bounding Box')\n",
        "\n",
        "plt.title('Distribusi Kelas Label YOLO')\n",
        "\n",
        "plt.xticks(class_ids)\n",
        "\n",
        "plt.grid(axis='y', linestyle='--', alpha=0.7)\n",
        "\n",
        "plt.show()"
      ],
      "metadata": {
        "id": "8sABytxlPNI6"
      },
      "execution_count": null,
      "outputs": []
    },
    {
      "cell_type": "code",
      "source": [
        "# Melihat ukuran data paling kecil(minimum)\n",
        "\n",
        "dataset = '/content/dataset/images'\n",
        "\n",
        "\n",
        "img_size = []\n",
        "\n",
        "for filename in os.listdir(dataset):\n",
        "\n",
        "  if filename.endswith(('.jpg', '.png', '.jpeg')):\n",
        "\n",
        "    img_path = os.path.join(dataset, filename)\n",
        "\n",
        "    try:\n",
        "      with Image.open(img_path) as img:\n",
        "\n",
        "        width, height = img.size\n",
        "\n",
        "        size_total = width * height\n",
        "\n",
        "        img_size.append({'filename':filename, 'width':width, 'height':height, 'size_total': size_total})\n",
        "\n",
        "    except Exception as e:\n",
        "\n",
        "      print(f'error reading {filename}: {e}')\n",
        "\n",
        "\n",
        "\n",
        "df_img_size = pd.DataFrame(img_size)\n",
        "\n",
        "smallest_img = df_img_size.loc[df_img_size['size_total'].idxmin()]\n",
        "\n",
        "smallest_img_path = os.path.join(dataset, smallest_img['filename'])\n",
        "\n",
        "print(f\"Gambar dengan ukuran terkecil: {smallest_img['filename']}\")\n",
        "\n",
        "print(f\"Ukuran: {smallest_img['width']} x {smallest_img['height']}\")\n",
        "\n",
        "\n",
        "\n",
        "with Image.open(smallest_img_path) as img:\n",
        "\n",
        "  plt.figure(figsize=(10,10))\n",
        "\n",
        "  plt.imshow(img)\n",
        "\n",
        "  plt.title(smallest_img['filename'])\n",
        "\n",
        "  plt.axis('off')\n",
        "\n",
        "  plt.show()"
      ],
      "metadata": {
        "id": "kSWvXtTkSJ2F"
      },
      "execution_count": null,
      "outputs": []
    },
    {
      "cell_type": "code",
      "source": [
        "# Visualisasi Distribusi Ukuran Gambar\n",
        "plt.figure(figsize=(12, 6))\n",
        "\n",
        "\n",
        "\n",
        "# lebar gambar\n",
        "plt.subplot(1, 2, 1)\n",
        "\n",
        "sns.histplot(data=df_img_size, x='width', bins=30, kde=True)\n",
        "\n",
        "plt.title('Distribusi Lebar Gambar')\n",
        "\n",
        "plt.xlabel('Lebar (Pixel)')\n",
        "\n",
        "plt.ylabel('Jumlah Gambar')\n",
        "\n",
        "\n",
        "\n",
        "\n",
        "# tinggi gambar\n",
        "plt.subplot(1, 2, 2)\n",
        "\n",
        "sns.histplot(data=df_img_size, x='height', bins=30, kde=True)\n",
        "\n",
        "plt.title('Distribusi Tinggi Gambar')\n",
        "\n",
        "plt.xlabel('Tinggi (Pixel)')\n",
        "\n",
        "plt.ylabel('Jumlah Gambar')\n",
        "\n",
        "plt.tight_layout()\n",
        "\n",
        "plt.show()"
      ],
      "metadata": {
        "id": "GGzRYZp3UvCm"
      },
      "execution_count": null,
      "outputs": []
    },
    {
      "cell_type": "code",
      "source": [
        "# Visualisasi Distribusi Ukuran Gambar\n",
        "df_img_size['size'] = df_img_size.apply(lambda row: f\"{row['width']}x{row['height']}\", axis=1)\n",
        "\n",
        "size_counts = df_img_size['size'].value_counts()\n",
        "\n",
        "\n",
        "\n",
        "# Plot\n",
        "plt.figure(figsize=(10, 6))\n",
        "\n",
        "sns.barplot(x=size_counts.index, y=size_counts.values)\n",
        "\n",
        "plt.title('Distribusi Ukuran Gambar')\n",
        "\n",
        "plt.xlabel('Ukuran (Lebar x Tinggi)')\n",
        "\n",
        "plt.ylabel('Jumlah Gambar')\n",
        "\n",
        "plt.xticks(rotation=45)\n",
        "\n",
        "plt.tight_layout()\n",
        "\n",
        "plt.show()"
      ],
      "metadata": {
        "id": "sswN2n0LVVjm"
      },
      "execution_count": null,
      "outputs": []
    },
    {
      "cell_type": "markdown",
      "source": [
        "# Preprocessing"
      ],
      "metadata": {
        "id": "WA29Ju4Qt6DO"
      }
    },
    {
      "cell_type": "markdown",
      "source": [
        "## Konfigurasi Data.yaml"
      ],
      "metadata": {
        "id": "5ikmvFzhvAz6"
      }
    },
    {
      "cell_type": "code",
      "source": [
        "# Membuat Konfigurasi Data.yaml\n",
        "\n",
        "# Baca isi classes pada dataset\n",
        "with open('/content/dataset/classes.txt', 'r') as f:\n",
        "\n",
        "    class_list = [line.strip() for line in f.readlines()]\n",
        "\n",
        "\n",
        "\n",
        "# Buat isi file data.yaml\n",
        "data_yaml = f\"\"\"\n",
        "train: /content/dataset/images/train\n",
        "val: /content/dataset/images/val\n",
        "\n",
        "nc: {len(class_list)}\n",
        "names: {class_list}\n",
        "\"\"\"\n",
        "\n",
        "\n",
        "\n",
        "# Simpan sebagai file data.yaml\n",
        "with open('data.yaml', 'w') as f:\n",
        "\n",
        "    f.write(data_yaml)\n",
        "\n",
        "print(\"File data.yaml berhasil dibuat!\")"
      ],
      "metadata": {
        "colab": {
          "base_uri": "https://localhost:8080/"
        },
        "id": "cRZOQM0qbAON",
        "outputId": "469c738b-a340-4e86-a262-01c568be83cd"
      },
      "execution_count": null,
      "outputs": [
        {
          "output_type": "stream",
          "name": "stdout",
          "text": [
            "File data.yaml berhasil dibuat!\n"
          ]
        }
      ]
    },
    {
      "cell_type": "markdown",
      "source": [
        "## Setting Hyperparameter"
      ],
      "metadata": {
        "id": "HUTshKbkvDpZ"
      }
    },
    {
      "cell_type": "code",
      "source": [
        "# Setting Hyperparameter\n",
        "\n",
        "bhypa_yaml = \"\"\"\n",
        "lr0: 0.001\n",
        "lrf: 0.001\n",
        "momentum: 0.8\n",
        "weight_decay: 0.0001\n",
        "box: 0.05\n",
        "cls: 0.7\n",
        "dfl: 0.75\n",
        "hsv_s: 0.7\n",
        "hsv_v: 0.3\n",
        "label_smoothing: 0.1\n",
        "scale: 0.2\n",
        "degrees: 5\n",
        "translate: 0.1\n",
        "fliplr: 0.5\n",
        "mosaic: 0.5\n",
        "mixup: 0.2\n",
        "copy_paste: 0.2\n",
        "\"\"\"\n",
        "\n",
        "\n",
        "with open(\"bhypa.yaml\", \"w\") as f:\n",
        "\n",
        "    f.write(bhypa_yaml.strip())\n",
        "\n",
        "print(\"File bhypa.yaml berhasil dibuat!\")"
      ],
      "metadata": {
        "colab": {
          "base_uri": "https://localhost:8080/"
        },
        "id": "jlxahUcuXXM6",
        "outputId": "9705facb-548f-4970-b2c6-d0428fd7ebe3"
      },
      "execution_count": null,
      "outputs": [
        {
          "output_type": "stream",
          "name": "stdout",
          "text": [
            "File bhypa.yaml berhasil dibuat!\n"
          ]
        }
      ]
    },
    {
      "cell_type": "markdown",
      "source": [
        "## Train Test Split Dataset"
      ],
      "metadata": {
        "id": "0Qr7xt0ivHRc"
      }
    },
    {
      "cell_type": "code",
      "source": [
        "# Train Test Split\n",
        "\n",
        "\n",
        "images_path = '/content/dataset/images'\n",
        "\n",
        "labels_path = '/content/dataset/labels'\n",
        "\n",
        "\n",
        "\n",
        "# Path ke folder split\n",
        "train_images = os.path.join(images_path, 'train')\n",
        "\n",
        "val_images = os.path.join(images_path, 'val')\n",
        "\n",
        "train_labels = os.path.join(labels_path, 'train')\n",
        "\n",
        "val_labels = os.path.join(labels_path, 'val')\n",
        "\n",
        "\n",
        "\n",
        "\n",
        "# Buat folder train/val jika belum ada\n",
        "os.makedirs(train_images, exist_ok=True)\n",
        "\n",
        "os.makedirs(val_images, exist_ok=True)\n",
        "\n",
        "os.makedirs(train_labels, exist_ok=True)\n",
        "\n",
        "os.makedirs(val_labels, exist_ok=True)\n",
        "\n",
        "\n",
        "\n",
        "\n",
        "\n",
        "# Ambil hanya file gambar (bukan folder)\n",
        "image_files = [\n",
        "\n",
        "    f for f in os.listdir(images_path)\n",
        "\n",
        "    if f.endswith(('.jpg', '.png')) and os.path.isfile(os.path.join(images_path, f))\n",
        "]\n",
        "\n",
        "\n",
        "\n",
        "\n",
        "# Acak dan split\n",
        "random.shuffle(image_files)\n",
        "\n",
        "split_ratio = 0.8 # 80%(train) : 20%(val)\n",
        "\n",
        "split_point = int(len(image_files) * split_ratio)\n",
        "\n",
        "train_files = image_files[:split_point]\n",
        "\n",
        "val_files = image_files[split_point:]\n",
        "\n",
        "\n",
        "\n",
        "\n",
        "# Fungsi copy\n",
        "def copy_data(files_list, src_img, src_lbl, dst_img, dst_lbl):\n",
        "\n",
        "    for file in files_list:\n",
        "\n",
        "        base = os.path.splitext(file)[0]\n",
        "\n",
        "        img_file = os.path.join(src_img, file)\n",
        "\n",
        "        lbl_file = os.path.join(src_lbl, base + '.txt')\n",
        "\n",
        "        if os.path.exists(img_file):\n",
        "\n",
        "            shutil.copy(img_file, os.path.join(dst_img, file))\n",
        "\n",
        "        if os.path.exists(lbl_file):\n",
        "\n",
        "            shutil.copy(lbl_file, os.path.join(dst_lbl, base + '.txt'))\n",
        "\n",
        "\n",
        "\n",
        "\n",
        "\n",
        "# Eksekusi copy\n",
        "copy_data(train_files, images_path, labels_path, train_images, train_labels)\n",
        "\n",
        "copy_data(val_files, images_path, labels_path, val_images, val_labels)\n",
        "\n",
        "print(f\"Split selesai! Total: {len(train_files)} train, {len(val_files)} val\")"
      ],
      "metadata": {
        "colab": {
          "base_uri": "https://localhost:8080/"
        },
        "id": "8m3NIbBMZSiU",
        "outputId": "05184a2a-d114-45a3-e718-0f38b064af80"
      },
      "execution_count": null,
      "outputs": [
        {
          "output_type": "stream",
          "name": "stdout",
          "text": [
            "Split selesai! Total: 161 train, 41 val\n"
          ]
        }
      ]
    },
    {
      "cell_type": "markdown",
      "source": [
        "# Train Model"
      ],
      "metadata": {
        "id": "dU3D5HfNvKst"
      }
    },
    {
      "cell_type": "code",
      "source": [
        "# Load pretrained model\n",
        "model = YOLO(\"yolov8s.pt\")\n",
        "\n",
        "\n",
        "results = model.train(\n",
        "\n",
        "    data=\"/content/dataset/data.yaml\",\n",
        "\n",
        "    epochs=100,\n",
        "\n",
        "    imgsz=640,\n",
        "\n",
        "    batch=16,\n",
        "\n",
        "    cfg=\"bhypa.yaml\",\n",
        "\n",
        "    name=\"gridSearch\"\n",
        "\n",
        "    )"
      ],
      "metadata": {
        "colab": {
          "base_uri": "https://localhost:8080/"
        },
        "id": "aApambrnZ6N7",
        "outputId": "8467d353-156d-49f8-8b0e-738c4c63bbc3",
        "collapsed": true
      },
      "execution_count": null,
      "outputs": [
        {
          "output_type": "stream",
          "name": "stdout",
          "text": [
            "Downloading https://github.com/ultralytics/assets/releases/download/v8.3.0/yolov8x.pt to 'yolov8x.pt'...\n"
          ]
        },
        {
          "output_type": "stream",
          "name": "stderr",
          "text": [
            "100%|██████████| 131M/131M [00:00<00:00, 229MB/s]\n"
          ]
        },
        {
          "output_type": "stream",
          "name": "stdout",
          "text": [
            "YOLOv8x summary: 209 layers, 68,229,648 parameters, 0 gradients, 258.5 GFLOPs\n",
            "WARNING ⚠️ 'label_smoothing' is deprecated and will be removed in in the future.\n",
            "Ultralytics 8.3.156 🚀 Python-3.11.13 torch-2.6.0+cu124 CUDA:0 (Tesla T4, 15095MiB)\n",
            "\u001b[34m\u001b[1mengine/trainer: \u001b[0magnostic_nms=False, amp=True, augment=False, auto_augment=randaugment, batch=16, bgr=0.0, box=0.05, cache=False, cfg=bhypa_new.yaml, classes=None, close_mosaic=10, cls=0.7, conf=None, copy_paste=0.2, copy_paste_mode=flip, cos_lr=False, cutmix=0.0, data=/content/dataset/data.yaml, degrees=5, deterministic=True, device=None, dfl=0.75, dnn=False, dropout=0.0, dynamic=False, embed=None, epochs=100, erasing=0.4, exist_ok=False, fliplr=0.3, flipud=0.0, format=torchscript, fraction=1.0, freeze=None, half=False, hsv_h=0.015, hsv_s=0.7, hsv_v=0.3, imgsz=640, int8=False, iou=0.7, keras=False, kobj=1.0, line_width=None, lr0=0.001, lrf=0.001, mask_ratio=4, max_det=300, mixup=0.2, mode=train, model=yolov8x.pt, momentum=0.8, mosaic=0.5, multi_scale=False, name=CobaBestParamNew2, nbs=64, nms=False, opset=None, optimize=False, optimizer=auto, overlap_mask=True, patience=100, perspective=0.0, plots=True, pose=12.0, pretrained=True, profile=False, project=None, rect=False, resume=False, retina_masks=False, save=True, save_conf=False, save_crop=False, save_dir=runs/detect/CobaBestParamNew2, save_frames=False, save_json=False, save_period=-1, save_txt=False, scale=0.2, seed=0, shear=0.0, show=False, show_boxes=True, show_conf=True, show_labels=True, simplify=True, single_cls=False, source=None, split=val, stream_buffer=False, task=detect, time=None, tracker=botsort.yaml, translate=0.1, val=True, verbose=True, vid_stride=1, visualize=False, warmup_bias_lr=0.1, warmup_epochs=3.0, warmup_momentum=0.8, weight_decay=0.0001, workers=8, workspace=None\n",
            "Overriding model.yaml nc=80 with nc=2\n",
            "\n",
            "                   from  n    params  module                                       arguments                     \n",
            "  0                  -1  1      2320  ultralytics.nn.modules.conv.Conv             [3, 80, 3, 2]                 \n",
            "  1                  -1  1    115520  ultralytics.nn.modules.conv.Conv             [80, 160, 3, 2]               \n",
            "  2                  -1  3    436800  ultralytics.nn.modules.block.C2f             [160, 160, 3, True]           \n",
            "  3                  -1  1    461440  ultralytics.nn.modules.conv.Conv             [160, 320, 3, 2]              \n",
            "  4                  -1  6   3281920  ultralytics.nn.modules.block.C2f             [320, 320, 6, True]           \n",
            "  5                  -1  1   1844480  ultralytics.nn.modules.conv.Conv             [320, 640, 3, 2]              \n",
            "  6                  -1  6  13117440  ultralytics.nn.modules.block.C2f             [640, 640, 6, True]           \n",
            "  7                  -1  1   3687680  ultralytics.nn.modules.conv.Conv             [640, 640, 3, 2]              \n",
            "  8                  -1  3   6969600  ultralytics.nn.modules.block.C2f             [640, 640, 3, True]           \n",
            "  9                  -1  1   1025920  ultralytics.nn.modules.block.SPPF            [640, 640, 5]                 \n",
            " 10                  -1  1         0  torch.nn.modules.upsampling.Upsample         [None, 2, 'nearest']          \n",
            " 11             [-1, 6]  1         0  ultralytics.nn.modules.conv.Concat           [1]                           \n",
            " 12                  -1  3   7379200  ultralytics.nn.modules.block.C2f             [1280, 640, 3]                \n",
            " 13                  -1  1         0  torch.nn.modules.upsampling.Upsample         [None, 2, 'nearest']          \n",
            " 14             [-1, 4]  1         0  ultralytics.nn.modules.conv.Concat           [1]                           \n",
            " 15                  -1  3   1948800  ultralytics.nn.modules.block.C2f             [960, 320, 3]                 \n",
            " 16                  -1  1    922240  ultralytics.nn.modules.conv.Conv             [320, 320, 3, 2]              \n",
            " 17            [-1, 12]  1         0  ultralytics.nn.modules.conv.Concat           [1]                           \n",
            " 18                  -1  3   7174400  ultralytics.nn.modules.block.C2f             [960, 640, 3]                 \n",
            " 19                  -1  1   3687680  ultralytics.nn.modules.conv.Conv             [640, 640, 3, 2]              \n",
            " 20             [-1, 9]  1         0  ultralytics.nn.modules.conv.Concat           [1]                           \n",
            " 21                  -1  3   7379200  ultralytics.nn.modules.block.C2f             [1280, 640, 3]                \n",
            " 22        [15, 18, 21]  1   8719894  ultralytics.nn.modules.head.Detect           [2, [320, 640, 640]]          \n",
            "Model summary: 209 layers, 68,154,534 parameters, 68,154,518 gradients, 258.1 GFLOPs\n",
            "\n",
            "Transferred 589/595 items from pretrained weights\n",
            "Freezing layer 'model.22.dfl.conv.weight'\n",
            "\u001b[34m\u001b[1mAMP: \u001b[0mrunning Automatic Mixed Precision (AMP) checks...\n",
            "\u001b[34m\u001b[1mAMP: \u001b[0mchecks passed ✅\n",
            "\u001b[34m\u001b[1mtrain: \u001b[0mFast image access ✅ (ping: 0.0±0.0 ms, read: 1249.0±260.0 MB/s, size: 94.5 KB)\n"
          ]
        },
        {
          "output_type": "stream",
          "name": "stderr",
          "text": [
            "\u001b[34m\u001b[1mtrain: \u001b[0mScanning /content/dataset/labels/train.cache... 161 images, 0 backgrounds, 0 corrupt: 100%|██████████| 161/161 [00:00<?, ?it/s]"
          ]
        },
        {
          "output_type": "stream",
          "name": "stdout",
          "text": [
            "\u001b[34m\u001b[1malbumentations: \u001b[0mBlur(p=0.01, blur_limit=(3, 7)), MedianBlur(p=0.01, blur_limit=(3, 7)), ToGray(p=0.01, method='weighted_average', num_output_channels=3), CLAHE(p=0.01, clip_limit=(1.0, 4.0), tile_grid_size=(8, 8))\n"
          ]
        },
        {
          "output_type": "stream",
          "name": "stderr",
          "text": [
            "\n"
          ]
        },
        {
          "output_type": "stream",
          "name": "stdout",
          "text": [
            "\u001b[34m\u001b[1mval: \u001b[0mFast image access ✅ (ping: 0.0±0.0 ms, read: 467.2±53.0 MB/s, size: 96.6 KB)\n"
          ]
        },
        {
          "output_type": "stream",
          "name": "stderr",
          "text": [
            "\u001b[34m\u001b[1mval: \u001b[0mScanning /content/dataset/labels/val.cache... 41 images, 0 backgrounds, 0 corrupt: 100%|██████████| 41/41 [00:00<?, ?it/s]\n"
          ]
        },
        {
          "output_type": "stream",
          "name": "stdout",
          "text": [
            "Plotting labels to runs/detect/CobaBestParamNew2/labels.jpg... \n",
            "\u001b[34m\u001b[1moptimizer:\u001b[0m 'optimizer=auto' found, ignoring 'lr0=0.001' and 'momentum=0.8' and determining best 'optimizer', 'lr0' and 'momentum' automatically... \n",
            "\u001b[34m\u001b[1moptimizer:\u001b[0m AdamW(lr=0.001667, momentum=0.9) with parameter groups 97 weight(decay=0.0), 104 weight(decay=0.0001), 103 bias(decay=0.0)\n",
            "Image sizes 640 train, 640 val\n",
            "Using 2 dataloader workers\n",
            "Logging results to \u001b[1mruns/detect/CobaBestParamNew2\u001b[0m\n",
            "Starting training for 100 epochs...\n",
            "\n",
            "      Epoch    GPU_mem   box_loss   cls_loss   dfl_loss  Instances       Size\n"
          ]
        },
        {
          "output_type": "stream",
          "name": "stderr",
          "text": [
            "      1/100      11.9G    0.01376      4.769      1.206          6        640: 100%|██████████| 11/11 [00:13<00:00,  1.18s/it]\n",
            "                 Class     Images  Instances      Box(P          R      mAP50  mAP50-95): 100%|██████████| 2/2 [00:01<00:00,  1.55it/s]"
          ]
        },
        {
          "output_type": "stream",
          "name": "stdout",
          "text": [
            "                   all         41         93      0.002       0.24    0.00147     0.0004\n"
          ]
        },
        {
          "output_type": "stream",
          "name": "stderr",
          "text": [
            "\n"
          ]
        },
        {
          "output_type": "stream",
          "name": "stdout",
          "text": [
            "\n",
            "      Epoch    GPU_mem   box_loss   cls_loss   dfl_loss  Instances       Size\n"
          ]
        },
        {
          "output_type": "stream",
          "name": "stderr",
          "text": [
            "      2/100      12.3G    0.01615      4.667      1.311          6        640: 100%|██████████| 11/11 [00:12<00:00,  1.15s/it]\n",
            "                 Class     Images  Instances      Box(P          R      mAP50  mAP50-95): 100%|██████████| 2/2 [00:01<00:00,  1.48it/s]"
          ]
        },
        {
          "output_type": "stream",
          "name": "stdout",
          "text": [
            "                   all         41         93   0.000697     0.0933   0.000386   9.58e-05\n"
          ]
        },
        {
          "output_type": "stream",
          "name": "stderr",
          "text": [
            "\n"
          ]
        },
        {
          "output_type": "stream",
          "name": "stdout",
          "text": [
            "\n",
            "      Epoch    GPU_mem   box_loss   cls_loss   dfl_loss  Instances       Size\n"
          ]
        },
        {
          "output_type": "stream",
          "name": "stderr",
          "text": [
            "      3/100      12.6G    0.01834      4.703      1.417          6        640: 100%|██████████| 11/11 [00:12<00:00,  1.14s/it]\n",
            "                 Class     Images  Instances      Box(P          R      mAP50  mAP50-95): 100%|██████████| 2/2 [00:01<00:00,  1.48it/s]"
          ]
        },
        {
          "output_type": "stream",
          "name": "stdout",
          "text": [
            "                   all         41         93    0.00402     0.0533    0.00119    0.00033\n"
          ]
        },
        {
          "output_type": "stream",
          "name": "stderr",
          "text": [
            "\n"
          ]
        },
        {
          "output_type": "stream",
          "name": "stdout",
          "text": [
            "\n",
            "      Epoch    GPU_mem   box_loss   cls_loss   dfl_loss  Instances       Size\n"
          ]
        },
        {
          "output_type": "stream",
          "name": "stderr",
          "text": [
            "      4/100      12.2G    0.01903      4.875      1.458          1        640: 100%|██████████| 11/11 [00:12<00:00,  1.14s/it]\n",
            "                 Class     Images  Instances      Box(P          R      mAP50  mAP50-95): 100%|██████████| 2/2 [00:01<00:00,  1.36it/s]"
          ]
        },
        {
          "output_type": "stream",
          "name": "stdout",
          "text": [
            "                   all         41         93          0          0          0          0\n"
          ]
        },
        {
          "output_type": "stream",
          "name": "stderr",
          "text": [
            "\n"
          ]
        },
        {
          "output_type": "stream",
          "name": "stdout",
          "text": [
            "\n",
            "      Epoch    GPU_mem   box_loss   cls_loss   dfl_loss  Instances       Size\n"
          ]
        },
        {
          "output_type": "stream",
          "name": "stderr",
          "text": [
            "      5/100      12.5G    0.01853      4.789      1.442          3        640: 100%|██████████| 11/11 [00:12<00:00,  1.14s/it]\n",
            "                 Class     Images  Instances      Box(P          R      mAP50  mAP50-95): 100%|██████████| 2/2 [00:01<00:00,  1.67it/s]"
          ]
        },
        {
          "output_type": "stream",
          "name": "stdout",
          "text": [
            "                   all         41         93          0          0          0          0\n"
          ]
        },
        {
          "output_type": "stream",
          "name": "stderr",
          "text": [
            "\n"
          ]
        },
        {
          "output_type": "stream",
          "name": "stdout",
          "text": [
            "\n",
            "      Epoch    GPU_mem   box_loss   cls_loss   dfl_loss  Instances       Size\n"
          ]
        },
        {
          "output_type": "stream",
          "name": "stderr",
          "text": [
            "      6/100      12.5G    0.01826      4.725      1.436          6        640: 100%|██████████| 11/11 [00:12<00:00,  1.15s/it]\n",
            "                 Class     Images  Instances      Box(P          R      mAP50  mAP50-95): 100%|██████████| 2/2 [00:01<00:00,  1.61it/s]"
          ]
        },
        {
          "output_type": "stream",
          "name": "stdout",
          "text": [
            "                   all         41         93          0          0          0          0\n"
          ]
        },
        {
          "output_type": "stream",
          "name": "stderr",
          "text": [
            "\n"
          ]
        },
        {
          "output_type": "stream",
          "name": "stdout",
          "text": [
            "\n",
            "      Epoch    GPU_mem   box_loss   cls_loss   dfl_loss  Instances       Size\n"
          ]
        },
        {
          "output_type": "stream",
          "name": "stderr",
          "text": [
            "      7/100      12.3G    0.01821      4.827      1.443          1        640: 100%|██████████| 11/11 [00:12<00:00,  1.14s/it]\n",
            "                 Class     Images  Instances      Box(P          R      mAP50  mAP50-95): 100%|██████████| 2/2 [00:01<00:00,  1.69it/s]"
          ]
        },
        {
          "output_type": "stream",
          "name": "stdout",
          "text": [
            "                   all         41         93          0          0          0          0\n"
          ]
        },
        {
          "output_type": "stream",
          "name": "stderr",
          "text": [
            "\n"
          ]
        },
        {
          "output_type": "stream",
          "name": "stdout",
          "text": [
            "\n",
            "      Epoch    GPU_mem   box_loss   cls_loss   dfl_loss  Instances       Size\n"
          ]
        },
        {
          "output_type": "stream",
          "name": "stderr",
          "text": [
            "      8/100      12.5G    0.01862      4.801      1.459          8        640: 100%|██████████| 11/11 [00:12<00:00,  1.14s/it]\n",
            "                 Class     Images  Instances      Box(P          R      mAP50  mAP50-95): 100%|██████████| 2/2 [00:01<00:00,  1.62it/s]"
          ]
        },
        {
          "output_type": "stream",
          "name": "stdout",
          "text": [
            "                   all         41         93          0          0          0          0\n"
          ]
        },
        {
          "output_type": "stream",
          "name": "stderr",
          "text": [
            "\n"
          ]
        },
        {
          "output_type": "stream",
          "name": "stdout",
          "text": [
            "\n",
            "      Epoch    GPU_mem   box_loss   cls_loss   dfl_loss  Instances       Size\n"
          ]
        },
        {
          "output_type": "stream",
          "name": "stderr",
          "text": [
            "      9/100      12.3G    0.01812       4.85      1.445          4        640: 100%|██████████| 11/11 [00:12<00:00,  1.13s/it]\n",
            "                 Class     Images  Instances      Box(P          R      mAP50  mAP50-95): 100%|██████████| 2/2 [00:01<00:00,  1.67it/s]"
          ]
        },
        {
          "output_type": "stream",
          "name": "stdout",
          "text": [
            "                   all         41         93          0          0          0          0\n"
          ]
        },
        {
          "output_type": "stream",
          "name": "stderr",
          "text": [
            "\n"
          ]
        },
        {
          "output_type": "stream",
          "name": "stdout",
          "text": [
            "\n",
            "      Epoch    GPU_mem   box_loss   cls_loss   dfl_loss  Instances       Size\n"
          ]
        },
        {
          "output_type": "stream",
          "name": "stderr",
          "text": [
            "     10/100      12.5G     0.0183      4.798      1.443          8        640: 100%|██████████| 11/11 [00:12<00:00,  1.15s/it]\n",
            "                 Class     Images  Instances      Box(P          R      mAP50  mAP50-95): 100%|██████████| 2/2 [00:01<00:00,  1.67it/s]"
          ]
        },
        {
          "output_type": "stream",
          "name": "stdout",
          "text": [
            "                   all         41         93          0          0          0          0\n"
          ]
        },
        {
          "output_type": "stream",
          "name": "stderr",
          "text": [
            "\n"
          ]
        },
        {
          "output_type": "stream",
          "name": "stdout",
          "text": [
            "\n",
            "      Epoch    GPU_mem   box_loss   cls_loss   dfl_loss  Instances       Size\n"
          ]
        },
        {
          "output_type": "stream",
          "name": "stderr",
          "text": [
            "     11/100      12.6G    0.01769      4.764      1.421          3        640: 100%|██████████| 11/11 [00:12<00:00,  1.13s/it]\n",
            "                 Class     Images  Instances      Box(P          R      mAP50  mAP50-95): 100%|██████████| 2/2 [00:01<00:00,  1.64it/s]"
          ]
        },
        {
          "output_type": "stream",
          "name": "stdout",
          "text": [
            "                   all         41         93          0          0          0          0\n"
          ]
        },
        {
          "output_type": "stream",
          "name": "stderr",
          "text": [
            "\n"
          ]
        },
        {
          "output_type": "stream",
          "name": "stdout",
          "text": [
            "\n",
            "      Epoch    GPU_mem   box_loss   cls_loss   dfl_loss  Instances       Size\n"
          ]
        },
        {
          "output_type": "stream",
          "name": "stderr",
          "text": [
            "     12/100      12.5G    0.01755      4.815      1.398          2        640: 100%|██████████| 11/11 [00:12<00:00,  1.15s/it]\n",
            "                 Class     Images  Instances      Box(P          R      mAP50  mAP50-95): 100%|██████████| 2/2 [00:01<00:00,  1.58it/s]"
          ]
        },
        {
          "output_type": "stream",
          "name": "stdout",
          "text": [
            "                   all         41         93       0.05       0.01    0.00801     0.0016\n"
          ]
        },
        {
          "output_type": "stream",
          "name": "stderr",
          "text": [
            "\n"
          ]
        },
        {
          "output_type": "stream",
          "name": "stdout",
          "text": [
            "\n",
            "      Epoch    GPU_mem   box_loss   cls_loss   dfl_loss  Instances       Size\n"
          ]
        },
        {
          "output_type": "stream",
          "name": "stderr",
          "text": [
            "     13/100      12.3G    0.01816      5.007       1.46          1        640: 100%|██████████| 11/11 [00:12<00:00,  1.13s/it]\n",
            "                 Class     Images  Instances      Box(P          R      mAP50  mAP50-95): 100%|██████████| 2/2 [00:01<00:00,  1.44it/s]"
          ]
        },
        {
          "output_type": "stream",
          "name": "stdout",
          "text": [
            "                   all         41         93    0.00502      0.171    0.00319    0.00072\n"
          ]
        },
        {
          "output_type": "stream",
          "name": "stderr",
          "text": [
            "\n"
          ]
        },
        {
          "output_type": "stream",
          "name": "stdout",
          "text": [
            "\n",
            "      Epoch    GPU_mem   box_loss   cls_loss   dfl_loss  Instances       Size\n"
          ]
        },
        {
          "output_type": "stream",
          "name": "stderr",
          "text": [
            "     14/100      12.6G    0.01713      4.761      1.378          2        640: 100%|██████████| 11/11 [00:12<00:00,  1.13s/it]\n",
            "                 Class     Images  Instances      Box(P          R      mAP50  mAP50-95): 100%|██████████| 2/2 [00:01<00:00,  1.51it/s]"
          ]
        },
        {
          "output_type": "stream",
          "name": "stdout",
          "text": [
            "                   all         41         93    0.00421      0.151    0.00277   0.000692\n"
          ]
        },
        {
          "output_type": "stream",
          "name": "stderr",
          "text": [
            "\n"
          ]
        },
        {
          "output_type": "stream",
          "name": "stdout",
          "text": [
            "\n",
            "      Epoch    GPU_mem   box_loss   cls_loss   dfl_loss  Instances       Size\n"
          ]
        },
        {
          "output_type": "stream",
          "name": "stderr",
          "text": [
            "     15/100      12.5G    0.01729      4.775      1.424         10        640: 100%|██████████| 11/11 [00:12<00:00,  1.15s/it]\n",
            "                 Class     Images  Instances      Box(P          R      mAP50  mAP50-95): 100%|██████████| 2/2 [00:01<00:00,  1.41it/s]"
          ]
        },
        {
          "output_type": "stream",
          "name": "stdout",
          "text": [
            "                   all         41         93    0.00168      0.138   0.000948   0.000224\n"
          ]
        },
        {
          "output_type": "stream",
          "name": "stderr",
          "text": [
            "\n"
          ]
        },
        {
          "output_type": "stream",
          "name": "stdout",
          "text": [
            "\n",
            "      Epoch    GPU_mem   box_loss   cls_loss   dfl_loss  Instances       Size\n"
          ]
        },
        {
          "output_type": "stream",
          "name": "stderr",
          "text": [
            "     16/100      12.5G    0.01742      4.684      1.425          5        640: 100%|██████████| 11/11 [00:12<00:00,  1.15s/it]\n",
            "                 Class     Images  Instances      Box(P          R      mAP50  mAP50-95): 100%|██████████| 2/2 [00:01<00:00,  1.52it/s]"
          ]
        },
        {
          "output_type": "stream",
          "name": "stdout",
          "text": [
            "                   all         41         93     0.0454       0.03     0.0115    0.00201\n"
          ]
        },
        {
          "output_type": "stream",
          "name": "stderr",
          "text": [
            "\n"
          ]
        },
        {
          "output_type": "stream",
          "name": "stdout",
          "text": [
            "\n",
            "      Epoch    GPU_mem   box_loss   cls_loss   dfl_loss  Instances       Size\n"
          ]
        },
        {
          "output_type": "stream",
          "name": "stderr",
          "text": [
            "     17/100      12.3G    0.01721      4.762      1.404          2        640: 100%|██████████| 11/11 [00:12<00:00,  1.11s/it]\n",
            "                 Class     Images  Instances      Box(P          R      mAP50  mAP50-95): 100%|██████████| 2/2 [00:01<00:00,  1.46it/s]"
          ]
        },
        {
          "output_type": "stream",
          "name": "stdout",
          "text": [
            "                   all         41         93      0.639       0.05     0.0535     0.0229\n"
          ]
        },
        {
          "output_type": "stream",
          "name": "stderr",
          "text": [
            "\n"
          ]
        },
        {
          "output_type": "stream",
          "name": "stdout",
          "text": [
            "\n",
            "      Epoch    GPU_mem   box_loss   cls_loss   dfl_loss  Instances       Size\n"
          ]
        },
        {
          "output_type": "stream",
          "name": "stderr",
          "text": [
            "     18/100      12.5G    0.01752      4.897      1.408          2        640: 100%|██████████| 11/11 [00:12<00:00,  1.14s/it]\n",
            "                 Class     Images  Instances      Box(P          R      mAP50  mAP50-95): 100%|██████████| 2/2 [00:01<00:00,  1.44it/s]"
          ]
        },
        {
          "output_type": "stream",
          "name": "stdout",
          "text": [
            "                   all         41         93     0.0561        0.1     0.0282     0.0131\n"
          ]
        },
        {
          "output_type": "stream",
          "name": "stderr",
          "text": [
            "\n"
          ]
        },
        {
          "output_type": "stream",
          "name": "stdout",
          "text": [
            "\n",
            "      Epoch    GPU_mem   box_loss   cls_loss   dfl_loss  Instances       Size\n"
          ]
        },
        {
          "output_type": "stream",
          "name": "stderr",
          "text": [
            "     19/100      12.5G    0.01684      4.775      1.378          6        640: 100%|██████████| 11/11 [00:12<00:00,  1.16s/it]\n",
            "                 Class     Images  Instances      Box(P          R      mAP50  mAP50-95): 100%|██████████| 2/2 [00:01<00:00,  1.43it/s]"
          ]
        },
        {
          "output_type": "stream",
          "name": "stdout",
          "text": [
            "                   all         41         93    0.00368      0.131    0.00436    0.00171\n"
          ]
        },
        {
          "output_type": "stream",
          "name": "stderr",
          "text": [
            "\n"
          ]
        },
        {
          "output_type": "stream",
          "name": "stdout",
          "text": [
            "\n",
            "      Epoch    GPU_mem   box_loss   cls_loss   dfl_loss  Instances       Size\n"
          ]
        },
        {
          "output_type": "stream",
          "name": "stderr",
          "text": [
            "     20/100      12.5G    0.01651      4.698      1.362          2        640: 100%|██████████| 11/11 [00:12<00:00,  1.14s/it]\n",
            "                 Class     Images  Instances      Box(P          R      mAP50  mAP50-95): 100%|██████████| 2/2 [00:01<00:00,  1.51it/s]"
          ]
        },
        {
          "output_type": "stream",
          "name": "stdout",
          "text": [
            "                   all         41         93    0.00366      0.316    0.00499    0.00144\n"
          ]
        },
        {
          "output_type": "stream",
          "name": "stderr",
          "text": [
            "\n"
          ]
        },
        {
          "output_type": "stream",
          "name": "stdout",
          "text": [
            "\n",
            "      Epoch    GPU_mem   box_loss   cls_loss   dfl_loss  Instances       Size\n"
          ]
        },
        {
          "output_type": "stream",
          "name": "stderr",
          "text": [
            "     21/100      12.3G    0.01698      4.646      1.388          5        640: 100%|██████████| 11/11 [00:12<00:00,  1.13s/it]\n",
            "                 Class     Images  Instances      Box(P          R      mAP50  mAP50-95): 100%|██████████| 2/2 [00:01<00:00,  1.37it/s]"
          ]
        },
        {
          "output_type": "stream",
          "name": "stdout",
          "text": [
            "                   all         41         93    0.00574      0.461     0.0188    0.00667\n"
          ]
        },
        {
          "output_type": "stream",
          "name": "stderr",
          "text": [
            "\n"
          ]
        },
        {
          "output_type": "stream",
          "name": "stdout",
          "text": [
            "\n",
            "      Epoch    GPU_mem   box_loss   cls_loss   dfl_loss  Instances       Size\n"
          ]
        },
        {
          "output_type": "stream",
          "name": "stderr",
          "text": [
            "     22/100      12.5G    0.01718      4.742       1.38          4        640: 100%|██████████| 11/11 [00:12<00:00,  1.13s/it]\n",
            "                 Class     Images  Instances      Box(P          R      mAP50  mAP50-95): 100%|██████████| 2/2 [00:01<00:00,  1.52it/s]"
          ]
        },
        {
          "output_type": "stream",
          "name": "stdout",
          "text": [
            "                   all         41         93     0.0787      0.141     0.0443     0.0198\n"
          ]
        },
        {
          "output_type": "stream",
          "name": "stderr",
          "text": [
            "\n"
          ]
        },
        {
          "output_type": "stream",
          "name": "stdout",
          "text": [
            "\n",
            "      Epoch    GPU_mem   box_loss   cls_loss   dfl_loss  Instances       Size\n"
          ]
        },
        {
          "output_type": "stream",
          "name": "stderr",
          "text": [
            "     23/100      12.5G     0.0168      4.617      1.361          3        640: 100%|██████████| 11/11 [00:12<00:00,  1.14s/it]\n",
            "                 Class     Images  Instances      Box(P          R      mAP50  mAP50-95): 100%|██████████| 2/2 [00:01<00:00,  1.47it/s]"
          ]
        },
        {
          "output_type": "stream",
          "name": "stdout",
          "text": [
            "                   all         41         93     0.0106     0.0981    0.00704    0.00257\n"
          ]
        },
        {
          "output_type": "stream",
          "name": "stderr",
          "text": [
            "\n"
          ]
        },
        {
          "output_type": "stream",
          "name": "stdout",
          "text": [
            "\n",
            "      Epoch    GPU_mem   box_loss   cls_loss   dfl_loss  Instances       Size\n"
          ]
        },
        {
          "output_type": "stream",
          "name": "stderr",
          "text": [
            "     24/100      12.5G    0.01788      4.881      1.418          1        640: 100%|██████████| 11/11 [00:12<00:00,  1.15s/it]\n",
            "                 Class     Images  Instances      Box(P          R      mAP50  mAP50-95): 100%|██████████| 2/2 [00:01<00:00,  1.50it/s]"
          ]
        },
        {
          "output_type": "stream",
          "name": "stdout",
          "text": [
            "                   all         41         93   0.000797       0.03   0.000315   6.66e-05\n"
          ]
        },
        {
          "output_type": "stream",
          "name": "stderr",
          "text": [
            "\n"
          ]
        },
        {
          "output_type": "stream",
          "name": "stdout",
          "text": [
            "\n",
            "      Epoch    GPU_mem   box_loss   cls_loss   dfl_loss  Instances       Size\n"
          ]
        },
        {
          "output_type": "stream",
          "name": "stderr",
          "text": [
            "     25/100      12.2G    0.01695      4.651      1.363          6        640: 100%|██████████| 11/11 [00:12<00:00,  1.13s/it]\n",
            "                 Class     Images  Instances      Box(P          R      mAP50  mAP50-95): 100%|██████████| 2/2 [00:01<00:00,  1.51it/s]"
          ]
        },
        {
          "output_type": "stream",
          "name": "stdout",
          "text": [
            "                   all         41         93    0.00611       0.02    0.00197    0.00067\n"
          ]
        },
        {
          "output_type": "stream",
          "name": "stderr",
          "text": [
            "\n"
          ]
        },
        {
          "output_type": "stream",
          "name": "stdout",
          "text": [
            "\n",
            "      Epoch    GPU_mem   box_loss   cls_loss   dfl_loss  Instances       Size\n"
          ]
        },
        {
          "output_type": "stream",
          "name": "stderr",
          "text": [
            "     26/100      12.5G     0.0162      4.649       1.33          2        640: 100%|██████████| 11/11 [00:12<00:00,  1.15s/it]\n",
            "                 Class     Images  Instances      Box(P          R      mAP50  mAP50-95): 100%|██████████| 2/2 [00:01<00:00,  1.49it/s]"
          ]
        },
        {
          "output_type": "stream",
          "name": "stdout",
          "text": [
            "                   all         41         93     0.0822      0.122     0.0627     0.0294\n"
          ]
        },
        {
          "output_type": "stream",
          "name": "stderr",
          "text": [
            "\n"
          ]
        },
        {
          "output_type": "stream",
          "name": "stdout",
          "text": [
            "\n",
            "      Epoch    GPU_mem   box_loss   cls_loss   dfl_loss  Instances       Size\n"
          ]
        },
        {
          "output_type": "stream",
          "name": "stderr",
          "text": [
            "     27/100      12.5G    0.01603      4.631      1.318          6        640: 100%|██████████| 11/11 [00:12<00:00,  1.13s/it]\n",
            "                 Class     Images  Instances      Box(P          R      mAP50  mAP50-95): 100%|██████████| 2/2 [00:01<00:00,  1.48it/s]"
          ]
        },
        {
          "output_type": "stream",
          "name": "stdout",
          "text": [
            "                   all         41         93      0.312      0.118     0.0636     0.0262\n"
          ]
        },
        {
          "output_type": "stream",
          "name": "stderr",
          "text": [
            "\n"
          ]
        },
        {
          "output_type": "stream",
          "name": "stdout",
          "text": [
            "\n",
            "      Epoch    GPU_mem   box_loss   cls_loss   dfl_loss  Instances       Size\n"
          ]
        },
        {
          "output_type": "stream",
          "name": "stderr",
          "text": [
            "     28/100      12.5G    0.01537      4.657      1.328          1        640: 100%|██████████| 11/11 [00:12<00:00,  1.15s/it]\n",
            "                 Class     Images  Instances      Box(P          R      mAP50  mAP50-95): 100%|██████████| 2/2 [00:01<00:00,  1.41it/s]"
          ]
        },
        {
          "output_type": "stream",
          "name": "stdout",
          "text": [
            "                   all         41         93     0.0828      0.141     0.0312     0.0134\n"
          ]
        },
        {
          "output_type": "stream",
          "name": "stderr",
          "text": [
            "\n"
          ]
        },
        {
          "output_type": "stream",
          "name": "stdout",
          "text": [
            "\n",
            "      Epoch    GPU_mem   box_loss   cls_loss   dfl_loss  Instances       Size\n"
          ]
        },
        {
          "output_type": "stream",
          "name": "stderr",
          "text": [
            "     29/100      12.3G    0.01608      4.516      1.325          2        640: 100%|██████████| 11/11 [00:12<00:00,  1.14s/it]\n",
            "                 Class     Images  Instances      Box(P          R      mAP50  mAP50-95): 100%|██████████| 2/2 [00:01<00:00,  1.50it/s]"
          ]
        },
        {
          "output_type": "stream",
          "name": "stdout",
          "text": [
            "                   all         41         93     0.0993      0.211     0.0421     0.0154\n"
          ]
        },
        {
          "output_type": "stream",
          "name": "stderr",
          "text": [
            "\n"
          ]
        },
        {
          "output_type": "stream",
          "name": "stdout",
          "text": [
            "\n",
            "      Epoch    GPU_mem   box_loss   cls_loss   dfl_loss  Instances       Size\n"
          ]
        },
        {
          "output_type": "stream",
          "name": "stderr",
          "text": [
            "     30/100      12.5G     0.0161      4.634      1.323          5        640: 100%|██████████| 11/11 [00:12<00:00,  1.15s/it]\n",
            "                 Class     Images  Instances      Box(P          R      mAP50  mAP50-95): 100%|██████████| 2/2 [00:01<00:00,  1.40it/s]"
          ]
        },
        {
          "output_type": "stream",
          "name": "stdout",
          "text": [
            "                   all         41         93     0.0927      0.175     0.0583     0.0273\n"
          ]
        },
        {
          "output_type": "stream",
          "name": "stderr",
          "text": [
            "\n"
          ]
        },
        {
          "output_type": "stream",
          "name": "stdout",
          "text": [
            "\n",
            "      Epoch    GPU_mem   box_loss   cls_loss   dfl_loss  Instances       Size\n"
          ]
        },
        {
          "output_type": "stream",
          "name": "stderr",
          "text": [
            "     31/100      12.5G    0.01589      4.449      1.309          9        640: 100%|██████████| 11/11 [00:12<00:00,  1.13s/it]\n",
            "                 Class     Images  Instances      Box(P          R      mAP50  mAP50-95): 100%|██████████| 2/2 [00:01<00:00,  1.39it/s]"
          ]
        },
        {
          "output_type": "stream",
          "name": "stdout",
          "text": [
            "                   all         41         93     0.0973       0.09     0.0588      0.027\n"
          ]
        },
        {
          "output_type": "stream",
          "name": "stderr",
          "text": [
            "\n"
          ]
        },
        {
          "output_type": "stream",
          "name": "stdout",
          "text": [
            "\n",
            "      Epoch    GPU_mem   box_loss   cls_loss   dfl_loss  Instances       Size\n"
          ]
        },
        {
          "output_type": "stream",
          "name": "stderr",
          "text": [
            "     32/100      12.5G    0.01601      4.502       1.34          4        640: 100%|██████████| 11/11 [00:12<00:00,  1.15s/it]\n",
            "                 Class     Images  Instances      Box(P          R      mAP50  mAP50-95): 100%|██████████| 2/2 [00:01<00:00,  1.42it/s]"
          ]
        },
        {
          "output_type": "stream",
          "name": "stdout",
          "text": [
            "                   all         41         93      0.644        0.1      0.109     0.0439\n"
          ]
        },
        {
          "output_type": "stream",
          "name": "stderr",
          "text": [
            "\n"
          ]
        },
        {
          "output_type": "stream",
          "name": "stdout",
          "text": [
            "\n",
            "      Epoch    GPU_mem   box_loss   cls_loss   dfl_loss  Instances       Size\n"
          ]
        },
        {
          "output_type": "stream",
          "name": "stderr",
          "text": [
            "     33/100      12.3G    0.01603      4.779      1.343          1        640: 100%|██████████| 11/11 [00:12<00:00,  1.13s/it]\n",
            "                 Class     Images  Instances      Box(P          R      mAP50  mAP50-95): 100%|██████████| 2/2 [00:01<00:00,  1.46it/s]"
          ]
        },
        {
          "output_type": "stream",
          "name": "stdout",
          "text": [
            "                   all         41         93      0.248      0.128        0.1     0.0347\n"
          ]
        },
        {
          "output_type": "stream",
          "name": "stderr",
          "text": [
            "\n"
          ]
        },
        {
          "output_type": "stream",
          "name": "stdout",
          "text": [
            "\n",
            "      Epoch    GPU_mem   box_loss   cls_loss   dfl_loss  Instances       Size\n"
          ]
        },
        {
          "output_type": "stream",
          "name": "stderr",
          "text": [
            "     34/100      12.5G    0.01626      4.516      1.373          1        640: 100%|██████████| 11/11 [00:12<00:00,  1.15s/it]\n",
            "                 Class     Images  Instances      Box(P          R      mAP50  mAP50-95): 100%|██████████| 2/2 [00:01<00:00,  1.41it/s]"
          ]
        },
        {
          "output_type": "stream",
          "name": "stdout",
          "text": [
            "                   all         41         93      0.152      0.103     0.0917     0.0456\n"
          ]
        },
        {
          "output_type": "stream",
          "name": "stderr",
          "text": [
            "\n"
          ]
        },
        {
          "output_type": "stream",
          "name": "stdout",
          "text": [
            "\n",
            "      Epoch    GPU_mem   box_loss   cls_loss   dfl_loss  Instances       Size\n"
          ]
        },
        {
          "output_type": "stream",
          "name": "stderr",
          "text": [
            "     35/100      12.5G    0.01581      4.887      1.321          1        640: 100%|██████████| 11/11 [00:12<00:00,  1.14s/it]\n",
            "                 Class     Images  Instances      Box(P          R      mAP50  mAP50-95): 100%|██████████| 2/2 [00:01<00:00,  1.46it/s]"
          ]
        },
        {
          "output_type": "stream",
          "name": "stdout",
          "text": [
            "                   all         41         93      0.166      0.148     0.0862     0.0427\n"
          ]
        },
        {
          "output_type": "stream",
          "name": "stderr",
          "text": [
            "\n"
          ]
        },
        {
          "output_type": "stream",
          "name": "stdout",
          "text": [
            "\n",
            "      Epoch    GPU_mem   box_loss   cls_loss   dfl_loss  Instances       Size\n"
          ]
        },
        {
          "output_type": "stream",
          "name": "stderr",
          "text": [
            "     36/100      12.5G    0.01612      4.369      1.307          5        640: 100%|██████████| 11/11 [00:12<00:00,  1.17s/it]\n",
            "                 Class     Images  Instances      Box(P          R      mAP50  mAP50-95): 100%|██████████| 2/2 [00:01<00:00,  1.47it/s]"
          ]
        },
        {
          "output_type": "stream",
          "name": "stdout",
          "text": [
            "                   all         41         93      0.144       0.16     0.0801     0.0367\n"
          ]
        },
        {
          "output_type": "stream",
          "name": "stderr",
          "text": [
            "\n"
          ]
        },
        {
          "output_type": "stream",
          "name": "stdout",
          "text": [
            "\n",
            "      Epoch    GPU_mem   box_loss   cls_loss   dfl_loss  Instances       Size\n"
          ]
        },
        {
          "output_type": "stream",
          "name": "stderr",
          "text": [
            "     37/100      12.3G    0.01641      4.442      1.305          8        640: 100%|██████████| 11/11 [00:12<00:00,  1.12s/it]\n",
            "                 Class     Images  Instances      Box(P          R      mAP50  mAP50-95): 100%|██████████| 2/2 [00:01<00:00,  1.43it/s]"
          ]
        },
        {
          "output_type": "stream",
          "name": "stdout",
          "text": [
            "                   all         41         93     0.0885      0.127     0.0394     0.0155\n"
          ]
        },
        {
          "output_type": "stream",
          "name": "stderr",
          "text": [
            "\n"
          ]
        },
        {
          "output_type": "stream",
          "name": "stdout",
          "text": [
            "\n",
            "      Epoch    GPU_mem   box_loss   cls_loss   dfl_loss  Instances       Size\n"
          ]
        },
        {
          "output_type": "stream",
          "name": "stderr",
          "text": [
            "     38/100      12.6G    0.01581      4.311      1.315          3        640: 100%|██████████| 11/11 [00:12<00:00,  1.14s/it]\n",
            "                 Class     Images  Instances      Box(P          R      mAP50  mAP50-95): 100%|██████████| 2/2 [00:01<00:00,  1.48it/s]"
          ]
        },
        {
          "output_type": "stream",
          "name": "stdout",
          "text": [
            "                   all         41         93      0.115      0.153      0.057     0.0209\n"
          ]
        },
        {
          "output_type": "stream",
          "name": "stderr",
          "text": [
            "\n"
          ]
        },
        {
          "output_type": "stream",
          "name": "stdout",
          "text": [
            "\n",
            "      Epoch    GPU_mem   box_loss   cls_loss   dfl_loss  Instances       Size\n"
          ]
        },
        {
          "output_type": "stream",
          "name": "stderr",
          "text": [
            "     39/100      12.5G    0.01565      4.343      1.283          2        640: 100%|██████████| 11/11 [00:12<00:00,  1.17s/it]\n",
            "                 Class     Images  Instances      Box(P          R      mAP50  mAP50-95): 100%|██████████| 2/2 [00:01<00:00,  1.46it/s]"
          ]
        },
        {
          "output_type": "stream",
          "name": "stdout",
          "text": [
            "                   all         41         93      0.145      0.185     0.0684     0.0272\n"
          ]
        },
        {
          "output_type": "stream",
          "name": "stderr",
          "text": [
            "\n"
          ]
        },
        {
          "output_type": "stream",
          "name": "stdout",
          "text": [
            "\n",
            "      Epoch    GPU_mem   box_loss   cls_loss   dfl_loss  Instances       Size\n"
          ]
        },
        {
          "output_type": "stream",
          "name": "stderr",
          "text": [
            "     40/100      12.5G    0.01623      4.318      1.316          6        640: 100%|██████████| 11/11 [00:12<00:00,  1.12s/it]\n",
            "                 Class     Images  Instances      Box(P          R      mAP50  mAP50-95): 100%|██████████| 2/2 [00:01<00:00,  1.53it/s]"
          ]
        },
        {
          "output_type": "stream",
          "name": "stdout",
          "text": [
            "                   all         41         93      0.126       0.14     0.0714     0.0307\n"
          ]
        },
        {
          "output_type": "stream",
          "name": "stderr",
          "text": [
            "\n"
          ]
        },
        {
          "output_type": "stream",
          "name": "stdout",
          "text": [
            "\n",
            "      Epoch    GPU_mem   box_loss   cls_loss   dfl_loss  Instances       Size\n"
          ]
        },
        {
          "output_type": "stream",
          "name": "stderr",
          "text": [
            "     41/100      12.3G    0.01587      4.326      1.287          8        640: 100%|██████████| 11/11 [00:12<00:00,  1.14s/it]\n",
            "                 Class     Images  Instances      Box(P          R      mAP50  mAP50-95): 100%|██████████| 2/2 [00:01<00:00,  1.51it/s]"
          ]
        },
        {
          "output_type": "stream",
          "name": "stdout",
          "text": [
            "                   all         41         93      0.159     0.0833     0.0688     0.0333\n"
          ]
        },
        {
          "output_type": "stream",
          "name": "stderr",
          "text": [
            "\n"
          ]
        },
        {
          "output_type": "stream",
          "name": "stdout",
          "text": [
            "\n",
            "      Epoch    GPU_mem   box_loss   cls_loss   dfl_loss  Instances       Size\n"
          ]
        },
        {
          "output_type": "stream",
          "name": "stderr",
          "text": [
            "     42/100      12.5G    0.01528      4.627      1.292          1        640: 100%|██████████| 11/11 [00:12<00:00,  1.16s/it]\n",
            "                 Class     Images  Instances      Box(P          R      mAP50  mAP50-95): 100%|██████████| 2/2 [00:01<00:00,  1.47it/s]"
          ]
        },
        {
          "output_type": "stream",
          "name": "stdout",
          "text": [
            "                   all         41         93      0.262      0.161      0.116     0.0469\n"
          ]
        },
        {
          "output_type": "stream",
          "name": "stderr",
          "text": [
            "\n"
          ]
        },
        {
          "output_type": "stream",
          "name": "stdout",
          "text": [
            "\n",
            "      Epoch    GPU_mem   box_loss   cls_loss   dfl_loss  Instances       Size\n"
          ]
        },
        {
          "output_type": "stream",
          "name": "stderr",
          "text": [
            "     43/100      12.5G    0.01536      4.206      1.246          5        640: 100%|██████████| 11/11 [00:12<00:00,  1.13s/it]\n",
            "                 Class     Images  Instances      Box(P          R      mAP50  mAP50-95): 100%|██████████| 2/2 [00:01<00:00,  1.42it/s]"
          ]
        },
        {
          "output_type": "stream",
          "name": "stdout",
          "text": [
            "                   all         41         93      0.311      0.151      0.128     0.0506\n"
          ]
        },
        {
          "output_type": "stream",
          "name": "stderr",
          "text": [
            "\n"
          ]
        },
        {
          "output_type": "stream",
          "name": "stdout",
          "text": [
            "\n",
            "      Epoch    GPU_mem   box_loss   cls_loss   dfl_loss  Instances       Size\n"
          ]
        },
        {
          "output_type": "stream",
          "name": "stderr",
          "text": [
            "     44/100      12.5G    0.01498      4.584      1.249          1        640: 100%|██████████| 11/11 [00:12<00:00,  1.14s/it]\n",
            "                 Class     Images  Instances      Box(P          R      mAP50  mAP50-95): 100%|██████████| 2/2 [00:01<00:00,  1.50it/s]"
          ]
        },
        {
          "output_type": "stream",
          "name": "stdout",
          "text": [
            "                   all         41         93      0.143      0.135      0.112     0.0506\n"
          ]
        },
        {
          "output_type": "stream",
          "name": "stderr",
          "text": [
            "\n"
          ]
        },
        {
          "output_type": "stream",
          "name": "stdout",
          "text": [
            "\n",
            "      Epoch    GPU_mem   box_loss   cls_loss   dfl_loss  Instances       Size\n"
          ]
        },
        {
          "output_type": "stream",
          "name": "stderr",
          "text": [
            "     45/100      12.3G    0.01497      4.245       1.26          7        640: 100%|██████████| 11/11 [00:12<00:00,  1.14s/it]\n",
            "                 Class     Images  Instances      Box(P          R      mAP50  mAP50-95): 100%|██████████| 2/2 [00:01<00:00,  1.48it/s]"
          ]
        },
        {
          "output_type": "stream",
          "name": "stdout",
          "text": [
            "                   all         41         93      0.112      0.167     0.0997     0.0448\n"
          ]
        },
        {
          "output_type": "stream",
          "name": "stderr",
          "text": [
            "\n"
          ]
        },
        {
          "output_type": "stream",
          "name": "stdout",
          "text": [
            "\n",
            "      Epoch    GPU_mem   box_loss   cls_loss   dfl_loss  Instances       Size\n"
          ]
        },
        {
          "output_type": "stream",
          "name": "stderr",
          "text": [
            "     46/100      12.6G    0.01525      4.264      1.252          4        640: 100%|██████████| 11/11 [00:12<00:00,  1.15s/it]\n",
            "                 Class     Images  Instances      Box(P          R      mAP50  mAP50-95): 100%|██████████| 2/2 [00:01<00:00,  1.47it/s]"
          ]
        },
        {
          "output_type": "stream",
          "name": "stdout",
          "text": [
            "                   all         41         93      0.251      0.227      0.113     0.0411\n"
          ]
        },
        {
          "output_type": "stream",
          "name": "stderr",
          "text": [
            "\n"
          ]
        },
        {
          "output_type": "stream",
          "name": "stdout",
          "text": [
            "\n",
            "      Epoch    GPU_mem   box_loss   cls_loss   dfl_loss  Instances       Size\n"
          ]
        },
        {
          "output_type": "stream",
          "name": "stderr",
          "text": [
            "     47/100      12.5G    0.01514      4.312      1.235          5        640: 100%|██████████| 11/11 [00:12<00:00,  1.13s/it]\n",
            "                 Class     Images  Instances      Box(P          R      mAP50  mAP50-95): 100%|██████████| 2/2 [00:01<00:00,  1.44it/s]"
          ]
        },
        {
          "output_type": "stream",
          "name": "stdout",
          "text": [
            "                   all         41         93      0.228      0.127      0.123     0.0498\n"
          ]
        },
        {
          "output_type": "stream",
          "name": "stderr",
          "text": [
            "\n"
          ]
        },
        {
          "output_type": "stream",
          "name": "stdout",
          "text": [
            "\n",
            "      Epoch    GPU_mem   box_loss   cls_loss   dfl_loss  Instances       Size\n"
          ]
        },
        {
          "output_type": "stream",
          "name": "stderr",
          "text": [
            "     48/100      12.5G    0.01499      4.249      1.239          3        640: 100%|██████████| 11/11 [00:12<00:00,  1.13s/it]\n",
            "                 Class     Images  Instances      Box(P          R      mAP50  mAP50-95): 100%|██████████| 2/2 [00:01<00:00,  1.49it/s]"
          ]
        },
        {
          "output_type": "stream",
          "name": "stdout",
          "text": [
            "                   all         41         93      0.157      0.131     0.0737     0.0282\n"
          ]
        },
        {
          "output_type": "stream",
          "name": "stderr",
          "text": [
            "\n"
          ]
        },
        {
          "output_type": "stream",
          "name": "stdout",
          "text": [
            "\n",
            "      Epoch    GPU_mem   box_loss   cls_loss   dfl_loss  Instances       Size\n"
          ]
        },
        {
          "output_type": "stream",
          "name": "stderr",
          "text": [
            "     49/100      12.3G    0.01512      4.219      1.236          7        640: 100%|██████████| 11/11 [00:12<00:00,  1.15s/it]\n",
            "                 Class     Images  Instances      Box(P          R      mAP50  mAP50-95): 100%|██████████| 2/2 [00:01<00:00,  1.47it/s]"
          ]
        },
        {
          "output_type": "stream",
          "name": "stdout",
          "text": [
            "                   all         41         93      0.168      0.112     0.0945      0.036\n"
          ]
        },
        {
          "output_type": "stream",
          "name": "stderr",
          "text": [
            "\n"
          ]
        },
        {
          "output_type": "stream",
          "name": "stdout",
          "text": [
            "\n",
            "      Epoch    GPU_mem   box_loss   cls_loss   dfl_loss  Instances       Size\n"
          ]
        },
        {
          "output_type": "stream",
          "name": "stderr",
          "text": [
            "     50/100      12.5G    0.01521      4.319       1.25          6        640: 100%|██████████| 11/11 [00:12<00:00,  1.17s/it]\n",
            "                 Class     Images  Instances      Box(P          R      mAP50  mAP50-95): 100%|██████████| 2/2 [00:01<00:00,  1.45it/s]"
          ]
        },
        {
          "output_type": "stream",
          "name": "stdout",
          "text": [
            "                   all         41         93      0.359      0.168      0.165     0.0659\n"
          ]
        },
        {
          "output_type": "stream",
          "name": "stderr",
          "text": [
            "\n"
          ]
        },
        {
          "output_type": "stream",
          "name": "stdout",
          "text": [
            "\n",
            "      Epoch    GPU_mem   box_loss   cls_loss   dfl_loss  Instances       Size\n"
          ]
        },
        {
          "output_type": "stream",
          "name": "stderr",
          "text": [
            "     51/100      12.5G    0.01492      4.114      1.237          3        640: 100%|██████████| 11/11 [00:12<00:00,  1.14s/it]\n",
            "                 Class     Images  Instances      Box(P          R      mAP50  mAP50-95): 100%|██████████| 2/2 [00:01<00:00,  1.50it/s]"
          ]
        },
        {
          "output_type": "stream",
          "name": "stdout",
          "text": [
            "                   all         41         93      0.241      0.158      0.115     0.0468\n"
          ]
        },
        {
          "output_type": "stream",
          "name": "stderr",
          "text": [
            "\n"
          ]
        },
        {
          "output_type": "stream",
          "name": "stdout",
          "text": [
            "\n",
            "      Epoch    GPU_mem   box_loss   cls_loss   dfl_loss  Instances       Size\n"
          ]
        },
        {
          "output_type": "stream",
          "name": "stderr",
          "text": [
            "     52/100      12.6G    0.01484      4.197      1.199          1        640: 100%|██████████| 11/11 [00:12<00:00,  1.13s/it]\n",
            "                 Class     Images  Instances      Box(P          R      mAP50  mAP50-95): 100%|██████████| 2/2 [00:01<00:00,  1.49it/s]"
          ]
        },
        {
          "output_type": "stream",
          "name": "stdout",
          "text": [
            "                   all         41         93      0.419      0.233      0.187     0.0671\n"
          ]
        },
        {
          "output_type": "stream",
          "name": "stderr",
          "text": [
            "\n"
          ]
        },
        {
          "output_type": "stream",
          "name": "stdout",
          "text": [
            "\n",
            "      Epoch    GPU_mem   box_loss   cls_loss   dfl_loss  Instances       Size\n"
          ]
        },
        {
          "output_type": "stream",
          "name": "stderr",
          "text": [
            "     53/100      12.3G    0.01522      4.324      1.255          5        640: 100%|██████████| 11/11 [00:12<00:00,  1.13s/it]\n",
            "                 Class     Images  Instances      Box(P          R      mAP50  mAP50-95): 100%|██████████| 2/2 [00:01<00:00,  1.48it/s]"
          ]
        },
        {
          "output_type": "stream",
          "name": "stdout",
          "text": [
            "                   all         41         93       0.41      0.253      0.175     0.0652\n"
          ]
        },
        {
          "output_type": "stream",
          "name": "stderr",
          "text": [
            "\n"
          ]
        },
        {
          "output_type": "stream",
          "name": "stdout",
          "text": [
            "\n",
            "      Epoch    GPU_mem   box_loss   cls_loss   dfl_loss  Instances       Size\n"
          ]
        },
        {
          "output_type": "stream",
          "name": "stderr",
          "text": [
            "     54/100      12.5G    0.01515      4.271      1.237          2        640: 100%|██████████| 11/11 [00:12<00:00,  1.16s/it]\n",
            "                 Class     Images  Instances      Box(P          R      mAP50  mAP50-95): 100%|██████████| 2/2 [00:01<00:00,  1.45it/s]"
          ]
        },
        {
          "output_type": "stream",
          "name": "stdout",
          "text": [
            "                   all         41         93      0.297      0.228      0.142     0.0549\n"
          ]
        },
        {
          "output_type": "stream",
          "name": "stderr",
          "text": [
            "\n"
          ]
        },
        {
          "output_type": "stream",
          "name": "stdout",
          "text": [
            "\n",
            "      Epoch    GPU_mem   box_loss   cls_loss   dfl_loss  Instances       Size\n"
          ]
        },
        {
          "output_type": "stream",
          "name": "stderr",
          "text": [
            "     55/100      12.6G    0.01497      4.193      1.241          3        640: 100%|██████████| 11/11 [00:12<00:00,  1.16s/it]\n",
            "                 Class     Images  Instances      Box(P          R      mAP50  mAP50-95): 100%|██████████| 2/2 [00:01<00:00,  1.47it/s]"
          ]
        },
        {
          "output_type": "stream",
          "name": "stdout",
          "text": [
            "                   all         41         93      0.394      0.181      0.188     0.0653\n"
          ]
        },
        {
          "output_type": "stream",
          "name": "stderr",
          "text": [
            "\n"
          ]
        },
        {
          "output_type": "stream",
          "name": "stdout",
          "text": [
            "\n",
            "      Epoch    GPU_mem   box_loss   cls_loss   dfl_loss  Instances       Size\n"
          ]
        },
        {
          "output_type": "stream",
          "name": "stderr",
          "text": [
            "     56/100      12.6G    0.01471      4.134      1.223          5        640: 100%|██████████| 11/11 [00:12<00:00,  1.14s/it]\n",
            "                 Class     Images  Instances      Box(P          R      mAP50  mAP50-95): 100%|██████████| 2/2 [00:01<00:00,  1.48it/s]"
          ]
        },
        {
          "output_type": "stream",
          "name": "stdout",
          "text": [
            "                   all         41         93      0.213      0.226      0.125     0.0535\n"
          ]
        },
        {
          "output_type": "stream",
          "name": "stderr",
          "text": [
            "\n"
          ]
        },
        {
          "output_type": "stream",
          "name": "stdout",
          "text": [
            "\n",
            "      Epoch    GPU_mem   box_loss   cls_loss   dfl_loss  Instances       Size\n"
          ]
        },
        {
          "output_type": "stream",
          "name": "stderr",
          "text": [
            "     57/100      12.2G    0.01496      4.187      1.252          9        640: 100%|██████████| 11/11 [00:12<00:00,  1.14s/it]\n",
            "                 Class     Images  Instances      Box(P          R      mAP50  mAP50-95): 100%|██████████| 2/2 [00:01<00:00,  1.50it/s]"
          ]
        },
        {
          "output_type": "stream",
          "name": "stdout",
          "text": [
            "                   all         41         93      0.233      0.215      0.101     0.0411\n"
          ]
        },
        {
          "output_type": "stream",
          "name": "stderr",
          "text": [
            "\n"
          ]
        },
        {
          "output_type": "stream",
          "name": "stdout",
          "text": [
            "\n",
            "      Epoch    GPU_mem   box_loss   cls_loss   dfl_loss  Instances       Size\n"
          ]
        },
        {
          "output_type": "stream",
          "name": "stderr",
          "text": [
            "     58/100      12.6G    0.01474      4.111       1.24         11        640: 100%|██████████| 11/11 [00:12<00:00,  1.14s/it]\n",
            "                 Class     Images  Instances      Box(P          R      mAP50  mAP50-95): 100%|██████████| 2/2 [00:01<00:00,  1.48it/s]"
          ]
        },
        {
          "output_type": "stream",
          "name": "stdout",
          "text": [
            "                   all         41         93      0.276      0.193      0.135     0.0594\n"
          ]
        },
        {
          "output_type": "stream",
          "name": "stderr",
          "text": [
            "\n"
          ]
        },
        {
          "output_type": "stream",
          "name": "stdout",
          "text": [
            "\n",
            "      Epoch    GPU_mem   box_loss   cls_loss   dfl_loss  Instances       Size\n"
          ]
        },
        {
          "output_type": "stream",
          "name": "stderr",
          "text": [
            "     59/100      12.5G    0.01411      3.892      1.194          4        640: 100%|██████████| 11/11 [00:12<00:00,  1.15s/it]\n",
            "                 Class     Images  Instances      Box(P          R      mAP50  mAP50-95): 100%|██████████| 2/2 [00:01<00:00,  1.48it/s]"
          ]
        },
        {
          "output_type": "stream",
          "name": "stdout",
          "text": [
            "                   all         41         93      0.219      0.167       0.14     0.0678\n"
          ]
        },
        {
          "output_type": "stream",
          "name": "stderr",
          "text": [
            "\n"
          ]
        },
        {
          "output_type": "stream",
          "name": "stdout",
          "text": [
            "\n",
            "      Epoch    GPU_mem   box_loss   cls_loss   dfl_loss  Instances       Size\n"
          ]
        },
        {
          "output_type": "stream",
          "name": "stderr",
          "text": [
            "     60/100      12.6G    0.01498      4.157      1.236          7        640: 100%|██████████| 11/11 [00:12<00:00,  1.14s/it]\n",
            "                 Class     Images  Instances      Box(P          R      mAP50  mAP50-95): 100%|██████████| 2/2 [00:01<00:00,  1.50it/s]"
          ]
        },
        {
          "output_type": "stream",
          "name": "stdout",
          "text": [
            "                   all         41         93       0.22      0.178      0.155     0.0777\n"
          ]
        },
        {
          "output_type": "stream",
          "name": "stderr",
          "text": [
            "\n"
          ]
        },
        {
          "output_type": "stream",
          "name": "stdout",
          "text": [
            "\n",
            "      Epoch    GPU_mem   box_loss   cls_loss   dfl_loss  Instances       Size\n"
          ]
        },
        {
          "output_type": "stream",
          "name": "stderr",
          "text": [
            "     61/100      12.3G    0.01534      4.128      1.231          5        640: 100%|██████████| 11/11 [00:12<00:00,  1.15s/it]\n",
            "                 Class     Images  Instances      Box(P          R      mAP50  mAP50-95): 100%|██████████| 2/2 [00:01<00:00,  1.49it/s]"
          ]
        },
        {
          "output_type": "stream",
          "name": "stdout",
          "text": [
            "                   all         41         93      0.233       0.17      0.168     0.0919\n"
          ]
        },
        {
          "output_type": "stream",
          "name": "stderr",
          "text": [
            "\n"
          ]
        },
        {
          "output_type": "stream",
          "name": "stdout",
          "text": [
            "\n",
            "      Epoch    GPU_mem   box_loss   cls_loss   dfl_loss  Instances       Size\n"
          ]
        },
        {
          "output_type": "stream",
          "name": "stderr",
          "text": [
            "     62/100      12.6G    0.01518      4.086      1.248          3        640: 100%|██████████| 11/11 [00:12<00:00,  1.16s/it]\n",
            "                 Class     Images  Instances      Box(P          R      mAP50  mAP50-95): 100%|██████████| 2/2 [00:01<00:00,  1.45it/s]"
          ]
        },
        {
          "output_type": "stream",
          "name": "stdout",
          "text": [
            "                   all         41         93       0.27      0.192      0.165     0.0849\n"
          ]
        },
        {
          "output_type": "stream",
          "name": "stderr",
          "text": [
            "\n"
          ]
        },
        {
          "output_type": "stream",
          "name": "stdout",
          "text": [
            "\n",
            "      Epoch    GPU_mem   box_loss   cls_loss   dfl_loss  Instances       Size\n"
          ]
        },
        {
          "output_type": "stream",
          "name": "stderr",
          "text": [
            "     63/100      12.5G    0.01484      3.938      1.216          3        640: 100%|██████████| 11/11 [00:12<00:00,  1.14s/it]\n",
            "                 Class     Images  Instances      Box(P          R      mAP50  mAP50-95): 100%|██████████| 2/2 [00:01<00:00,  1.43it/s]"
          ]
        },
        {
          "output_type": "stream",
          "name": "stdout",
          "text": [
            "                   all         41         93      0.188      0.187      0.141     0.0665\n"
          ]
        },
        {
          "output_type": "stream",
          "name": "stderr",
          "text": [
            "\n"
          ]
        },
        {
          "output_type": "stream",
          "name": "stdout",
          "text": [
            "\n",
            "      Epoch    GPU_mem   box_loss   cls_loss   dfl_loss  Instances       Size\n"
          ]
        },
        {
          "output_type": "stream",
          "name": "stderr",
          "text": [
            "     64/100      12.5G    0.01441      3.976      1.186          2        640: 100%|██████████| 11/11 [00:12<00:00,  1.14s/it]\n",
            "                 Class     Images  Instances      Box(P          R      mAP50  mAP50-95): 100%|██████████| 2/2 [00:01<00:00,  1.49it/s]"
          ]
        },
        {
          "output_type": "stream",
          "name": "stdout",
          "text": [
            "                   all         41         93      0.249      0.218      0.167     0.0695\n"
          ]
        },
        {
          "output_type": "stream",
          "name": "stderr",
          "text": [
            "\n"
          ]
        },
        {
          "output_type": "stream",
          "name": "stdout",
          "text": [
            "\n",
            "      Epoch    GPU_mem   box_loss   cls_loss   dfl_loss  Instances       Size\n"
          ]
        },
        {
          "output_type": "stream",
          "name": "stderr",
          "text": [
            "     65/100      12.3G    0.01478      4.146       1.23          5        640: 100%|██████████| 11/11 [00:12<00:00,  1.15s/it]\n",
            "                 Class     Images  Instances      Box(P          R      mAP50  mAP50-95): 100%|██████████| 2/2 [00:01<00:00,  1.48it/s]"
          ]
        },
        {
          "output_type": "stream",
          "name": "stdout",
          "text": [
            "                   all         41         93      0.248      0.166      0.129     0.0607\n"
          ]
        },
        {
          "output_type": "stream",
          "name": "stderr",
          "text": [
            "\n"
          ]
        },
        {
          "output_type": "stream",
          "name": "stdout",
          "text": [
            "\n",
            "      Epoch    GPU_mem   box_loss   cls_loss   dfl_loss  Instances       Size\n"
          ]
        },
        {
          "output_type": "stream",
          "name": "stderr",
          "text": [
            "     66/100      12.5G    0.01503      3.988       1.22          6        640: 100%|██████████| 11/11 [00:12<00:00,  1.15s/it]\n",
            "                 Class     Images  Instances      Box(P          R      mAP50  mAP50-95): 100%|██████████| 2/2 [00:01<00:00,  1.47it/s]"
          ]
        },
        {
          "output_type": "stream",
          "name": "stdout",
          "text": [
            "                   all         41         93      0.298      0.181      0.129     0.0577\n"
          ]
        },
        {
          "output_type": "stream",
          "name": "stderr",
          "text": [
            "\n"
          ]
        },
        {
          "output_type": "stream",
          "name": "stdout",
          "text": [
            "\n",
            "      Epoch    GPU_mem   box_loss   cls_loss   dfl_loss  Instances       Size\n"
          ]
        },
        {
          "output_type": "stream",
          "name": "stderr",
          "text": [
            "     67/100      12.5G    0.01474      4.299      1.201          2        640: 100%|██████████| 11/11 [00:12<00:00,  1.13s/it]\n",
            "                 Class     Images  Instances      Box(P          R      mAP50  mAP50-95): 100%|██████████| 2/2 [00:01<00:00,  1.47it/s]"
          ]
        },
        {
          "output_type": "stream",
          "name": "stdout",
          "text": [
            "                   all         41         93      0.354      0.206      0.148      0.054\n"
          ]
        },
        {
          "output_type": "stream",
          "name": "stderr",
          "text": [
            "\n"
          ]
        },
        {
          "output_type": "stream",
          "name": "stdout",
          "text": [
            "\n",
            "      Epoch    GPU_mem   box_loss   cls_loss   dfl_loss  Instances       Size\n"
          ]
        },
        {
          "output_type": "stream",
          "name": "stderr",
          "text": [
            "     68/100      12.5G    0.01455      3.883      1.209          6        640: 100%|██████████| 11/11 [00:12<00:00,  1.15s/it]\n",
            "                 Class     Images  Instances      Box(P          R      mAP50  mAP50-95): 100%|██████████| 2/2 [00:01<00:00,  1.48it/s]"
          ]
        },
        {
          "output_type": "stream",
          "name": "stdout",
          "text": [
            "                   all         41         93      0.405      0.161      0.172     0.0709\n"
          ]
        },
        {
          "output_type": "stream",
          "name": "stderr",
          "text": [
            "\n"
          ]
        },
        {
          "output_type": "stream",
          "name": "stdout",
          "text": [
            "\n",
            "      Epoch    GPU_mem   box_loss   cls_loss   dfl_loss  Instances       Size\n"
          ]
        },
        {
          "output_type": "stream",
          "name": "stderr",
          "text": [
            "     69/100      12.3G    0.01398      3.807      1.165          3        640: 100%|██████████| 11/11 [00:12<00:00,  1.15s/it]\n",
            "                 Class     Images  Instances      Box(P          R      mAP50  mAP50-95): 100%|██████████| 2/2 [00:01<00:00,  1.49it/s]"
          ]
        },
        {
          "output_type": "stream",
          "name": "stdout",
          "text": [
            "                   all         41         93      0.429      0.275      0.179     0.0732\n"
          ]
        },
        {
          "output_type": "stream",
          "name": "stderr",
          "text": [
            "\n"
          ]
        },
        {
          "output_type": "stream",
          "name": "stdout",
          "text": [
            "\n",
            "      Epoch    GPU_mem   box_loss   cls_loss   dfl_loss  Instances       Size\n"
          ]
        },
        {
          "output_type": "stream",
          "name": "stderr",
          "text": [
            "     70/100      12.5G    0.01444      3.957      1.186          2        640: 100%|██████████| 11/11 [00:12<00:00,  1.15s/it]\n",
            "                 Class     Images  Instances      Box(P          R      mAP50  mAP50-95): 100%|██████████| 2/2 [00:01<00:00,  1.50it/s]"
          ]
        },
        {
          "output_type": "stream",
          "name": "stdout",
          "text": [
            "                   all         41         93       0.35      0.235       0.15     0.0572\n"
          ]
        },
        {
          "output_type": "stream",
          "name": "stderr",
          "text": [
            "\n"
          ]
        },
        {
          "output_type": "stream",
          "name": "stdout",
          "text": [
            "\n",
            "      Epoch    GPU_mem   box_loss   cls_loss   dfl_loss  Instances       Size\n"
          ]
        },
        {
          "output_type": "stream",
          "name": "stderr",
          "text": [
            "     71/100      12.5G    0.01446      3.977       1.18          2        640: 100%|██████████| 11/11 [00:12<00:00,  1.13s/it]\n",
            "                 Class     Images  Instances      Box(P          R      mAP50  mAP50-95): 100%|██████████| 2/2 [00:01<00:00,  1.52it/s]"
          ]
        },
        {
          "output_type": "stream",
          "name": "stdout",
          "text": [
            "                   all         41         93      0.431      0.233       0.16     0.0665\n"
          ]
        },
        {
          "output_type": "stream",
          "name": "stderr",
          "text": [
            "\n"
          ]
        },
        {
          "output_type": "stream",
          "name": "stdout",
          "text": [
            "\n",
            "      Epoch    GPU_mem   box_loss   cls_loss   dfl_loss  Instances       Size\n"
          ]
        },
        {
          "output_type": "stream",
          "name": "stderr",
          "text": [
            "     72/100      12.6G    0.01408      3.913      1.197         12        640: 100%|██████████| 11/11 [00:12<00:00,  1.16s/it]\n",
            "                 Class     Images  Instances      Box(P          R      mAP50  mAP50-95): 100%|██████████| 2/2 [00:01<00:00,  1.48it/s]"
          ]
        },
        {
          "output_type": "stream",
          "name": "stdout",
          "text": [
            "                   all         41         93      0.469      0.186      0.172     0.0759\n"
          ]
        },
        {
          "output_type": "stream",
          "name": "stderr",
          "text": [
            "\n"
          ]
        },
        {
          "output_type": "stream",
          "name": "stdout",
          "text": [
            "\n",
            "      Epoch    GPU_mem   box_loss   cls_loss   dfl_loss  Instances       Size\n"
          ]
        },
        {
          "output_type": "stream",
          "name": "stderr",
          "text": [
            "     73/100      12.3G    0.01403      3.836      1.146          3        640: 100%|██████████| 11/11 [00:12<00:00,  1.14s/it]\n",
            "                 Class     Images  Instances      Box(P          R      mAP50  mAP50-95): 100%|██████████| 2/2 [00:01<00:00,  1.48it/s]"
          ]
        },
        {
          "output_type": "stream",
          "name": "stdout",
          "text": [
            "                   all         41         93      0.528       0.21       0.19     0.0796\n"
          ]
        },
        {
          "output_type": "stream",
          "name": "stderr",
          "text": [
            "\n"
          ]
        },
        {
          "output_type": "stream",
          "name": "stdout",
          "text": [
            "\n",
            "      Epoch    GPU_mem   box_loss   cls_loss   dfl_loss  Instances       Size\n"
          ]
        },
        {
          "output_type": "stream",
          "name": "stderr",
          "text": [
            "     74/100      12.6G    0.01415      3.753      1.166          3        640: 100%|██████████| 11/11 [00:12<00:00,  1.14s/it]\n",
            "                 Class     Images  Instances      Box(P          R      mAP50  mAP50-95): 100%|██████████| 2/2 [00:01<00:00,  1.48it/s]"
          ]
        },
        {
          "output_type": "stream",
          "name": "stdout",
          "text": [
            "                   all         41         93      0.548      0.206      0.201     0.0885\n"
          ]
        },
        {
          "output_type": "stream",
          "name": "stderr",
          "text": [
            "\n"
          ]
        },
        {
          "output_type": "stream",
          "name": "stdout",
          "text": [
            "\n",
            "      Epoch    GPU_mem   box_loss   cls_loss   dfl_loss  Instances       Size\n"
          ]
        },
        {
          "output_type": "stream",
          "name": "stderr",
          "text": [
            "     75/100      12.5G    0.01481       3.94      1.202          4        640: 100%|██████████| 11/11 [00:12<00:00,  1.15s/it]\n",
            "                 Class     Images  Instances      Box(P          R      mAP50  mAP50-95): 100%|██████████| 2/2 [00:01<00:00,  1.38it/s]"
          ]
        },
        {
          "output_type": "stream",
          "name": "stdout",
          "text": [
            "                   all         41         93      0.271      0.168      0.168      0.073\n"
          ]
        },
        {
          "output_type": "stream",
          "name": "stderr",
          "text": [
            "\n"
          ]
        },
        {
          "output_type": "stream",
          "name": "stdout",
          "text": [
            "\n",
            "      Epoch    GPU_mem   box_loss   cls_loss   dfl_loss  Instances       Size\n"
          ]
        },
        {
          "output_type": "stream",
          "name": "stderr",
          "text": [
            "     76/100      12.6G    0.01531      4.188      1.231          2        640: 100%|██████████| 11/11 [00:12<00:00,  1.15s/it]\n",
            "                 Class     Images  Instances      Box(P          R      mAP50  mAP50-95): 100%|██████████| 2/2 [00:01<00:00,  1.47it/s]"
          ]
        },
        {
          "output_type": "stream",
          "name": "stdout",
          "text": [
            "                   all         41         93      0.278      0.213      0.196     0.0774\n"
          ]
        },
        {
          "output_type": "stream",
          "name": "stderr",
          "text": [
            "\n"
          ]
        },
        {
          "output_type": "stream",
          "name": "stdout",
          "text": [
            "\n",
            "      Epoch    GPU_mem   box_loss   cls_loss   dfl_loss  Instances       Size\n"
          ]
        },
        {
          "output_type": "stream",
          "name": "stderr",
          "text": [
            "     77/100      12.3G    0.01385      3.702      1.166          4        640: 100%|██████████| 11/11 [00:12<00:00,  1.13s/it]\n",
            "                 Class     Images  Instances      Box(P          R      mAP50  mAP50-95): 100%|██████████| 2/2 [00:01<00:00,  1.51it/s]"
          ]
        },
        {
          "output_type": "stream",
          "name": "stdout",
          "text": [
            "                   all         41         93      0.201      0.213      0.169     0.0691\n"
          ]
        },
        {
          "output_type": "stream",
          "name": "stderr",
          "text": [
            "\n"
          ]
        },
        {
          "output_type": "stream",
          "name": "stdout",
          "text": [
            "\n",
            "      Epoch    GPU_mem   box_loss   cls_loss   dfl_loss  Instances       Size\n"
          ]
        },
        {
          "output_type": "stream",
          "name": "stderr",
          "text": [
            "     78/100      12.6G    0.01426      3.825      1.186          3        640: 100%|██████████| 11/11 [00:12<00:00,  1.14s/it]\n",
            "                 Class     Images  Instances      Box(P          R      mAP50  mAP50-95): 100%|██████████| 2/2 [00:01<00:00,  1.52it/s]"
          ]
        },
        {
          "output_type": "stream",
          "name": "stdout",
          "text": [
            "                   all         41         93      0.259      0.274      0.201     0.0859\n"
          ]
        },
        {
          "output_type": "stream",
          "name": "stderr",
          "text": [
            "\n"
          ]
        },
        {
          "output_type": "stream",
          "name": "stdout",
          "text": [
            "\n",
            "      Epoch    GPU_mem   box_loss   cls_loss   dfl_loss  Instances       Size\n"
          ]
        },
        {
          "output_type": "stream",
          "name": "stderr",
          "text": [
            "     79/100      12.6G    0.01338      3.947      1.134          1        640: 100%|██████████| 11/11 [00:12<00:00,  1.14s/it]\n",
            "                 Class     Images  Instances      Box(P          R      mAP50  mAP50-95): 100%|██████████| 2/2 [00:01<00:00,  1.51it/s]"
          ]
        },
        {
          "output_type": "stream",
          "name": "stdout",
          "text": [
            "                   all         41         93      0.522      0.169       0.22     0.0874\n"
          ]
        },
        {
          "output_type": "stream",
          "name": "stderr",
          "text": [
            "\n"
          ]
        },
        {
          "output_type": "stream",
          "name": "stdout",
          "text": [
            "\n",
            "      Epoch    GPU_mem   box_loss   cls_loss   dfl_loss  Instances       Size\n"
          ]
        },
        {
          "output_type": "stream",
          "name": "stderr",
          "text": [
            "     80/100      12.6G    0.01444        3.8      1.188          6        640: 100%|██████████| 11/11 [00:12<00:00,  1.14s/it]\n",
            "                 Class     Images  Instances      Box(P          R      mAP50  mAP50-95): 100%|██████████| 2/2 [00:01<00:00,  1.49it/s]"
          ]
        },
        {
          "output_type": "stream",
          "name": "stdout",
          "text": [
            "                   all         41         93      0.294      0.223      0.229     0.0886\n"
          ]
        },
        {
          "output_type": "stream",
          "name": "stderr",
          "text": [
            "\n"
          ]
        },
        {
          "output_type": "stream",
          "name": "stdout",
          "text": [
            "\n",
            "      Epoch    GPU_mem   box_loss   cls_loss   dfl_loss  Instances       Size\n"
          ]
        },
        {
          "output_type": "stream",
          "name": "stderr",
          "text": [
            "     81/100      12.3G    0.01358      3.679      1.145          6        640: 100%|██████████| 11/11 [00:12<00:00,  1.14s/it]\n",
            "                 Class     Images  Instances      Box(P          R      mAP50  mAP50-95): 100%|██████████| 2/2 [00:01<00:00,  1.49it/s]"
          ]
        },
        {
          "output_type": "stream",
          "name": "stdout",
          "text": [
            "                   all         41         93      0.385      0.199      0.215     0.0959\n"
          ]
        },
        {
          "output_type": "stream",
          "name": "stderr",
          "text": [
            "\n"
          ]
        },
        {
          "output_type": "stream",
          "name": "stdout",
          "text": [
            "\n",
            "      Epoch    GPU_mem   box_loss   cls_loss   dfl_loss  Instances       Size\n"
          ]
        },
        {
          "output_type": "stream",
          "name": "stderr",
          "text": [
            "     82/100      12.5G    0.01348      3.708      1.151          4        640: 100%|██████████| 11/11 [00:12<00:00,  1.13s/it]\n",
            "                 Class     Images  Instances      Box(P          R      mAP50  mAP50-95): 100%|██████████| 2/2 [00:01<00:00,  1.52it/s]"
          ]
        },
        {
          "output_type": "stream",
          "name": "stdout",
          "text": [
            "                   all         41         93      0.279      0.211        0.2     0.0978\n"
          ]
        },
        {
          "output_type": "stream",
          "name": "stderr",
          "text": [
            "\n"
          ]
        },
        {
          "output_type": "stream",
          "name": "stdout",
          "text": [
            "\n",
            "      Epoch    GPU_mem   box_loss   cls_loss   dfl_loss  Instances       Size\n"
          ]
        },
        {
          "output_type": "stream",
          "name": "stderr",
          "text": [
            "     83/100      12.5G    0.01454      3.984       1.22          1        640: 100%|██████████| 11/11 [00:12<00:00,  1.15s/it]\n",
            "                 Class     Images  Instances      Box(P          R      mAP50  mAP50-95): 100%|██████████| 2/2 [00:01<00:00,  1.38it/s]"
          ]
        },
        {
          "output_type": "stream",
          "name": "stdout",
          "text": [
            "                   all         41         93      0.282      0.256      0.208     0.0897\n"
          ]
        },
        {
          "output_type": "stream",
          "name": "stderr",
          "text": [
            "\n"
          ]
        },
        {
          "output_type": "stream",
          "name": "stdout",
          "text": [
            "\n",
            "      Epoch    GPU_mem   box_loss   cls_loss   dfl_loss  Instances       Size\n"
          ]
        },
        {
          "output_type": "stream",
          "name": "stderr",
          "text": [
            "     84/100      12.5G    0.01409      3.711      1.172          3        640: 100%|██████████| 11/11 [00:12<00:00,  1.15s/it]\n",
            "                 Class     Images  Instances      Box(P          R      mAP50  mAP50-95): 100%|██████████| 2/2 [00:01<00:00,  1.49it/s]"
          ]
        },
        {
          "output_type": "stream",
          "name": "stdout",
          "text": [
            "                   all         41         93      0.292       0.19      0.202     0.0913\n"
          ]
        },
        {
          "output_type": "stream",
          "name": "stderr",
          "text": [
            "\n"
          ]
        },
        {
          "output_type": "stream",
          "name": "stdout",
          "text": [
            "\n",
            "      Epoch    GPU_mem   box_loss   cls_loss   dfl_loss  Instances       Size\n"
          ]
        },
        {
          "output_type": "stream",
          "name": "stderr",
          "text": [
            "     85/100      12.3G    0.01388      3.782      1.167          5        640: 100%|██████████| 11/11 [00:12<00:00,  1.15s/it]\n",
            "                 Class     Images  Instances      Box(P          R      mAP50  mAP50-95): 100%|██████████| 2/2 [00:01<00:00,  1.50it/s]"
          ]
        },
        {
          "output_type": "stream",
          "name": "stdout",
          "text": [
            "                   all         41         93       0.25      0.201      0.211     0.0875\n"
          ]
        },
        {
          "output_type": "stream",
          "name": "stderr",
          "text": [
            "\n"
          ]
        },
        {
          "output_type": "stream",
          "name": "stdout",
          "text": [
            "\n",
            "      Epoch    GPU_mem   box_loss   cls_loss   dfl_loss  Instances       Size\n"
          ]
        },
        {
          "output_type": "stream",
          "name": "stderr",
          "text": [
            "     86/100      12.5G    0.01374       3.69      1.146          6        640: 100%|██████████| 11/11 [00:12<00:00,  1.14s/it]\n",
            "                 Class     Images  Instances      Box(P          R      mAP50  mAP50-95): 100%|██████████| 2/2 [00:01<00:00,  1.53it/s]"
          ]
        },
        {
          "output_type": "stream",
          "name": "stdout",
          "text": [
            "                   all         41         93       0.33      0.193      0.211     0.0918\n"
          ]
        },
        {
          "output_type": "stream",
          "name": "stderr",
          "text": [
            "\n"
          ]
        },
        {
          "output_type": "stream",
          "name": "stdout",
          "text": [
            "\n",
            "      Epoch    GPU_mem   box_loss   cls_loss   dfl_loss  Instances       Size\n"
          ]
        },
        {
          "output_type": "stream",
          "name": "stderr",
          "text": [
            "     87/100      12.2G    0.01426      3.677      1.189          2        640: 100%|██████████| 11/11 [00:12<00:00,  1.13s/it]\n",
            "                 Class     Images  Instances      Box(P          R      mAP50  mAP50-95): 100%|██████████| 2/2 [00:01<00:00,  1.51it/s]"
          ]
        },
        {
          "output_type": "stream",
          "name": "stdout",
          "text": [
            "                   all         41         93      0.375      0.212      0.194     0.0804\n"
          ]
        },
        {
          "output_type": "stream",
          "name": "stderr",
          "text": [
            "\n"
          ]
        },
        {
          "output_type": "stream",
          "name": "stdout",
          "text": [
            "\n",
            "      Epoch    GPU_mem   box_loss   cls_loss   dfl_loss  Instances       Size\n"
          ]
        },
        {
          "output_type": "stream",
          "name": "stderr",
          "text": [
            "     88/100      12.5G     0.0134      3.609      1.159          2        640: 100%|██████████| 11/11 [00:12<00:00,  1.15s/it]\n",
            "                 Class     Images  Instances      Box(P          R      mAP50  mAP50-95): 100%|██████████| 2/2 [00:01<00:00,  1.47it/s]"
          ]
        },
        {
          "output_type": "stream",
          "name": "stdout",
          "text": [
            "                   all         41         93      0.338      0.251      0.212     0.0827\n"
          ]
        },
        {
          "output_type": "stream",
          "name": "stderr",
          "text": [
            "\n"
          ]
        },
        {
          "output_type": "stream",
          "name": "stdout",
          "text": [
            "\n",
            "      Epoch    GPU_mem   box_loss   cls_loss   dfl_loss  Instances       Size\n"
          ]
        },
        {
          "output_type": "stream",
          "name": "stderr",
          "text": [
            "     89/100      12.3G    0.01386      3.729      1.165          2        640: 100%|██████████| 11/11 [00:12<00:00,  1.14s/it]\n",
            "                 Class     Images  Instances      Box(P          R      mAP50  mAP50-95): 100%|██████████| 2/2 [00:01<00:00,  1.49it/s]"
          ]
        },
        {
          "output_type": "stream",
          "name": "stdout",
          "text": [
            "                   all         41         93      0.415      0.191      0.216     0.0879\n"
          ]
        },
        {
          "output_type": "stream",
          "name": "stderr",
          "text": [
            "\n"
          ]
        },
        {
          "output_type": "stream",
          "name": "stdout",
          "text": [
            "\n",
            "      Epoch    GPU_mem   box_loss   cls_loss   dfl_loss  Instances       Size\n"
          ]
        },
        {
          "output_type": "stream",
          "name": "stderr",
          "text": [
            "     90/100      12.6G    0.01347      3.613      1.176          1        640: 100%|██████████| 11/11 [00:12<00:00,  1.14s/it]\n",
            "                 Class     Images  Instances      Box(P          R      mAP50  mAP50-95): 100%|██████████| 2/2 [00:01<00:00,  1.50it/s]"
          ]
        },
        {
          "output_type": "stream",
          "name": "stdout",
          "text": [
            "                   all         41         93      0.444      0.178      0.208     0.0835\n"
          ]
        },
        {
          "output_type": "stream",
          "name": "stderr",
          "text": [
            "\n"
          ]
        },
        {
          "output_type": "stream",
          "name": "stdout",
          "text": [
            "Closing dataloader mosaic\n",
            "\u001b[34m\u001b[1malbumentations: \u001b[0mBlur(p=0.01, blur_limit=(3, 7)), MedianBlur(p=0.01, blur_limit=(3, 7)), ToGray(p=0.01, method='weighted_average', num_output_channels=3), CLAHE(p=0.01, clip_limit=(1.0, 4.0), tile_grid_size=(8, 8))\n",
            "\n",
            "      Epoch    GPU_mem   box_loss   cls_loss   dfl_loss  Instances       Size\n"
          ]
        },
        {
          "output_type": "stream",
          "name": "stderr",
          "text": [
            "     91/100      12.5G    0.01251      3.481      1.142          1        640: 100%|██████████| 11/11 [00:13<00:00,  1.20s/it]\n",
            "                 Class     Images  Instances      Box(P          R      mAP50  mAP50-95): 100%|██████████| 2/2 [00:01<00:00,  1.48it/s]"
          ]
        },
        {
          "output_type": "stream",
          "name": "stdout",
          "text": [
            "                   all         41         93      0.382      0.193      0.209       0.09\n"
          ]
        },
        {
          "output_type": "stream",
          "name": "stderr",
          "text": [
            "\n"
          ]
        },
        {
          "output_type": "stream",
          "name": "stdout",
          "text": [
            "\n",
            "      Epoch    GPU_mem   box_loss   cls_loss   dfl_loss  Instances       Size\n"
          ]
        },
        {
          "output_type": "stream",
          "name": "stderr",
          "text": [
            "     92/100      12.6G     0.0124      3.269      1.096          2        640: 100%|██████████| 11/11 [00:12<00:00,  1.15s/it]\n",
            "                 Class     Images  Instances      Box(P          R      mAP50  mAP50-95): 100%|██████████| 2/2 [00:01<00:00,  1.49it/s]"
          ]
        },
        {
          "output_type": "stream",
          "name": "stdout",
          "text": [
            "                   all         41         93      0.509      0.168      0.215     0.0944\n"
          ]
        },
        {
          "output_type": "stream",
          "name": "stderr",
          "text": [
            "\n"
          ]
        },
        {
          "output_type": "stream",
          "name": "stdout",
          "text": [
            "\n",
            "      Epoch    GPU_mem   box_loss   cls_loss   dfl_loss  Instances       Size\n"
          ]
        },
        {
          "output_type": "stream",
          "name": "stderr",
          "text": [
            "     93/100      12.3G    0.01256      3.184      1.099          3        640: 100%|██████████| 11/11 [00:12<00:00,  1.12s/it]\n",
            "                 Class     Images  Instances      Box(P          R      mAP50  mAP50-95): 100%|██████████| 2/2 [00:01<00:00,  1.52it/s]"
          ]
        },
        {
          "output_type": "stream",
          "name": "stdout",
          "text": [
            "                   all         41         93      0.431      0.215      0.229     0.0979\n"
          ]
        },
        {
          "output_type": "stream",
          "name": "stderr",
          "text": [
            "\n"
          ]
        },
        {
          "output_type": "stream",
          "name": "stdout",
          "text": [
            "\n",
            "      Epoch    GPU_mem   box_loss   cls_loss   dfl_loss  Instances       Size\n"
          ]
        },
        {
          "output_type": "stream",
          "name": "stderr",
          "text": [
            "     94/100      12.5G    0.01301       3.33      1.107          2        640: 100%|██████████| 11/11 [00:12<00:00,  1.13s/it]\n",
            "                 Class     Images  Instances      Box(P          R      mAP50  mAP50-95): 100%|██████████| 2/2 [00:01<00:00,  1.49it/s]"
          ]
        },
        {
          "output_type": "stream",
          "name": "stdout",
          "text": [
            "                   all         41         93      0.482      0.284      0.251      0.102\n"
          ]
        },
        {
          "output_type": "stream",
          "name": "stderr",
          "text": [
            "\n"
          ]
        },
        {
          "output_type": "stream",
          "name": "stdout",
          "text": [
            "\n",
            "      Epoch    GPU_mem   box_loss   cls_loss   dfl_loss  Instances       Size\n"
          ]
        },
        {
          "output_type": "stream",
          "name": "stderr",
          "text": [
            "     95/100      12.5G    0.01213      2.981      1.132          1        640: 100%|██████████| 11/11 [00:12<00:00,  1.14s/it]\n",
            "                 Class     Images  Instances      Box(P          R      mAP50  mAP50-95): 100%|██████████| 2/2 [00:01<00:00,  1.40it/s]"
          ]
        },
        {
          "output_type": "stream",
          "name": "stdout",
          "text": [
            "                   all         41         93      0.454      0.251      0.252      0.103\n"
          ]
        },
        {
          "output_type": "stream",
          "name": "stderr",
          "text": [
            "\n"
          ]
        },
        {
          "output_type": "stream",
          "name": "stdout",
          "text": [
            "\n",
            "      Epoch    GPU_mem   box_loss   cls_loss   dfl_loss  Instances       Size\n"
          ]
        },
        {
          "output_type": "stream",
          "name": "stderr",
          "text": [
            "     96/100      12.5G    0.01247       3.03      1.099          6        640: 100%|██████████| 11/11 [00:12<00:00,  1.14s/it]\n",
            "                 Class     Images  Instances      Box(P          R      mAP50  mAP50-95): 100%|██████████| 2/2 [00:01<00:00,  1.40it/s]"
          ]
        },
        {
          "output_type": "stream",
          "name": "stdout",
          "text": [
            "                   all         41         93      0.525      0.226      0.259      0.112\n"
          ]
        },
        {
          "output_type": "stream",
          "name": "stderr",
          "text": [
            "\n"
          ]
        },
        {
          "output_type": "stream",
          "name": "stdout",
          "text": [
            "\n",
            "      Epoch    GPU_mem   box_loss   cls_loss   dfl_loss  Instances       Size\n"
          ]
        },
        {
          "output_type": "stream",
          "name": "stderr",
          "text": [
            "     97/100      12.3G    0.01221      3.103      1.078          3        640: 100%|██████████| 11/11 [00:12<00:00,  1.12s/it]\n",
            "                 Class     Images  Instances      Box(P          R      mAP50  mAP50-95): 100%|██████████| 2/2 [00:01<00:00,  1.50it/s]"
          ]
        },
        {
          "output_type": "stream",
          "name": "stdout",
          "text": [
            "                   all         41         93      0.463      0.248      0.261      0.112\n"
          ]
        },
        {
          "output_type": "stream",
          "name": "stderr",
          "text": [
            "\n"
          ]
        },
        {
          "output_type": "stream",
          "name": "stdout",
          "text": [
            "\n",
            "      Epoch    GPU_mem   box_loss   cls_loss   dfl_loss  Instances       Size\n"
          ]
        },
        {
          "output_type": "stream",
          "name": "stderr",
          "text": [
            "     98/100      12.5G    0.01182      3.077      1.079          2        640: 100%|██████████| 11/11 [00:12<00:00,  1.12s/it]\n",
            "                 Class     Images  Instances      Box(P          R      mAP50  mAP50-95): 100%|██████████| 2/2 [00:01<00:00,  1.54it/s]"
          ]
        },
        {
          "output_type": "stream",
          "name": "stdout",
          "text": [
            "                   all         41         93      0.373      0.258      0.265      0.113\n"
          ]
        },
        {
          "output_type": "stream",
          "name": "stderr",
          "text": [
            "\n"
          ]
        },
        {
          "output_type": "stream",
          "name": "stdout",
          "text": [
            "\n",
            "      Epoch    GPU_mem   box_loss   cls_loss   dfl_loss  Instances       Size\n"
          ]
        },
        {
          "output_type": "stream",
          "name": "stderr",
          "text": [
            "     99/100      12.5G    0.01184      2.897       1.06          2        640: 100%|██████████| 11/11 [00:12<00:00,  1.13s/it]\n",
            "                 Class     Images  Instances      Box(P          R      mAP50  mAP50-95): 100%|██████████| 2/2 [00:01<00:00,  1.52it/s]"
          ]
        },
        {
          "output_type": "stream",
          "name": "stdout",
          "text": [
            "                   all         41         93      0.365      0.231      0.254      0.109\n"
          ]
        },
        {
          "output_type": "stream",
          "name": "stderr",
          "text": [
            "\n"
          ]
        },
        {
          "output_type": "stream",
          "name": "stdout",
          "text": [
            "\n",
            "      Epoch    GPU_mem   box_loss   cls_loss   dfl_loss  Instances       Size\n"
          ]
        },
        {
          "output_type": "stream",
          "name": "stderr",
          "text": [
            "    100/100      12.5G    0.01201      3.035      1.087          1        640: 100%|██████████| 11/11 [00:12<00:00,  1.12s/it]\n",
            "                 Class     Images  Instances      Box(P          R      mAP50  mAP50-95): 100%|██████████| 2/2 [00:01<00:00,  1.53it/s]"
          ]
        },
        {
          "output_type": "stream",
          "name": "stdout",
          "text": [
            "                   all         41         93       0.32       0.28      0.254      0.108\n"
          ]
        },
        {
          "output_type": "stream",
          "name": "stderr",
          "text": [
            "\n"
          ]
        },
        {
          "output_type": "stream",
          "name": "stdout",
          "text": [
            "\n",
            "100 epochs completed in 0.664 hours.\n",
            "Optimizer stripped from runs/detect/CobaBestParamNew2/weights/last.pt, 136.7MB\n",
            "Optimizer stripped from runs/detect/CobaBestParamNew2/weights/best.pt, 136.7MB\n",
            "\n",
            "Validating runs/detect/CobaBestParamNew2/weights/best.pt...\n",
            "Ultralytics 8.3.156 🚀 Python-3.11.13 torch-2.6.0+cu124 CUDA:0 (Tesla T4, 15095MiB)\n",
            "Model summary (fused): 112 layers, 68,125,494 parameters, 0 gradients, 257.4 GFLOPs\n"
          ]
        },
        {
          "output_type": "stream",
          "name": "stderr",
          "text": [
            "                 Class     Images  Instances      Box(P          R      mAP50  mAP50-95): 100%|██████████| 2/2 [00:01<00:00,  1.40it/s]\n"
          ]
        },
        {
          "output_type": "stream",
          "name": "stdout",
          "text": [
            "                   all         41         93      0.365      0.261      0.264      0.112\n",
            "             Berlubang         25         43      0.361      0.263      0.283     0.0899\n",
            "                 Retak         28         50       0.37       0.26      0.245      0.134\n",
            "Speed: 0.3ms preprocess, 27.5ms inference, 0.0ms loss, 1.8ms postprocess per image\n",
            "Results saved to \u001b[1mruns/detect/CobaBestParamNew2\u001b[0m\n"
          ]
        }
      ]
    },
    {
      "cell_type": "markdown",
      "source": [
        "# Save Model"
      ],
      "metadata": {
        "id": "nEck6wOKvTl_"
      }
    },
    {
      "cell_type": "code",
      "source": [
        "# simpan model\n",
        "source = '/content/runs/detect/gridSearch'\n",
        "\n",
        "destination = '/content/drive/MyDrive/Dataset/Project_Data_Science/new_data/Yolov8_Result_02_bhypa'\n",
        "\n",
        "shutil.copytree(source, destination)\n",
        "\n",
        "print('Model telah berhasil disalin')"
      ],
      "metadata": {
        "colab": {
          "base_uri": "https://localhost:8080/"
        },
        "id": "jpCTv_lEbXqF",
        "outputId": "d9093178-ee35-4b2a-8e71-f1754986bea6"
      },
      "execution_count": null,
      "outputs": [
        {
          "output_type": "stream",
          "name": "stdout",
          "text": [
            "Model telah berhasil disalin\n"
          ]
        }
      ]
    },
    {
      "cell_type": "markdown",
      "source": [
        "# Test Model"
      ],
      "metadata": {
        "id": "sWT6ACrLvfxs"
      }
    },
    {
      "cell_type": "code",
      "source": [
        "# Upload gambar\n",
        "uploaded = files.upload()\n",
        "\n",
        "filename = next(iter(uploaded))\n",
        "\n",
        "\n",
        "\n",
        "# Load model\n",
        "model = YOLO('/content/runs/detect/gridSearch/weights/best.pt')\n",
        "\n",
        "\n",
        "\n",
        "# Prediksi\n",
        "results = model.predict(source=filename, save=True, imgsz=640, conf=0.3)\n",
        "\n",
        "\n",
        "\n",
        "# Cari file hasil terbaru & tampilkan\n",
        "result_dirs = sorted(glob.glob('runs/detect/*'), key=os.path.getmtime)\n",
        "\n",
        "if result_dirs:\n",
        "    latest_dir = result_dirs[-1]\n",
        "\n",
        "    result_files = glob.glob(os.path.join(latest_dir, '*.jpg'))\n",
        "\n",
        "    if result_files:\n",
        "        display(Image(filename=result_files[0]))\n",
        "\n",
        "        print(f\"Hasil disimpan di: {result_files[0]}\")\n",
        "\n",
        "    else:\n",
        "        print(\"Gambar hasil tidak ditemukan.\")\n",
        "\n",
        "else:\n",
        "    print(\"Folder hasil prediksi tidak ditemukan.\")"
      ],
      "metadata": {
        "colab": {
          "base_uri": "https://localhost:8080/",
          "height": 1000
        },
        "id": "e-EJRPScd-nh",
        "outputId": "a786e869-8010-4ba1-9b4c-b3066fbf5b57"
      },
      "execution_count": null,
      "outputs": [
        {
          "output_type": "display_data",
          "data": {
            "text/plain": [
              "<IPython.core.display.HTML object>"
            ],
            "text/html": [
              "\n",
              "     <input type=\"file\" id=\"files-bd026379-4a83-4b82-bc7b-43d9dc5b6824\" name=\"files[]\" multiple disabled\n",
              "        style=\"border:none\" />\n",
              "     <output id=\"result-bd026379-4a83-4b82-bc7b-43d9dc5b6824\">\n",
              "      Upload widget is only available when the cell has been executed in the\n",
              "      current browser session. Please rerun this cell to enable.\n",
              "      </output>\n",
              "      <script>// Copyright 2017 Google LLC\n",
              "//\n",
              "// Licensed under the Apache License, Version 2.0 (the \"License\");\n",
              "// you may not use this file except in compliance with the License.\n",
              "// You may obtain a copy of the License at\n",
              "//\n",
              "//      http://www.apache.org/licenses/LICENSE-2.0\n",
              "//\n",
              "// Unless required by applicable law or agreed to in writing, software\n",
              "// distributed under the License is distributed on an \"AS IS\" BASIS,\n",
              "// WITHOUT WARRANTIES OR CONDITIONS OF ANY KIND, either express or implied.\n",
              "// See the License for the specific language governing permissions and\n",
              "// limitations under the License.\n",
              "\n",
              "/**\n",
              " * @fileoverview Helpers for google.colab Python module.\n",
              " */\n",
              "(function(scope) {\n",
              "function span(text, styleAttributes = {}) {\n",
              "  const element = document.createElement('span');\n",
              "  element.textContent = text;\n",
              "  for (const key of Object.keys(styleAttributes)) {\n",
              "    element.style[key] = styleAttributes[key];\n",
              "  }\n",
              "  return element;\n",
              "}\n",
              "\n",
              "// Max number of bytes which will be uploaded at a time.\n",
              "const MAX_PAYLOAD_SIZE = 100 * 1024;\n",
              "\n",
              "function _uploadFiles(inputId, outputId) {\n",
              "  const steps = uploadFilesStep(inputId, outputId);\n",
              "  const outputElement = document.getElementById(outputId);\n",
              "  // Cache steps on the outputElement to make it available for the next call\n",
              "  // to uploadFilesContinue from Python.\n",
              "  outputElement.steps = steps;\n",
              "\n",
              "  return _uploadFilesContinue(outputId);\n",
              "}\n",
              "\n",
              "// This is roughly an async generator (not supported in the browser yet),\n",
              "// where there are multiple asynchronous steps and the Python side is going\n",
              "// to poll for completion of each step.\n",
              "// This uses a Promise to block the python side on completion of each step,\n",
              "// then passes the result of the previous step as the input to the next step.\n",
              "function _uploadFilesContinue(outputId) {\n",
              "  const outputElement = document.getElementById(outputId);\n",
              "  const steps = outputElement.steps;\n",
              "\n",
              "  const next = steps.next(outputElement.lastPromiseValue);\n",
              "  return Promise.resolve(next.value.promise).then((value) => {\n",
              "    // Cache the last promise value to make it available to the next\n",
              "    // step of the generator.\n",
              "    outputElement.lastPromiseValue = value;\n",
              "    return next.value.response;\n",
              "  });\n",
              "}\n",
              "\n",
              "/**\n",
              " * Generator function which is called between each async step of the upload\n",
              " * process.\n",
              " * @param {string} inputId Element ID of the input file picker element.\n",
              " * @param {string} outputId Element ID of the output display.\n",
              " * @return {!Iterable<!Object>} Iterable of next steps.\n",
              " */\n",
              "function* uploadFilesStep(inputId, outputId) {\n",
              "  const inputElement = document.getElementById(inputId);\n",
              "  inputElement.disabled = false;\n",
              "\n",
              "  const outputElement = document.getElementById(outputId);\n",
              "  outputElement.innerHTML = '';\n",
              "\n",
              "  const pickedPromise = new Promise((resolve) => {\n",
              "    inputElement.addEventListener('change', (e) => {\n",
              "      resolve(e.target.files);\n",
              "    });\n",
              "  });\n",
              "\n",
              "  const cancel = document.createElement('button');\n",
              "  inputElement.parentElement.appendChild(cancel);\n",
              "  cancel.textContent = 'Cancel upload';\n",
              "  const cancelPromise = new Promise((resolve) => {\n",
              "    cancel.onclick = () => {\n",
              "      resolve(null);\n",
              "    };\n",
              "  });\n",
              "\n",
              "  // Wait for the user to pick the files.\n",
              "  const files = yield {\n",
              "    promise: Promise.race([pickedPromise, cancelPromise]),\n",
              "    response: {\n",
              "      action: 'starting',\n",
              "    }\n",
              "  };\n",
              "\n",
              "  cancel.remove();\n",
              "\n",
              "  // Disable the input element since further picks are not allowed.\n",
              "  inputElement.disabled = true;\n",
              "\n",
              "  if (!files) {\n",
              "    return {\n",
              "      response: {\n",
              "        action: 'complete',\n",
              "      }\n",
              "    };\n",
              "  }\n",
              "\n",
              "  for (const file of files) {\n",
              "    const li = document.createElement('li');\n",
              "    li.append(span(file.name, {fontWeight: 'bold'}));\n",
              "    li.append(span(\n",
              "        `(${file.type || 'n/a'}) - ${file.size} bytes, ` +\n",
              "        `last modified: ${\n",
              "            file.lastModifiedDate ? file.lastModifiedDate.toLocaleDateString() :\n",
              "                                    'n/a'} - `));\n",
              "    const percent = span('0% done');\n",
              "    li.appendChild(percent);\n",
              "\n",
              "    outputElement.appendChild(li);\n",
              "\n",
              "    const fileDataPromise = new Promise((resolve) => {\n",
              "      const reader = new FileReader();\n",
              "      reader.onload = (e) => {\n",
              "        resolve(e.target.result);\n",
              "      };\n",
              "      reader.readAsArrayBuffer(file);\n",
              "    });\n",
              "    // Wait for the data to be ready.\n",
              "    let fileData = yield {\n",
              "      promise: fileDataPromise,\n",
              "      response: {\n",
              "        action: 'continue',\n",
              "      }\n",
              "    };\n",
              "\n",
              "    // Use a chunked sending to avoid message size limits. See b/62115660.\n",
              "    let position = 0;\n",
              "    do {\n",
              "      const length = Math.min(fileData.byteLength - position, MAX_PAYLOAD_SIZE);\n",
              "      const chunk = new Uint8Array(fileData, position, length);\n",
              "      position += length;\n",
              "\n",
              "      const base64 = btoa(String.fromCharCode.apply(null, chunk));\n",
              "      yield {\n",
              "        response: {\n",
              "          action: 'append',\n",
              "          file: file.name,\n",
              "          data: base64,\n",
              "        },\n",
              "      };\n",
              "\n",
              "      let percentDone = fileData.byteLength === 0 ?\n",
              "          100 :\n",
              "          Math.round((position / fileData.byteLength) * 100);\n",
              "      percent.textContent = `${percentDone}% done`;\n",
              "\n",
              "    } while (position < fileData.byteLength);\n",
              "  }\n",
              "\n",
              "  // All done.\n",
              "  yield {\n",
              "    response: {\n",
              "      action: 'complete',\n",
              "    }\n",
              "  };\n",
              "}\n",
              "\n",
              "scope.google = scope.google || {};\n",
              "scope.google.colab = scope.google.colab || {};\n",
              "scope.google.colab._files = {\n",
              "  _uploadFiles,\n",
              "  _uploadFilesContinue,\n",
              "};\n",
              "})(self);\n",
              "</script> "
            ]
          },
          "metadata": {}
        },
        {
          "output_type": "stream",
          "name": "stdout",
          "text": [
            "Saving istockphoto-937868038-640_adpp_is.mp4 to istockphoto-937868038-640_adpp_is.mp4\n",
            "\n",
            "WARNING ⚠️ \n",
            "inference results will accumulate in RAM unless `stream=True` is passed, causing potential out-of-memory\n",
            "errors for large sources or long-running streams and videos. See https://docs.ultralytics.com/modes/predict/ for help.\n",
            "\n",
            "Example:\n",
            "    results = model(source=..., stream=True)  # generator of Results objects\n",
            "    for r in results:\n",
            "        boxes = r.boxes  # Boxes object for bbox outputs\n",
            "        masks = r.masks  # Masks object for segment masks outputs\n",
            "        probs = r.probs  # Class probabilities for classification outputs\n",
            "\n",
            "video 1/1 (frame 1/570) /content/istockphoto-937868038-640_adpp_is.mp4: 384x640 (no detections), 11.8ms\n",
            "video 1/1 (frame 2/570) /content/istockphoto-937868038-640_adpp_is.mp4: 384x640 1 Retak, 10.7ms\n",
            "video 1/1 (frame 3/570) /content/istockphoto-937868038-640_adpp_is.mp4: 384x640 1 Retak, 10.8ms\n",
            "video 1/1 (frame 4/570) /content/istockphoto-937868038-640_adpp_is.mp4: 384x640 2 Retaks, 13.6ms\n",
            "video 1/1 (frame 5/570) /content/istockphoto-937868038-640_adpp_is.mp4: 384x640 3 Retaks, 11.7ms\n",
            "video 1/1 (frame 6/570) /content/istockphoto-937868038-640_adpp_is.mp4: 384x640 1 Retak, 11.9ms\n",
            "video 1/1 (frame 7/570) /content/istockphoto-937868038-640_adpp_is.mp4: 384x640 1 Retak, 11.9ms\n",
            "video 1/1 (frame 8/570) /content/istockphoto-937868038-640_adpp_is.mp4: 384x640 1 Berlubang, 11.0ms\n",
            "video 1/1 (frame 9/570) /content/istockphoto-937868038-640_adpp_is.mp4: 384x640 (no detections), 13.2ms\n",
            "video 1/1 (frame 10/570) /content/istockphoto-937868038-640_adpp_is.mp4: 384x640 1 Retak, 12.7ms\n",
            "video 1/1 (frame 11/570) /content/istockphoto-937868038-640_adpp_is.mp4: 384x640 1 Retak, 12.4ms\n",
            "video 1/1 (frame 12/570) /content/istockphoto-937868038-640_adpp_is.mp4: 384x640 (no detections), 11.8ms\n",
            "video 1/1 (frame 13/570) /content/istockphoto-937868038-640_adpp_is.mp4: 384x640 (no detections), 11.7ms\n",
            "video 1/1 (frame 14/570) /content/istockphoto-937868038-640_adpp_is.mp4: 384x640 (no detections), 11.8ms\n",
            "video 1/1 (frame 15/570) /content/istockphoto-937868038-640_adpp_is.mp4: 384x640 (no detections), 11.6ms\n",
            "video 1/1 (frame 16/570) /content/istockphoto-937868038-640_adpp_is.mp4: 384x640 (no detections), 13.2ms\n",
            "video 1/1 (frame 17/570) /content/istockphoto-937868038-640_adpp_is.mp4: 384x640 1 Berlubang, 11.9ms\n",
            "video 1/1 (frame 18/570) /content/istockphoto-937868038-640_adpp_is.mp4: 384x640 (no detections), 15.6ms\n",
            "video 1/1 (frame 19/570) /content/istockphoto-937868038-640_adpp_is.mp4: 384x640 (no detections), 13.5ms\n",
            "video 1/1 (frame 20/570) /content/istockphoto-937868038-640_adpp_is.mp4: 384x640 1 Berlubang, 11.6ms\n",
            "video 1/1 (frame 21/570) /content/istockphoto-937868038-640_adpp_is.mp4: 384x640 1 Berlubang, 12.5ms\n",
            "video 1/1 (frame 22/570) /content/istockphoto-937868038-640_adpp_is.mp4: 384x640 1 Berlubang, 15.4ms\n",
            "video 1/1 (frame 23/570) /content/istockphoto-937868038-640_adpp_is.mp4: 384x640 1 Berlubang, 13.6ms\n",
            "video 1/1 (frame 24/570) /content/istockphoto-937868038-640_adpp_is.mp4: 384x640 1 Berlubang, 11.2ms\n",
            "video 1/1 (frame 25/570) /content/istockphoto-937868038-640_adpp_is.mp4: 384x640 1 Berlubang, 10.7ms\n",
            "video 1/1 (frame 26/570) /content/istockphoto-937868038-640_adpp_is.mp4: 384x640 2 Berlubangs, 10.7ms\n",
            "video 1/1 (frame 27/570) /content/istockphoto-937868038-640_adpp_is.mp4: 384x640 2 Berlubangs, 10.7ms\n",
            "video 1/1 (frame 28/570) /content/istockphoto-937868038-640_adpp_is.mp4: 384x640 2 Berlubangs, 10.7ms\n",
            "video 1/1 (frame 29/570) /content/istockphoto-937868038-640_adpp_is.mp4: 384x640 3 Berlubangs, 10.7ms\n",
            "video 1/1 (frame 30/570) /content/istockphoto-937868038-640_adpp_is.mp4: 384x640 1 Berlubang, 10.6ms\n",
            "video 1/1 (frame 31/570) /content/istockphoto-937868038-640_adpp_is.mp4: 384x640 1 Berlubang, 10.3ms\n",
            "video 1/1 (frame 32/570) /content/istockphoto-937868038-640_adpp_is.mp4: 384x640 1 Berlubang, 10.3ms\n",
            "video 1/1 (frame 33/570) /content/istockphoto-937868038-640_adpp_is.mp4: 384x640 2 Berlubangs, 10.3ms\n",
            "video 1/1 (frame 34/570) /content/istockphoto-937868038-640_adpp_is.mp4: 384x640 1 Berlubang, 10.2ms\n",
            "video 1/1 (frame 35/570) /content/istockphoto-937868038-640_adpp_is.mp4: 384x640 2 Berlubangs, 10.3ms\n",
            "video 1/1 (frame 36/570) /content/istockphoto-937868038-640_adpp_is.mp4: 384x640 (no detections), 10.3ms\n",
            "video 1/1 (frame 37/570) /content/istockphoto-937868038-640_adpp_is.mp4: 384x640 (no detections), 10.2ms\n",
            "video 1/1 (frame 38/570) /content/istockphoto-937868038-640_adpp_is.mp4: 384x640 (no detections), 10.3ms\n",
            "video 1/1 (frame 39/570) /content/istockphoto-937868038-640_adpp_is.mp4: 384x640 (no detections), 9.3ms\n",
            "video 1/1 (frame 40/570) /content/istockphoto-937868038-640_adpp_is.mp4: 384x640 (no detections), 9.3ms\n",
            "video 1/1 (frame 41/570) /content/istockphoto-937868038-640_adpp_is.mp4: 384x640 (no detections), 9.3ms\n",
            "video 1/1 (frame 42/570) /content/istockphoto-937868038-640_adpp_is.mp4: 384x640 1 Berlubang, 9.3ms\n",
            "video 1/1 (frame 43/570) /content/istockphoto-937868038-640_adpp_is.mp4: 384x640 (no detections), 9.4ms\n",
            "video 1/1 (frame 44/570) /content/istockphoto-937868038-640_adpp_is.mp4: 384x640 1 Berlubang, 9.3ms\n",
            "video 1/1 (frame 45/570) /content/istockphoto-937868038-640_adpp_is.mp4: 384x640 (no detections), 9.3ms\n",
            "video 1/1 (frame 46/570) /content/istockphoto-937868038-640_adpp_is.mp4: 384x640 (no detections), 9.3ms\n",
            "video 1/1 (frame 47/570) /content/istockphoto-937868038-640_adpp_is.mp4: 384x640 (no detections), 9.3ms\n",
            "video 1/1 (frame 48/570) /content/istockphoto-937868038-640_adpp_is.mp4: 384x640 (no detections), 9.3ms\n",
            "video 1/1 (frame 49/570) /content/istockphoto-937868038-640_adpp_is.mp4: 384x640 (no detections), 8.9ms\n",
            "video 1/1 (frame 50/570) /content/istockphoto-937868038-640_adpp_is.mp4: 384x640 (no detections), 8.9ms\n",
            "video 1/1 (frame 51/570) /content/istockphoto-937868038-640_adpp_is.mp4: 384x640 (no detections), 8.8ms\n",
            "video 1/1 (frame 52/570) /content/istockphoto-937868038-640_adpp_is.mp4: 384x640 (no detections), 9.1ms\n",
            "video 1/1 (frame 53/570) /content/istockphoto-937868038-640_adpp_is.mp4: 384x640 2 Retaks, 9.0ms\n",
            "video 1/1 (frame 54/570) /content/istockphoto-937868038-640_adpp_is.mp4: 384x640 1 Berlubang, 2 Retaks, 8.9ms\n",
            "video 1/1 (frame 55/570) /content/istockphoto-937868038-640_adpp_is.mp4: 384x640 1 Berlubang, 1 Retak, 8.8ms\n",
            "video 1/1 (frame 56/570) /content/istockphoto-937868038-640_adpp_is.mp4: 384x640 (no detections), 8.9ms\n",
            "video 1/1 (frame 57/570) /content/istockphoto-937868038-640_adpp_is.mp4: 384x640 1 Berlubang, 8.7ms\n",
            "video 1/1 (frame 58/570) /content/istockphoto-937868038-640_adpp_is.mp4: 384x640 1 Berlubang, 8.7ms\n",
            "video 1/1 (frame 59/570) /content/istockphoto-937868038-640_adpp_is.mp4: 384x640 1 Berlubang, 8.7ms\n",
            "video 1/1 (frame 60/570) /content/istockphoto-937868038-640_adpp_is.mp4: 384x640 1 Berlubang, 1 Retak, 9.3ms\n",
            "video 1/1 (frame 61/570) /content/istockphoto-937868038-640_adpp_is.mp4: 384x640 (no detections), 8.7ms\n",
            "video 1/1 (frame 62/570) /content/istockphoto-937868038-640_adpp_is.mp4: 384x640 1 Retak, 8.7ms\n",
            "video 1/1 (frame 63/570) /content/istockphoto-937868038-640_adpp_is.mp4: 384x640 1 Berlubang, 8.7ms\n",
            "video 1/1 (frame 64/570) /content/istockphoto-937868038-640_adpp_is.mp4: 384x640 1 Retak, 8.7ms\n",
            "video 1/1 (frame 65/570) /content/istockphoto-937868038-640_adpp_is.mp4: 384x640 1 Berlubang, 8.7ms\n",
            "video 1/1 (frame 66/570) /content/istockphoto-937868038-640_adpp_is.mp4: 384x640 1 Berlubang, 1 Retak, 9.0ms\n",
            "video 1/1 (frame 67/570) /content/istockphoto-937868038-640_adpp_is.mp4: 384x640 1 Berlubang, 8.9ms\n",
            "video 1/1 (frame 68/570) /content/istockphoto-937868038-640_adpp_is.mp4: 384x640 1 Berlubang, 10.3ms\n",
            "video 1/1 (frame 69/570) /content/istockphoto-937868038-640_adpp_is.mp4: 384x640 1 Berlubang, 8.7ms\n",
            "video 1/1 (frame 70/570) /content/istockphoto-937868038-640_adpp_is.mp4: 384x640 (no detections), 9.8ms\n",
            "video 1/1 (frame 71/570) /content/istockphoto-937868038-640_adpp_is.mp4: 384x640 (no detections), 8.7ms\n",
            "video 1/1 (frame 72/570) /content/istockphoto-937868038-640_adpp_is.mp4: 384x640 (no detections), 8.7ms\n",
            "video 1/1 (frame 73/570) /content/istockphoto-937868038-640_adpp_is.mp4: 384x640 (no detections), 8.7ms\n",
            "video 1/1 (frame 74/570) /content/istockphoto-937868038-640_adpp_is.mp4: 384x640 (no detections), 8.8ms\n",
            "video 1/1 (frame 75/570) /content/istockphoto-937868038-640_adpp_is.mp4: 384x640 (no detections), 8.7ms\n",
            "video 1/1 (frame 76/570) /content/istockphoto-937868038-640_adpp_is.mp4: 384x640 (no detections), 9.4ms\n",
            "video 1/1 (frame 77/570) /content/istockphoto-937868038-640_adpp_is.mp4: 384x640 (no detections), 8.7ms\n",
            "video 1/1 (frame 78/570) /content/istockphoto-937868038-640_adpp_is.mp4: 384x640 (no detections), 9.0ms\n",
            "video 1/1 (frame 79/570) /content/istockphoto-937868038-640_adpp_is.mp4: 384x640 (no detections), 8.7ms\n",
            "video 1/1 (frame 80/570) /content/istockphoto-937868038-640_adpp_is.mp4: 384x640 1 Retak, 8.7ms\n",
            "video 1/1 (frame 81/570) /content/istockphoto-937868038-640_adpp_is.mp4: 384x640 1 Retak, 8.7ms\n",
            "video 1/1 (frame 82/570) /content/istockphoto-937868038-640_adpp_is.mp4: 384x640 1 Retak, 8.9ms\n",
            "video 1/1 (frame 83/570) /content/istockphoto-937868038-640_adpp_is.mp4: 384x640 1 Retak, 8.7ms\n",
            "video 1/1 (frame 84/570) /content/istockphoto-937868038-640_adpp_is.mp4: 384x640 1 Retak, 8.6ms\n",
            "video 1/1 (frame 85/570) /content/istockphoto-937868038-640_adpp_is.mp4: 384x640 1 Retak, 8.6ms\n",
            "video 1/1 (frame 86/570) /content/istockphoto-937868038-640_adpp_is.mp4: 384x640 1 Retak, 8.6ms\n",
            "video 1/1 (frame 87/570) /content/istockphoto-937868038-640_adpp_is.mp4: 384x640 1 Retak, 8.5ms\n",
            "video 1/1 (frame 88/570) /content/istockphoto-937868038-640_adpp_is.mp4: 384x640 (no detections), 8.6ms\n",
            "video 1/1 (frame 89/570) /content/istockphoto-937868038-640_adpp_is.mp4: 384x640 (no detections), 8.5ms\n",
            "video 1/1 (frame 90/570) /content/istockphoto-937868038-640_adpp_is.mp4: 384x640 (no detections), 8.6ms\n",
            "video 1/1 (frame 91/570) /content/istockphoto-937868038-640_adpp_is.mp4: 384x640 1 Retak, 8.6ms\n",
            "video 1/1 (frame 92/570) /content/istockphoto-937868038-640_adpp_is.mp4: 384x640 (no detections), 9.2ms\n",
            "video 1/1 (frame 93/570) /content/istockphoto-937868038-640_adpp_is.mp4: 384x640 1 Berlubang, 8.5ms\n",
            "video 1/1 (frame 94/570) /content/istockphoto-937868038-640_adpp_is.mp4: 384x640 1 Berlubang, 10.6ms\n",
            "video 1/1 (frame 95/570) /content/istockphoto-937868038-640_adpp_is.mp4: 384x640 1 Berlubang, 8.3ms\n",
            "video 1/1 (frame 96/570) /content/istockphoto-937868038-640_adpp_is.mp4: 384x640 1 Berlubang, 8.9ms\n",
            "video 1/1 (frame 97/570) /content/istockphoto-937868038-640_adpp_is.mp4: 384x640 1 Berlubang, 8.3ms\n",
            "video 1/1 (frame 98/570) /content/istockphoto-937868038-640_adpp_is.mp4: 384x640 1 Berlubang, 9.0ms\n",
            "video 1/1 (frame 99/570) /content/istockphoto-937868038-640_adpp_is.mp4: 384x640 (no detections), 8.3ms\n",
            "video 1/1 (frame 100/570) /content/istockphoto-937868038-640_adpp_is.mp4: 384x640 1 Berlubang, 9.0ms\n",
            "video 1/1 (frame 101/570) /content/istockphoto-937868038-640_adpp_is.mp4: 384x640 1 Berlubang, 8.3ms\n",
            "video 1/1 (frame 102/570) /content/istockphoto-937868038-640_adpp_is.mp4: 384x640 (no detections), 9.1ms\n",
            "video 1/1 (frame 103/570) /content/istockphoto-937868038-640_adpp_is.mp4: 384x640 (no detections), 8.3ms\n",
            "video 1/1 (frame 104/570) /content/istockphoto-937868038-640_adpp_is.mp4: 384x640 (no detections), 9.6ms\n",
            "video 1/1 (frame 105/570) /content/istockphoto-937868038-640_adpp_is.mp4: 384x640 (no detections), 8.3ms\n",
            "video 1/1 (frame 106/570) /content/istockphoto-937868038-640_adpp_is.mp4: 384x640 (no detections), 9.2ms\n",
            "video 1/1 (frame 107/570) /content/istockphoto-937868038-640_adpp_is.mp4: 384x640 (no detections), 9.1ms\n",
            "video 1/1 (frame 108/570) /content/istockphoto-937868038-640_adpp_is.mp4: 384x640 (no detections), 8.3ms\n",
            "video 1/1 (frame 109/570) /content/istockphoto-937868038-640_adpp_is.mp4: 384x640 (no detections), 8.3ms\n",
            "video 1/1 (frame 110/570) /content/istockphoto-937868038-640_adpp_is.mp4: 384x640 (no detections), 9.3ms\n",
            "video 1/1 (frame 111/570) /content/istockphoto-937868038-640_adpp_is.mp4: 384x640 (no detections), 8.7ms\n",
            "video 1/1 (frame 112/570) /content/istockphoto-937868038-640_adpp_is.mp4: 384x640 (no detections), 8.3ms\n",
            "video 1/1 (frame 113/570) /content/istockphoto-937868038-640_adpp_is.mp4: 384x640 (no detections), 8.9ms\n",
            "video 1/1 (frame 114/570) /content/istockphoto-937868038-640_adpp_is.mp4: 384x640 (no detections), 8.3ms\n",
            "video 1/1 (frame 115/570) /content/istockphoto-937868038-640_adpp_is.mp4: 384x640 (no detections), 12.1ms\n",
            "video 1/1 (frame 116/570) /content/istockphoto-937868038-640_adpp_is.mp4: 384x640 (no detections), 8.6ms\n",
            "video 1/1 (frame 117/570) /content/istockphoto-937868038-640_adpp_is.mp4: 384x640 (no detections), 8.9ms\n",
            "video 1/1 (frame 118/570) /content/istockphoto-937868038-640_adpp_is.mp4: 384x640 (no detections), 8.3ms\n",
            "video 1/1 (frame 119/570) /content/istockphoto-937868038-640_adpp_is.mp4: 384x640 (no detections), 9.1ms\n",
            "video 1/1 (frame 120/570) /content/istockphoto-937868038-640_adpp_is.mp4: 384x640 (no detections), 8.3ms\n",
            "video 1/1 (frame 121/570) /content/istockphoto-937868038-640_adpp_is.mp4: 384x640 (no detections), 8.7ms\n",
            "video 1/1 (frame 122/570) /content/istockphoto-937868038-640_adpp_is.mp4: 384x640 (no detections), 8.3ms\n",
            "video 1/1 (frame 123/570) /content/istockphoto-937868038-640_adpp_is.mp4: 384x640 (no detections), 8.5ms\n",
            "video 1/1 (frame 124/570) /content/istockphoto-937868038-640_adpp_is.mp4: 384x640 (no detections), 8.3ms\n",
            "video 1/1 (frame 125/570) /content/istockphoto-937868038-640_adpp_is.mp4: 384x640 (no detections), 8.9ms\n",
            "video 1/1 (frame 126/570) /content/istockphoto-937868038-640_adpp_is.mp4: 384x640 (no detections), 8.3ms\n",
            "video 1/1 (frame 127/570) /content/istockphoto-937868038-640_adpp_is.mp4: 384x640 (no detections), 8.3ms\n",
            "video 1/1 (frame 128/570) /content/istockphoto-937868038-640_adpp_is.mp4: 384x640 (no detections), 8.3ms\n",
            "video 1/1 (frame 129/570) /content/istockphoto-937868038-640_adpp_is.mp4: 384x640 (no detections), 8.3ms\n",
            "video 1/1 (frame 130/570) /content/istockphoto-937868038-640_adpp_is.mp4: 384x640 (no detections), 8.3ms\n",
            "video 1/1 (frame 131/570) /content/istockphoto-937868038-640_adpp_is.mp4: 384x640 (no detections), 8.3ms\n",
            "video 1/1 (frame 132/570) /content/istockphoto-937868038-640_adpp_is.mp4: 384x640 (no detections), 8.3ms\n",
            "video 1/1 (frame 133/570) /content/istockphoto-937868038-640_adpp_is.mp4: 384x640 (no detections), 8.3ms\n",
            "video 1/1 (frame 134/570) /content/istockphoto-937868038-640_adpp_is.mp4: 384x640 (no detections), 8.3ms\n",
            "video 1/1 (frame 135/570) /content/istockphoto-937868038-640_adpp_is.mp4: 384x640 (no detections), 8.3ms\n",
            "video 1/1 (frame 136/570) /content/istockphoto-937868038-640_adpp_is.mp4: 384x640 (no detections), 8.3ms\n",
            "video 1/1 (frame 137/570) /content/istockphoto-937868038-640_adpp_is.mp4: 384x640 (no detections), 8.9ms\n",
            "video 1/1 (frame 138/570) /content/istockphoto-937868038-640_adpp_is.mp4: 384x640 (no detections), 8.3ms\n",
            "video 1/1 (frame 139/570) /content/istockphoto-937868038-640_adpp_is.mp4: 384x640 (no detections), 8.4ms\n",
            "video 1/1 (frame 140/570) /content/istockphoto-937868038-640_adpp_is.mp4: 384x640 (no detections), 8.3ms\n",
            "video 1/1 (frame 141/570) /content/istockphoto-937868038-640_adpp_is.mp4: 384x640 (no detections), 7.9ms\n",
            "video 1/1 (frame 142/570) /content/istockphoto-937868038-640_adpp_is.mp4: 384x640 (no detections), 8.0ms\n",
            "video 1/1 (frame 143/570) /content/istockphoto-937868038-640_adpp_is.mp4: 384x640 (no detections), 8.0ms\n",
            "video 1/1 (frame 144/570) /content/istockphoto-937868038-640_adpp_is.mp4: 384x640 (no detections), 7.9ms\n",
            "video 1/1 (frame 145/570) /content/istockphoto-937868038-640_adpp_is.mp4: 384x640 (no detections), 7.9ms\n",
            "video 1/1 (frame 146/570) /content/istockphoto-937868038-640_adpp_is.mp4: 384x640 (no detections), 8.0ms\n",
            "video 1/1 (frame 147/570) /content/istockphoto-937868038-640_adpp_is.mp4: 384x640 (no detections), 8.0ms\n",
            "video 1/1 (frame 148/570) /content/istockphoto-937868038-640_adpp_is.mp4: 384x640 (no detections), 7.9ms\n",
            "video 1/1 (frame 149/570) /content/istockphoto-937868038-640_adpp_is.mp4: 384x640 (no detections), 8.0ms\n",
            "video 1/1 (frame 150/570) /content/istockphoto-937868038-640_adpp_is.mp4: 384x640 (no detections), 7.9ms\n",
            "video 1/1 (frame 151/570) /content/istockphoto-937868038-640_adpp_is.mp4: 384x640 (no detections), 7.9ms\n",
            "video 1/1 (frame 152/570) /content/istockphoto-937868038-640_adpp_is.mp4: 384x640 (no detections), 8.0ms\n",
            "video 1/1 (frame 153/570) /content/istockphoto-937868038-640_adpp_is.mp4: 384x640 (no detections), 8.1ms\n",
            "video 1/1 (frame 154/570) /content/istockphoto-937868038-640_adpp_is.mp4: 384x640 (no detections), 8.0ms\n",
            "video 1/1 (frame 155/570) /content/istockphoto-937868038-640_adpp_is.mp4: 384x640 (no detections), 9.0ms\n",
            "video 1/1 (frame 156/570) /content/istockphoto-937868038-640_adpp_is.mp4: 384x640 (no detections), 8.0ms\n",
            "video 1/1 (frame 157/570) /content/istockphoto-937868038-640_adpp_is.mp4: 384x640 (no detections), 8.3ms\n",
            "video 1/1 (frame 158/570) /content/istockphoto-937868038-640_adpp_is.mp4: 384x640 (no detections), 8.9ms\n",
            "video 1/1 (frame 159/570) /content/istockphoto-937868038-640_adpp_is.mp4: 384x640 1 Berlubang, 8.0ms\n",
            "video 1/1 (frame 160/570) /content/istockphoto-937868038-640_adpp_is.mp4: 384x640 1 Berlubang, 7.9ms\n",
            "video 1/1 (frame 161/570) /content/istockphoto-937868038-640_adpp_is.mp4: 384x640 (no detections), 9.0ms\n",
            "video 1/1 (frame 162/570) /content/istockphoto-937868038-640_adpp_is.mp4: 384x640 1 Berlubang, 8.0ms\n",
            "video 1/1 (frame 163/570) /content/istockphoto-937868038-640_adpp_is.mp4: 384x640 2 Berlubangs, 8.8ms\n",
            "video 1/1 (frame 164/570) /content/istockphoto-937868038-640_adpp_is.mp4: 384x640 1 Berlubang, 13.6ms\n",
            "video 1/1 (frame 165/570) /content/istockphoto-937868038-640_adpp_is.mp4: 384x640 (no detections), 8.0ms\n",
            "video 1/1 (frame 166/570) /content/istockphoto-937868038-640_adpp_is.mp4: 384x640 (no detections), 8.0ms\n",
            "video 1/1 (frame 167/570) /content/istockphoto-937868038-640_adpp_is.mp4: 384x640 (no detections), 7.9ms\n",
            "video 1/1 (frame 168/570) /content/istockphoto-937868038-640_adpp_is.mp4: 384x640 (no detections), 7.9ms\n",
            "video 1/1 (frame 169/570) /content/istockphoto-937868038-640_adpp_is.mp4: 384x640 (no detections), 8.0ms\n",
            "video 1/1 (frame 170/570) /content/istockphoto-937868038-640_adpp_is.mp4: 384x640 (no detections), 8.0ms\n",
            "video 1/1 (frame 171/570) /content/istockphoto-937868038-640_adpp_is.mp4: 384x640 (no detections), 8.0ms\n",
            "video 1/1 (frame 172/570) /content/istockphoto-937868038-640_adpp_is.mp4: 384x640 (no detections), 8.0ms\n",
            "video 1/1 (frame 173/570) /content/istockphoto-937868038-640_adpp_is.mp4: 384x640 (no detections), 8.0ms\n",
            "video 1/1 (frame 174/570) /content/istockphoto-937868038-640_adpp_is.mp4: 384x640 (no detections), 7.9ms\n",
            "video 1/1 (frame 175/570) /content/istockphoto-937868038-640_adpp_is.mp4: 384x640 (no detections), 8.2ms\n",
            "video 1/1 (frame 176/570) /content/istockphoto-937868038-640_adpp_is.mp4: 384x640 (no detections), 8.0ms\n",
            "video 1/1 (frame 177/570) /content/istockphoto-937868038-640_adpp_is.mp4: 384x640 (no detections), 8.6ms\n",
            "video 1/1 (frame 178/570) /content/istockphoto-937868038-640_adpp_is.mp4: 384x640 (no detections), 8.0ms\n",
            "video 1/1 (frame 179/570) /content/istockphoto-937868038-640_adpp_is.mp4: 384x640 (no detections), 9.2ms\n",
            "video 1/1 (frame 180/570) /content/istockphoto-937868038-640_adpp_is.mp4: 384x640 (no detections), 7.9ms\n",
            "video 1/1 (frame 181/570) /content/istockphoto-937868038-640_adpp_is.mp4: 384x640 (no detections), 8.8ms\n",
            "video 1/1 (frame 182/570) /content/istockphoto-937868038-640_adpp_is.mp4: 384x640 (no detections), 8.0ms\n",
            "video 1/1 (frame 183/570) /content/istockphoto-937868038-640_adpp_is.mp4: 384x640 (no detections), 9.6ms\n",
            "video 1/1 (frame 184/570) /content/istockphoto-937868038-640_adpp_is.mp4: 384x640 (no detections), 7.9ms\n",
            "video 1/1 (frame 185/570) /content/istockphoto-937868038-640_adpp_is.mp4: 384x640 (no detections), 9.0ms\n",
            "video 1/1 (frame 186/570) /content/istockphoto-937868038-640_adpp_is.mp4: 384x640 (no detections), 8.0ms\n",
            "video 1/1 (frame 187/570) /content/istockphoto-937868038-640_adpp_is.mp4: 384x640 (no detections), 8.7ms\n",
            "video 1/1 (frame 188/570) /content/istockphoto-937868038-640_adpp_is.mp4: 384x640 (no detections), 8.0ms\n",
            "video 1/1 (frame 189/570) /content/istockphoto-937868038-640_adpp_is.mp4: 384x640 (no detections), 10.8ms\n",
            "video 1/1 (frame 190/570) /content/istockphoto-937868038-640_adpp_is.mp4: 384x640 (no detections), 7.9ms\n",
            "video 1/1 (frame 191/570) /content/istockphoto-937868038-640_adpp_is.mp4: 384x640 1 Retak, 9.1ms\n",
            "video 1/1 (frame 192/570) /content/istockphoto-937868038-640_adpp_is.mp4: 384x640 (no detections), 8.0ms\n",
            "video 1/1 (frame 193/570) /content/istockphoto-937868038-640_adpp_is.mp4: 384x640 (no detections), 8.8ms\n",
            "video 1/1 (frame 194/570) /content/istockphoto-937868038-640_adpp_is.mp4: 384x640 (no detections), 8.0ms\n",
            "video 1/1 (frame 195/570) /content/istockphoto-937868038-640_adpp_is.mp4: 384x640 (no detections), 8.4ms\n",
            "video 1/1 (frame 196/570) /content/istockphoto-937868038-640_adpp_is.mp4: 384x640 (no detections), 7.9ms\n",
            "video 1/1 (frame 197/570) /content/istockphoto-937868038-640_adpp_is.mp4: 384x640 (no detections), 8.9ms\n",
            "video 1/1 (frame 198/570) /content/istockphoto-937868038-640_adpp_is.mp4: 384x640 (no detections), 7.9ms\n",
            "video 1/1 (frame 199/570) /content/istockphoto-937868038-640_adpp_is.mp4: 384x640 (no detections), 8.4ms\n",
            "video 1/1 (frame 200/570) /content/istockphoto-937868038-640_adpp_is.mp4: 384x640 (no detections), 8.0ms\n",
            "video 1/1 (frame 201/570) /content/istockphoto-937868038-640_adpp_is.mp4: 384x640 (no detections), 8.8ms\n",
            "video 1/1 (frame 202/570) /content/istockphoto-937868038-640_adpp_is.mp4: 384x640 (no detections), 8.1ms\n",
            "video 1/1 (frame 203/570) /content/istockphoto-937868038-640_adpp_is.mp4: 384x640 (no detections), 8.1ms\n",
            "video 1/1 (frame 204/570) /content/istockphoto-937868038-640_adpp_is.mp4: 384x640 (no detections), 8.1ms\n",
            "video 1/1 (frame 205/570) /content/istockphoto-937868038-640_adpp_is.mp4: 384x640 (no detections), 8.0ms\n",
            "video 1/1 (frame 206/570) /content/istockphoto-937868038-640_adpp_is.mp4: 384x640 (no detections), 8.3ms\n",
            "video 1/1 (frame 207/570) /content/istockphoto-937868038-640_adpp_is.mp4: 384x640 (no detections), 8.3ms\n",
            "video 1/1 (frame 208/570) /content/istockphoto-937868038-640_adpp_is.mp4: 384x640 (no detections), 8.0ms\n",
            "video 1/1 (frame 209/570) /content/istockphoto-937868038-640_adpp_is.mp4: 384x640 (no detections), 8.0ms\n",
            "video 1/1 (frame 210/570) /content/istockphoto-937868038-640_adpp_is.mp4: 384x640 (no detections), 7.9ms\n",
            "video 1/1 (frame 211/570) /content/istockphoto-937868038-640_adpp_is.mp4: 384x640 (no detections), 8.1ms\n",
            "video 1/1 (frame 212/570) /content/istockphoto-937868038-640_adpp_is.mp4: 384x640 (no detections), 11.2ms\n",
            "video 1/1 (frame 213/570) /content/istockphoto-937868038-640_adpp_is.mp4: 384x640 1 Berlubang, 8.0ms\n",
            "video 1/1 (frame 214/570) /content/istockphoto-937868038-640_adpp_is.mp4: 384x640 1 Berlubang, 9.2ms\n",
            "video 1/1 (frame 215/570) /content/istockphoto-937868038-640_adpp_is.mp4: 384x640 1 Berlubang, 8.0ms\n",
            "video 1/1 (frame 216/570) /content/istockphoto-937868038-640_adpp_is.mp4: 384x640 2 Berlubangs, 8.2ms\n",
            "video 1/1 (frame 217/570) /content/istockphoto-937868038-640_adpp_is.mp4: 384x640 (no detections), 8.5ms\n",
            "video 1/1 (frame 218/570) /content/istockphoto-937868038-640_adpp_is.mp4: 384x640 (no detections), 9.3ms\n",
            "video 1/1 (frame 219/570) /content/istockphoto-937868038-640_adpp_is.mp4: 384x640 (no detections), 9.2ms\n",
            "video 1/1 (frame 220/570) /content/istockphoto-937868038-640_adpp_is.mp4: 384x640 (no detections), 8.4ms\n",
            "video 1/1 (frame 221/570) /content/istockphoto-937868038-640_adpp_is.mp4: 384x640 (no detections), 8.6ms\n",
            "video 1/1 (frame 222/570) /content/istockphoto-937868038-640_adpp_is.mp4: 384x640 (no detections), 8.9ms\n",
            "video 1/1 (frame 223/570) /content/istockphoto-937868038-640_adpp_is.mp4: 384x640 (no detections), 8.6ms\n",
            "video 1/1 (frame 224/570) /content/istockphoto-937868038-640_adpp_is.mp4: 384x640 1 Retak, 8.3ms\n",
            "video 1/1 (frame 225/570) /content/istockphoto-937868038-640_adpp_is.mp4: 384x640 1 Retak, 8.7ms\n",
            "video 1/1 (frame 226/570) /content/istockphoto-937868038-640_adpp_is.mp4: 384x640 1 Retak, 8.2ms\n",
            "video 1/1 (frame 227/570) /content/istockphoto-937868038-640_adpp_is.mp4: 384x640 (no detections), 8.0ms\n",
            "video 1/1 (frame 228/570) /content/istockphoto-937868038-640_adpp_is.mp4: 384x640 (no detections), 8.5ms\n",
            "video 1/1 (frame 229/570) /content/istockphoto-937868038-640_adpp_is.mp4: 384x640 (no detections), 8.4ms\n",
            "video 1/1 (frame 230/570) /content/istockphoto-937868038-640_adpp_is.mp4: 384x640 (no detections), 7.9ms\n",
            "video 1/1 (frame 231/570) /content/istockphoto-937868038-640_adpp_is.mp4: 384x640 (no detections), 8.3ms\n",
            "video 1/1 (frame 232/570) /content/istockphoto-937868038-640_adpp_is.mp4: 384x640 (no detections), 7.9ms\n",
            "video 1/1 (frame 233/570) /content/istockphoto-937868038-640_adpp_is.mp4: 384x640 (no detections), 9.4ms\n",
            "video 1/1 (frame 234/570) /content/istockphoto-937868038-640_adpp_is.mp4: 384x640 (no detections), 8.0ms\n",
            "video 1/1 (frame 235/570) /content/istockphoto-937868038-640_adpp_is.mp4: 384x640 (no detections), 7.9ms\n",
            "video 1/1 (frame 236/570) /content/istockphoto-937868038-640_adpp_is.mp4: 384x640 (no detections), 9.6ms\n",
            "video 1/1 (frame 237/570) /content/istockphoto-937868038-640_adpp_is.mp4: 384x640 (no detections), 7.9ms\n",
            "video 1/1 (frame 238/570) /content/istockphoto-937868038-640_adpp_is.mp4: 384x640 (no detections), 10.4ms\n",
            "video 1/1 (frame 239/570) /content/istockphoto-937868038-640_adpp_is.mp4: 384x640 (no detections), 8.0ms\n",
            "video 1/1 (frame 240/570) /content/istockphoto-937868038-640_adpp_is.mp4: 384x640 (no detections), 8.6ms\n",
            "video 1/1 (frame 241/570) /content/istockphoto-937868038-640_adpp_is.mp4: 384x640 (no detections), 7.9ms\n",
            "video 1/1 (frame 242/570) /content/istockphoto-937868038-640_adpp_is.mp4: 384x640 (no detections), 7.9ms\n",
            "video 1/1 (frame 243/570) /content/istockphoto-937868038-640_adpp_is.mp4: 384x640 (no detections), 8.4ms\n",
            "video 1/1 (frame 244/570) /content/istockphoto-937868038-640_adpp_is.mp4: 384x640 (no detections), 7.9ms\n",
            "video 1/1 (frame 245/570) /content/istockphoto-937868038-640_adpp_is.mp4: 384x640 (no detections), 7.9ms\n",
            "video 1/1 (frame 246/570) /content/istockphoto-937868038-640_adpp_is.mp4: 384x640 (no detections), 7.9ms\n",
            "video 1/1 (frame 247/570) /content/istockphoto-937868038-640_adpp_is.mp4: 384x640 1 Berlubang, 7.9ms\n",
            "video 1/1 (frame 248/570) /content/istockphoto-937868038-640_adpp_is.mp4: 384x640 2 Berlubangs, 7.9ms\n",
            "video 1/1 (frame 249/570) /content/istockphoto-937868038-640_adpp_is.mp4: 384x640 1 Berlubang, 7.9ms\n",
            "video 1/1 (frame 250/570) /content/istockphoto-937868038-640_adpp_is.mp4: 384x640 2 Berlubangs, 1 Retak, 7.9ms\n",
            "video 1/1 (frame 251/570) /content/istockphoto-937868038-640_adpp_is.mp4: 384x640 (no detections), 7.9ms\n",
            "video 1/1 (frame 252/570) /content/istockphoto-937868038-640_adpp_is.mp4: 384x640 (no detections), 8.0ms\n",
            "video 1/1 (frame 253/570) /content/istockphoto-937868038-640_adpp_is.mp4: 384x640 (no detections), 7.9ms\n",
            "video 1/1 (frame 254/570) /content/istockphoto-937868038-640_adpp_is.mp4: 384x640 (no detections), 7.9ms\n",
            "video 1/1 (frame 255/570) /content/istockphoto-937868038-640_adpp_is.mp4: 384x640 (no detections), 8.7ms\n",
            "video 1/1 (frame 256/570) /content/istockphoto-937868038-640_adpp_is.mp4: 384x640 (no detections), 7.9ms\n",
            "video 1/1 (frame 257/570) /content/istockphoto-937868038-640_adpp_is.mp4: 384x640 1 Berlubang, 8.7ms\n",
            "video 1/1 (frame 258/570) /content/istockphoto-937868038-640_adpp_is.mp4: 384x640 (no detections), 7.8ms\n",
            "video 1/1 (frame 259/570) /content/istockphoto-937868038-640_adpp_is.mp4: 384x640 (no detections), 9.0ms\n",
            "video 1/1 (frame 260/570) /content/istockphoto-937868038-640_adpp_is.mp4: 384x640 2 Berlubangs, 7.9ms\n",
            "video 1/1 (frame 261/570) /content/istockphoto-937868038-640_adpp_is.mp4: 384x640 1 Berlubang, 9.6ms\n",
            "video 1/1 (frame 262/570) /content/istockphoto-937868038-640_adpp_is.mp4: 384x640 1 Berlubang, 8.8ms\n",
            "video 1/1 (frame 263/570) /content/istockphoto-937868038-640_adpp_is.mp4: 384x640 1 Berlubang, 7.9ms\n",
            "video 1/1 (frame 264/570) /content/istockphoto-937868038-640_adpp_is.mp4: 384x640 1 Berlubang, 8.3ms\n",
            "video 1/1 (frame 265/570) /content/istockphoto-937868038-640_adpp_is.mp4: 384x640 (no detections), 7.8ms\n",
            "video 1/1 (frame 266/570) /content/istockphoto-937868038-640_adpp_is.mp4: 384x640 1 Berlubang, 9.1ms\n",
            "video 1/1 (frame 267/570) /content/istockphoto-937868038-640_adpp_is.mp4: 384x640 (no detections), 7.9ms\n",
            "video 1/1 (frame 268/570) /content/istockphoto-937868038-640_adpp_is.mp4: 384x640 (no detections), 8.4ms\n",
            "video 1/1 (frame 269/570) /content/istockphoto-937868038-640_adpp_is.mp4: 384x640 (no detections), 7.8ms\n",
            "video 1/1 (frame 270/570) /content/istockphoto-937868038-640_adpp_is.mp4: 384x640 1 Berlubang, 8.6ms\n",
            "video 1/1 (frame 271/570) /content/istockphoto-937868038-640_adpp_is.mp4: 384x640 1 Retak, 7.9ms\n",
            "video 1/1 (frame 272/570) /content/istockphoto-937868038-640_adpp_is.mp4: 384x640 1 Retak, 8.3ms\n",
            "video 1/1 (frame 273/570) /content/istockphoto-937868038-640_adpp_is.mp4: 384x640 1 Retak, 7.8ms\n",
            "video 1/1 (frame 274/570) /content/istockphoto-937868038-640_adpp_is.mp4: 384x640 1 Berlubang, 2 Retaks, 8.6ms\n",
            "video 1/1 (frame 275/570) /content/istockphoto-937868038-640_adpp_is.mp4: 384x640 1 Berlubang, 7.8ms\n",
            "video 1/1 (frame 276/570) /content/istockphoto-937868038-640_adpp_is.mp4: 384x640 1 Retak, 8.3ms\n",
            "video 1/1 (frame 277/570) /content/istockphoto-937868038-640_adpp_is.mp4: 384x640 1 Retak, 7.9ms\n",
            "video 1/1 (frame 278/570) /content/istockphoto-937868038-640_adpp_is.mp4: 384x640 1 Retak, 9.3ms\n",
            "video 1/1 (frame 279/570) /content/istockphoto-937868038-640_adpp_is.mp4: 384x640 1 Retak, 7.9ms\n",
            "video 1/1 (frame 280/570) /content/istockphoto-937868038-640_adpp_is.mp4: 384x640 1 Retak, 8.3ms\n",
            "video 1/1 (frame 281/570) /content/istockphoto-937868038-640_adpp_is.mp4: 384x640 1 Retak, 9.5ms\n",
            "video 1/1 (frame 282/570) /content/istockphoto-937868038-640_adpp_is.mp4: 384x640 (no detections), 8.5ms\n",
            "video 1/1 (frame 283/570) /content/istockphoto-937868038-640_adpp_is.mp4: 384x640 1 Retak, 8.0ms\n",
            "video 1/1 (frame 284/570) /content/istockphoto-937868038-640_adpp_is.mp4: 384x640 1 Retak, 7.8ms\n",
            "video 1/1 (frame 285/570) /content/istockphoto-937868038-640_adpp_is.mp4: 384x640 1 Retak, 9.4ms\n",
            "video 1/1 (frame 286/570) /content/istockphoto-937868038-640_adpp_is.mp4: 384x640 (no detections), 7.9ms\n",
            "video 1/1 (frame 287/570) /content/istockphoto-937868038-640_adpp_is.mp4: 384x640 (no detections), 7.9ms\n",
            "video 1/1 (frame 288/570) /content/istockphoto-937868038-640_adpp_is.mp4: 384x640 (no detections), 8.1ms\n",
            "video 1/1 (frame 289/570) /content/istockphoto-937868038-640_adpp_is.mp4: 384x640 (no detections), 8.6ms\n",
            "video 1/1 (frame 290/570) /content/istockphoto-937868038-640_adpp_is.mp4: 384x640 (no detections), 8.9ms\n",
            "video 1/1 (frame 291/570) /content/istockphoto-937868038-640_adpp_is.mp4: 384x640 1 Retak, 7.8ms\n",
            "video 1/1 (frame 292/570) /content/istockphoto-937868038-640_adpp_is.mp4: 384x640 (no detections), 8.5ms\n",
            "video 1/1 (frame 293/570) /content/istockphoto-937868038-640_adpp_is.mp4: 384x640 (no detections), 8.0ms\n",
            "video 1/1 (frame 294/570) /content/istockphoto-937868038-640_adpp_is.mp4: 384x640 (no detections), 8.0ms\n",
            "video 1/1 (frame 295/570) /content/istockphoto-937868038-640_adpp_is.mp4: 384x640 (no detections), 7.8ms\n",
            "video 1/1 (frame 296/570) /content/istockphoto-937868038-640_adpp_is.mp4: 384x640 (no detections), 7.9ms\n",
            "video 1/1 (frame 297/570) /content/istockphoto-937868038-640_adpp_is.mp4: 384x640 (no detections), 8.0ms\n",
            "video 1/1 (frame 298/570) /content/istockphoto-937868038-640_adpp_is.mp4: 384x640 (no detections), 8.7ms\n",
            "video 1/1 (frame 299/570) /content/istockphoto-937868038-640_adpp_is.mp4: 384x640 (no detections), 12.8ms\n",
            "video 1/1 (frame 300/570) /content/istockphoto-937868038-640_adpp_is.mp4: 384x640 (no detections), 8.4ms\n",
            "video 1/1 (frame 301/570) /content/istockphoto-937868038-640_adpp_is.mp4: 384x640 (no detections), 9.4ms\n",
            "video 1/1 (frame 302/570) /content/istockphoto-937868038-640_adpp_is.mp4: 384x640 (no detections), 8.4ms\n",
            "video 1/1 (frame 303/570) /content/istockphoto-937868038-640_adpp_is.mp4: 384x640 (no detections), 8.2ms\n",
            "video 1/1 (frame 304/570) /content/istockphoto-937868038-640_adpp_is.mp4: 384x640 (no detections), 9.4ms\n",
            "video 1/1 (frame 305/570) /content/istockphoto-937868038-640_adpp_is.mp4: 384x640 (no detections), 8.2ms\n",
            "video 1/1 (frame 306/570) /content/istockphoto-937868038-640_adpp_is.mp4: 384x640 (no detections), 10.9ms\n",
            "video 1/1 (frame 307/570) /content/istockphoto-937868038-640_adpp_is.mp4: 384x640 (no detections), 11.6ms\n",
            "video 1/1 (frame 308/570) /content/istockphoto-937868038-640_adpp_is.mp4: 384x640 (no detections), 9.1ms\n",
            "video 1/1 (frame 309/570) /content/istockphoto-937868038-640_adpp_is.mp4: 384x640 (no detections), 8.3ms\n",
            "video 1/1 (frame 310/570) /content/istockphoto-937868038-640_adpp_is.mp4: 384x640 (no detections), 8.3ms\n",
            "video 1/1 (frame 311/570) /content/istockphoto-937868038-640_adpp_is.mp4: 384x640 (no detections), 8.3ms\n",
            "video 1/1 (frame 312/570) /content/istockphoto-937868038-640_adpp_is.mp4: 384x640 (no detections), 8.3ms\n",
            "video 1/1 (frame 313/570) /content/istockphoto-937868038-640_adpp_is.mp4: 384x640 (no detections), 8.3ms\n",
            "video 1/1 (frame 314/570) /content/istockphoto-937868038-640_adpp_is.mp4: 384x640 (no detections), 9.5ms\n",
            "video 1/1 (frame 315/570) /content/istockphoto-937868038-640_adpp_is.mp4: 384x640 (no detections), 8.3ms\n",
            "video 1/1 (frame 316/570) /content/istockphoto-937868038-640_adpp_is.mp4: 384x640 (no detections), 8.3ms\n",
            "video 1/1 (frame 317/570) /content/istockphoto-937868038-640_adpp_is.mp4: 384x640 (no detections), 8.3ms\n",
            "video 1/1 (frame 318/570) /content/istockphoto-937868038-640_adpp_is.mp4: 384x640 (no detections), 8.3ms\n",
            "video 1/1 (frame 319/570) /content/istockphoto-937868038-640_adpp_is.mp4: 384x640 (no detections), 9.9ms\n",
            "video 1/1 (frame 320/570) /content/istockphoto-937868038-640_adpp_is.mp4: 384x640 (no detections), 9.2ms\n",
            "video 1/1 (frame 321/570) /content/istockphoto-937868038-640_adpp_is.mp4: 384x640 (no detections), 8.4ms\n",
            "video 1/1 (frame 322/570) /content/istockphoto-937868038-640_adpp_is.mp4: 384x640 (no detections), 8.6ms\n",
            "video 1/1 (frame 323/570) /content/istockphoto-937868038-640_adpp_is.mp4: 384x640 1 Berlubang, 8.6ms\n",
            "video 1/1 (frame 324/570) /content/istockphoto-937868038-640_adpp_is.mp4: 384x640 1 Berlubang, 8.3ms\n",
            "video 1/1 (frame 325/570) /content/istockphoto-937868038-640_adpp_is.mp4: 384x640 (no detections), 9.7ms\n",
            "video 1/1 (frame 326/570) /content/istockphoto-937868038-640_adpp_is.mp4: 384x640 (no detections), 8.4ms\n",
            "video 1/1 (frame 327/570) /content/istockphoto-937868038-640_adpp_is.mp4: 384x640 (no detections), 8.6ms\n",
            "video 1/1 (frame 328/570) /content/istockphoto-937868038-640_adpp_is.mp4: 384x640 1 Berlubang, 8.5ms\n",
            "video 1/1 (frame 329/570) /content/istockphoto-937868038-640_adpp_is.mp4: 384x640 1 Berlubang, 8.4ms\n",
            "video 1/1 (frame 330/570) /content/istockphoto-937868038-640_adpp_is.mp4: 384x640 1 Berlubang, 8.5ms\n",
            "video 1/1 (frame 331/570) /content/istockphoto-937868038-640_adpp_is.mp4: 384x640 (no detections), 8.5ms\n",
            "video 1/1 (frame 332/570) /content/istockphoto-937868038-640_adpp_is.mp4: 384x640 (no detections), 9.0ms\n",
            "video 1/1 (frame 333/570) /content/istockphoto-937868038-640_adpp_is.mp4: 384x640 (no detections), 8.5ms\n",
            "video 1/1 (frame 334/570) /content/istockphoto-937868038-640_adpp_is.mp4: 384x640 (no detections), 8.7ms\n",
            "video 1/1 (frame 335/570) /content/istockphoto-937868038-640_adpp_is.mp4: 384x640 (no detections), 8.8ms\n",
            "video 1/1 (frame 336/570) /content/istockphoto-937868038-640_adpp_is.mp4: 384x640 (no detections), 10.6ms\n",
            "video 1/1 (frame 337/570) /content/istockphoto-937868038-640_adpp_is.mp4: 384x640 (no detections), 8.8ms\n",
            "video 1/1 (frame 338/570) /content/istockphoto-937868038-640_adpp_is.mp4: 384x640 (no detections), 8.9ms\n",
            "video 1/1 (frame 339/570) /content/istockphoto-937868038-640_adpp_is.mp4: 384x640 (no detections), 8.5ms\n",
            "video 1/1 (frame 340/570) /content/istockphoto-937868038-640_adpp_is.mp4: 384x640 (no detections), 8.6ms\n",
            "video 1/1 (frame 341/570) /content/istockphoto-937868038-640_adpp_is.mp4: 384x640 (no detections), 8.4ms\n",
            "video 1/1 (frame 342/570) /content/istockphoto-937868038-640_adpp_is.mp4: 384x640 (no detections), 8.5ms\n",
            "video 1/1 (frame 343/570) /content/istockphoto-937868038-640_adpp_is.mp4: 384x640 (no detections), 8.4ms\n",
            "video 1/1 (frame 344/570) /content/istockphoto-937868038-640_adpp_is.mp4: 384x640 (no detections), 8.6ms\n",
            "video 1/1 (frame 345/570) /content/istockphoto-937868038-640_adpp_is.mp4: 384x640 (no detections), 8.4ms\n",
            "video 1/1 (frame 346/570) /content/istockphoto-937868038-640_adpp_is.mp4: 384x640 (no detections), 8.9ms\n",
            "video 1/1 (frame 347/570) /content/istockphoto-937868038-640_adpp_is.mp4: 384x640 (no detections), 10.1ms\n",
            "video 1/1 (frame 348/570) /content/istockphoto-937868038-640_adpp_is.mp4: 384x640 (no detections), 8.4ms\n",
            "video 1/1 (frame 349/570) /content/istockphoto-937868038-640_adpp_is.mp4: 384x640 (no detections), 10.0ms\n",
            "video 1/1 (frame 350/570) /content/istockphoto-937868038-640_adpp_is.mp4: 384x640 (no detections), 8.4ms\n",
            "video 1/1 (frame 351/570) /content/istockphoto-937868038-640_adpp_is.mp4: 384x640 (no detections), 9.4ms\n",
            "video 1/1 (frame 352/570) /content/istockphoto-937868038-640_adpp_is.mp4: 384x640 (no detections), 8.5ms\n",
            "video 1/1 (frame 353/570) /content/istockphoto-937868038-640_adpp_is.mp4: 384x640 (no detections), 16.2ms\n",
            "video 1/1 (frame 354/570) /content/istockphoto-937868038-640_adpp_is.mp4: 384x640 (no detections), 8.9ms\n",
            "video 1/1 (frame 355/570) /content/istockphoto-937868038-640_adpp_is.mp4: 384x640 1 Berlubang, 8.4ms\n",
            "video 1/1 (frame 356/570) /content/istockphoto-937868038-640_adpp_is.mp4: 384x640 (no detections), 9.0ms\n",
            "video 1/1 (frame 357/570) /content/istockphoto-937868038-640_adpp_is.mp4: 384x640 (no detections), 8.4ms\n",
            "video 1/1 (frame 358/570) /content/istockphoto-937868038-640_adpp_is.mp4: 384x640 (no detections), 8.8ms\n",
            "video 1/1 (frame 359/570) /content/istockphoto-937868038-640_adpp_is.mp4: 384x640 (no detections), 8.5ms\n",
            "video 1/1 (frame 360/570) /content/istockphoto-937868038-640_adpp_is.mp4: 384x640 (no detections), 10.3ms\n",
            "video 1/1 (frame 361/570) /content/istockphoto-937868038-640_adpp_is.mp4: 384x640 (no detections), 8.5ms\n",
            "video 1/1 (frame 362/570) /content/istockphoto-937868038-640_adpp_is.mp4: 384x640 (no detections), 8.4ms\n",
            "video 1/1 (frame 363/570) /content/istockphoto-937868038-640_adpp_is.mp4: 384x640 (no detections), 8.4ms\n",
            "video 1/1 (frame 364/570) /content/istockphoto-937868038-640_adpp_is.mp4: 384x640 (no detections), 8.8ms\n",
            "video 1/1 (frame 365/570) /content/istockphoto-937868038-640_adpp_is.mp4: 384x640 (no detections), 8.4ms\n",
            "video 1/1 (frame 366/570) /content/istockphoto-937868038-640_adpp_is.mp4: 384x640 (no detections), 8.9ms\n",
            "video 1/1 (frame 367/570) /content/istockphoto-937868038-640_adpp_is.mp4: 384x640 (no detections), 8.5ms\n",
            "video 1/1 (frame 368/570) /content/istockphoto-937868038-640_adpp_is.mp4: 384x640 (no detections), 8.7ms\n",
            "video 1/1 (frame 369/570) /content/istockphoto-937868038-640_adpp_is.mp4: 384x640 (no detections), 8.4ms\n",
            "video 1/1 (frame 370/570) /content/istockphoto-937868038-640_adpp_is.mp4: 384x640 (no detections), 8.7ms\n",
            "video 1/1 (frame 371/570) /content/istockphoto-937868038-640_adpp_is.mp4: 384x640 (no detections), 8.4ms\n",
            "video 1/1 (frame 372/570) /content/istockphoto-937868038-640_adpp_is.mp4: 384x640 (no detections), 10.2ms\n",
            "video 1/1 (frame 373/570) /content/istockphoto-937868038-640_adpp_is.mp4: 384x640 (no detections), 8.4ms\n",
            "video 1/1 (frame 374/570) /content/istockphoto-937868038-640_adpp_is.mp4: 384x640 (no detections), 9.6ms\n",
            "video 1/1 (frame 375/570) /content/istockphoto-937868038-640_adpp_is.mp4: 384x640 (no detections), 8.4ms\n",
            "video 1/1 (frame 376/570) /content/istockphoto-937868038-640_adpp_is.mp4: 384x640 (no detections), 8.8ms\n",
            "video 1/1 (frame 377/570) /content/istockphoto-937868038-640_adpp_is.mp4: 384x640 (no detections), 8.4ms\n",
            "video 1/1 (frame 378/570) /content/istockphoto-937868038-640_adpp_is.mp4: 384x640 (no detections), 9.2ms\n",
            "video 1/1 (frame 379/570) /content/istockphoto-937868038-640_adpp_is.mp4: 384x640 (no detections), 8.4ms\n",
            "video 1/1 (frame 380/570) /content/istockphoto-937868038-640_adpp_is.mp4: 384x640 (no detections), 8.4ms\n",
            "video 1/1 (frame 381/570) /content/istockphoto-937868038-640_adpp_is.mp4: 384x640 (no detections), 9.0ms\n",
            "video 1/1 (frame 382/570) /content/istockphoto-937868038-640_adpp_is.mp4: 384x640 (no detections), 8.4ms\n",
            "video 1/1 (frame 383/570) /content/istockphoto-937868038-640_adpp_is.mp4: 384x640 (no detections), 8.5ms\n",
            "video 1/1 (frame 384/570) /content/istockphoto-937868038-640_adpp_is.mp4: 384x640 (no detections), 9.3ms\n",
            "video 1/1 (frame 385/570) /content/istockphoto-937868038-640_adpp_is.mp4: 384x640 (no detections), 8.5ms\n",
            "video 1/1 (frame 386/570) /content/istockphoto-937868038-640_adpp_is.mp4: 384x640 (no detections), 8.4ms\n",
            "video 1/1 (frame 387/570) /content/istockphoto-937868038-640_adpp_is.mp4: 384x640 (no detections), 8.8ms\n",
            "video 1/1 (frame 388/570) /content/istockphoto-937868038-640_adpp_is.mp4: 384x640 (no detections), 8.4ms\n",
            "video 1/1 (frame 389/570) /content/istockphoto-937868038-640_adpp_is.mp4: 384x640 (no detections), 8.7ms\n",
            "video 1/1 (frame 390/570) /content/istockphoto-937868038-640_adpp_is.mp4: 384x640 (no detections), 8.4ms\n",
            "video 1/1 (frame 391/570) /content/istockphoto-937868038-640_adpp_is.mp4: 384x640 (no detections), 9.6ms\n",
            "video 1/1 (frame 392/570) /content/istockphoto-937868038-640_adpp_is.mp4: 384x640 (no detections), 8.4ms\n",
            "video 1/1 (frame 393/570) /content/istockphoto-937868038-640_adpp_is.mp4: 384x640 1 Berlubang, 8.9ms\n",
            "video 1/1 (frame 394/570) /content/istockphoto-937868038-640_adpp_is.mp4: 384x640 1 Berlubang, 8.4ms\n",
            "video 1/1 (frame 395/570) /content/istockphoto-937868038-640_adpp_is.mp4: 384x640 (no detections), 8.9ms\n",
            "video 1/1 (frame 396/570) /content/istockphoto-937868038-640_adpp_is.mp4: 384x640 (no detections), 8.6ms\n",
            "video 1/1 (frame 397/570) /content/istockphoto-937868038-640_adpp_is.mp4: 384x640 (no detections), 9.0ms\n",
            "video 1/1 (frame 398/570) /content/istockphoto-937868038-640_adpp_is.mp4: 384x640 (no detections), 8.5ms\n",
            "video 1/1 (frame 399/570) /content/istockphoto-937868038-640_adpp_is.mp4: 384x640 (no detections), 8.7ms\n",
            "video 1/1 (frame 400/570) /content/istockphoto-937868038-640_adpp_is.mp4: 384x640 (no detections), 11.1ms\n",
            "video 1/1 (frame 401/570) /content/istockphoto-937868038-640_adpp_is.mp4: 384x640 (no detections), 8.5ms\n",
            "video 1/1 (frame 402/570) /content/istockphoto-937868038-640_adpp_is.mp4: 384x640 (no detections), 9.8ms\n",
            "video 1/1 (frame 403/570) /content/istockphoto-937868038-640_adpp_is.mp4: 384x640 (no detections), 8.4ms\n",
            "video 1/1 (frame 404/570) /content/istockphoto-937868038-640_adpp_is.mp4: 384x640 1 Berlubang, 8.6ms\n",
            "video 1/1 (frame 405/570) /content/istockphoto-937868038-640_adpp_is.mp4: 384x640 1 Berlubang, 8.4ms\n",
            "video 1/1 (frame 406/570) /content/istockphoto-937868038-640_adpp_is.mp4: 384x640 1 Berlubang, 9.0ms\n",
            "video 1/1 (frame 407/570) /content/istockphoto-937868038-640_adpp_is.mp4: 384x640 1 Berlubang, 9.1ms\n",
            "video 1/1 (frame 408/570) /content/istockphoto-937868038-640_adpp_is.mp4: 384x640 1 Retak, 9.2ms\n",
            "video 1/1 (frame 409/570) /content/istockphoto-937868038-640_adpp_is.mp4: 384x640 (no detections), 8.4ms\n",
            "video 1/1 (frame 410/570) /content/istockphoto-937868038-640_adpp_is.mp4: 384x640 (no detections), 10.0ms\n",
            "video 1/1 (frame 411/570) /content/istockphoto-937868038-640_adpp_is.mp4: 384x640 1 Berlubang, 8.4ms\n",
            "video 1/1 (frame 412/570) /content/istockphoto-937868038-640_adpp_is.mp4: 384x640 (no detections), 9.5ms\n",
            "video 1/1 (frame 413/570) /content/istockphoto-937868038-640_adpp_is.mp4: 384x640 1 Berlubang, 8.5ms\n",
            "video 1/1 (frame 414/570) /content/istockphoto-937868038-640_adpp_is.mp4: 384x640 (no detections), 8.6ms\n",
            "video 1/1 (frame 415/570) /content/istockphoto-937868038-640_adpp_is.mp4: 384x640 (no detections), 8.5ms\n",
            "video 1/1 (frame 416/570) /content/istockphoto-937868038-640_adpp_is.mp4: 384x640 1 Berlubang, 9.2ms\n",
            "video 1/1 (frame 417/570) /content/istockphoto-937868038-640_adpp_is.mp4: 384x640 1 Retak, 8.6ms\n",
            "video 1/1 (frame 418/570) /content/istockphoto-937868038-640_adpp_is.mp4: 384x640 (no detections), 8.6ms\n",
            "video 1/1 (frame 419/570) /content/istockphoto-937868038-640_adpp_is.mp4: 384x640 (no detections), 10.8ms\n",
            "video 1/1 (frame 420/570) /content/istockphoto-937868038-640_adpp_is.mp4: 384x640 1 Berlubang, 8.6ms\n",
            "video 1/1 (frame 421/570) /content/istockphoto-937868038-640_adpp_is.mp4: 384x640 1 Berlubang, 8.6ms\n",
            "video 1/1 (frame 422/570) /content/istockphoto-937868038-640_adpp_is.mp4: 384x640 1 Berlubang, 8.6ms\n",
            "video 1/1 (frame 423/570) /content/istockphoto-937868038-640_adpp_is.mp4: 384x640 (no detections), 8.6ms\n",
            "video 1/1 (frame 424/570) /content/istockphoto-937868038-640_adpp_is.mp4: 384x640 (no detections), 8.6ms\n",
            "video 1/1 (frame 425/570) /content/istockphoto-937868038-640_adpp_is.mp4: 384x640 (no detections), 8.6ms\n",
            "video 1/1 (frame 426/570) /content/istockphoto-937868038-640_adpp_is.mp4: 384x640 1 Retak, 9.0ms\n",
            "video 1/1 (frame 427/570) /content/istockphoto-937868038-640_adpp_is.mp4: 384x640 1 Berlubang, 9.7ms\n",
            "video 1/1 (frame 428/570) /content/istockphoto-937868038-640_adpp_is.mp4: 384x640 (no detections), 8.6ms\n",
            "video 1/1 (frame 429/570) /content/istockphoto-937868038-640_adpp_is.mp4: 384x640 (no detections), 9.8ms\n",
            "video 1/1 (frame 430/570) /content/istockphoto-937868038-640_adpp_is.mp4: 384x640 (no detections), 8.6ms\n",
            "video 1/1 (frame 431/570) /content/istockphoto-937868038-640_adpp_is.mp4: 384x640 (no detections), 8.8ms\n",
            "video 1/1 (frame 432/570) /content/istockphoto-937868038-640_adpp_is.mp4: 384x640 (no detections), 8.5ms\n",
            "video 1/1 (frame 433/570) /content/istockphoto-937868038-640_adpp_is.mp4: 384x640 (no detections), 8.6ms\n",
            "video 1/1 (frame 434/570) /content/istockphoto-937868038-640_adpp_is.mp4: 384x640 1 Berlubang, 8.6ms\n",
            "video 1/1 (frame 435/570) /content/istockphoto-937868038-640_adpp_is.mp4: 384x640 2 Berlubangs, 9.2ms\n",
            "video 1/1 (frame 436/570) /content/istockphoto-937868038-640_adpp_is.mp4: 384x640 1 Berlubang, 8.5ms\n",
            "video 1/1 (frame 437/570) /content/istockphoto-937868038-640_adpp_is.mp4: 384x640 1 Berlubang, 8.9ms\n",
            "video 1/1 (frame 438/570) /content/istockphoto-937868038-640_adpp_is.mp4: 384x640 1 Berlubang, 8.6ms\n",
            "video 1/1 (frame 439/570) /content/istockphoto-937868038-640_adpp_is.mp4: 384x640 1 Berlubang, 8.6ms\n",
            "video 1/1 (frame 440/570) /content/istockphoto-937868038-640_adpp_is.mp4: 384x640 1 Berlubang, 8.6ms\n",
            "video 1/1 (frame 441/570) /content/istockphoto-937868038-640_adpp_is.mp4: 384x640 1 Berlubang, 9.5ms\n",
            "video 1/1 (frame 442/570) /content/istockphoto-937868038-640_adpp_is.mp4: 384x640 1 Berlubang, 9.6ms\n",
            "video 1/1 (frame 443/570) /content/istockphoto-937868038-640_adpp_is.mp4: 384x640 2 Berlubangs, 8.9ms\n",
            "video 1/1 (frame 444/570) /content/istockphoto-937868038-640_adpp_is.mp4: 384x640 1 Berlubang, 9.0ms\n",
            "video 1/1 (frame 445/570) /content/istockphoto-937868038-640_adpp_is.mp4: 384x640 (no detections), 12.5ms\n",
            "video 1/1 (frame 446/570) /content/istockphoto-937868038-640_adpp_is.mp4: 384x640 (no detections), 9.8ms\n",
            "video 1/1 (frame 447/570) /content/istockphoto-937868038-640_adpp_is.mp4: 384x640 (no detections), 9.1ms\n",
            "video 1/1 (frame 448/570) /content/istockphoto-937868038-640_adpp_is.mp4: 384x640 (no detections), 9.3ms\n",
            "video 1/1 (frame 449/570) /content/istockphoto-937868038-640_adpp_is.mp4: 384x640 (no detections), 8.6ms\n",
            "video 1/1 (frame 450/570) /content/istockphoto-937868038-640_adpp_is.mp4: 384x640 (no detections), 10.7ms\n",
            "video 1/1 (frame 451/570) /content/istockphoto-937868038-640_adpp_is.mp4: 384x640 (no detections), 8.6ms\n",
            "video 1/1 (frame 452/570) /content/istockphoto-937868038-640_adpp_is.mp4: 384x640 (no detections), 8.5ms\n",
            "video 1/1 (frame 453/570) /content/istockphoto-937868038-640_adpp_is.mp4: 384x640 (no detections), 10.2ms\n",
            "video 1/1 (frame 454/570) /content/istockphoto-937868038-640_adpp_is.mp4: 384x640 (no detections), 8.6ms\n",
            "video 1/1 (frame 455/570) /content/istockphoto-937868038-640_adpp_is.mp4: 384x640 (no detections), 8.6ms\n",
            "video 1/1 (frame 456/570) /content/istockphoto-937868038-640_adpp_is.mp4: 384x640 (no detections), 8.6ms\n",
            "video 1/1 (frame 457/570) /content/istockphoto-937868038-640_adpp_is.mp4: 384x640 (no detections), 8.8ms\n",
            "video 1/1 (frame 458/570) /content/istockphoto-937868038-640_adpp_is.mp4: 384x640 (no detections), 8.9ms\n",
            "video 1/1 (frame 459/570) /content/istockphoto-937868038-640_adpp_is.mp4: 384x640 (no detections), 12.0ms\n",
            "video 1/1 (frame 460/570) /content/istockphoto-937868038-640_adpp_is.mp4: 384x640 (no detections), 8.7ms\n",
            "video 1/1 (frame 461/570) /content/istockphoto-937868038-640_adpp_is.mp4: 384x640 (no detections), 10.2ms\n",
            "video 1/1 (frame 462/570) /content/istockphoto-937868038-640_adpp_is.mp4: 384x640 (no detections), 8.7ms\n",
            "video 1/1 (frame 463/570) /content/istockphoto-937868038-640_adpp_is.mp4: 384x640 (no detections), 8.8ms\n",
            "video 1/1 (frame 464/570) /content/istockphoto-937868038-640_adpp_is.mp4: 384x640 (no detections), 8.7ms\n",
            "video 1/1 (frame 465/570) /content/istockphoto-937868038-640_adpp_is.mp4: 384x640 (no detections), 9.0ms\n",
            "video 1/1 (frame 466/570) /content/istockphoto-937868038-640_adpp_is.mp4: 384x640 (no detections), 8.7ms\n",
            "video 1/1 (frame 467/570) /content/istockphoto-937868038-640_adpp_is.mp4: 384x640 (no detections), 9.9ms\n",
            "video 1/1 (frame 468/570) /content/istockphoto-937868038-640_adpp_is.mp4: 384x640 (no detections), 8.7ms\n",
            "video 1/1 (frame 469/570) /content/istockphoto-937868038-640_adpp_is.mp4: 384x640 (no detections), 10.3ms\n",
            "video 1/1 (frame 470/570) /content/istockphoto-937868038-640_adpp_is.mp4: 384x640 (no detections), 10.0ms\n",
            "video 1/1 (frame 471/570) /content/istockphoto-937868038-640_adpp_is.mp4: 384x640 (no detections), 8.7ms\n",
            "video 1/1 (frame 472/570) /content/istockphoto-937868038-640_adpp_is.mp4: 384x640 (no detections), 10.8ms\n",
            "video 1/1 (frame 473/570) /content/istockphoto-937868038-640_adpp_is.mp4: 384x640 (no detections), 8.7ms\n",
            "video 1/1 (frame 474/570) /content/istockphoto-937868038-640_adpp_is.mp4: 384x640 (no detections), 10.6ms\n",
            "video 1/1 (frame 475/570) /content/istockphoto-937868038-640_adpp_is.mp4: 384x640 (no detections), 12.9ms\n",
            "video 1/1 (frame 476/570) /content/istockphoto-937868038-640_adpp_is.mp4: 384x640 (no detections), 12.6ms\n",
            "video 1/1 (frame 477/570) /content/istockphoto-937868038-640_adpp_is.mp4: 384x640 (no detections), 11.2ms\n",
            "video 1/1 (frame 478/570) /content/istockphoto-937868038-640_adpp_is.mp4: 384x640 (no detections), 12.1ms\n",
            "video 1/1 (frame 479/570) /content/istockphoto-937868038-640_adpp_is.mp4: 384x640 (no detections), 17.5ms\n",
            "video 1/1 (frame 480/570) /content/istockphoto-937868038-640_adpp_is.mp4: 384x640 1 Berlubang, 11.8ms\n",
            "video 1/1 (frame 481/570) /content/istockphoto-937868038-640_adpp_is.mp4: 384x640 1 Berlubang, 9.0ms\n",
            "video 1/1 (frame 482/570) /content/istockphoto-937868038-640_adpp_is.mp4: 384x640 (no detections), 13.1ms\n",
            "video 1/1 (frame 483/570) /content/istockphoto-937868038-640_adpp_is.mp4: 384x640 (no detections), 9.0ms\n",
            "video 1/1 (frame 484/570) /content/istockphoto-937868038-640_adpp_is.mp4: 384x640 1 Berlubang, 10.6ms\n",
            "video 1/1 (frame 485/570) /content/istockphoto-937868038-640_adpp_is.mp4: 384x640 1 Berlubang, 16.2ms\n",
            "video 1/1 (frame 486/570) /content/istockphoto-937868038-640_adpp_is.mp4: 384x640 1 Berlubang, 19.0ms\n",
            "video 1/1 (frame 487/570) /content/istockphoto-937868038-640_adpp_is.mp4: 384x640 1 Berlubang, 20.0ms\n",
            "video 1/1 (frame 488/570) /content/istockphoto-937868038-640_adpp_is.mp4: 384x640 (no detections), 12.4ms\n",
            "video 1/1 (frame 489/570) /content/istockphoto-937868038-640_adpp_is.mp4: 384x640 (no detections), 10.4ms\n",
            "video 1/1 (frame 490/570) /content/istockphoto-937868038-640_adpp_is.mp4: 384x640 (no detections), 12.2ms\n",
            "video 1/1 (frame 491/570) /content/istockphoto-937868038-640_adpp_is.mp4: 384x640 (no detections), 9.2ms\n",
            "video 1/1 (frame 492/570) /content/istockphoto-937868038-640_adpp_is.mp4: 384x640 (no detections), 9.6ms\n",
            "video 1/1 (frame 493/570) /content/istockphoto-937868038-640_adpp_is.mp4: 384x640 (no detections), 9.2ms\n",
            "video 1/1 (frame 494/570) /content/istockphoto-937868038-640_adpp_is.mp4: 384x640 (no detections), 10.0ms\n",
            "video 1/1 (frame 495/570) /content/istockphoto-937868038-640_adpp_is.mp4: 384x640 (no detections), 10.8ms\n",
            "video 1/1 (frame 496/570) /content/istockphoto-937868038-640_adpp_is.mp4: 384x640 (no detections), 11.4ms\n",
            "video 1/1 (frame 497/570) /content/istockphoto-937868038-640_adpp_is.mp4: 384x640 (no detections), 9.3ms\n",
            "video 1/1 (frame 498/570) /content/istockphoto-937868038-640_adpp_is.mp4: 384x640 (no detections), 10.3ms\n",
            "video 1/1 (frame 499/570) /content/istockphoto-937868038-640_adpp_is.mp4: 384x640 (no detections), 9.3ms\n",
            "video 1/1 (frame 500/570) /content/istockphoto-937868038-640_adpp_is.mp4: 384x640 (no detections), 10.7ms\n",
            "video 1/1 (frame 501/570) /content/istockphoto-937868038-640_adpp_is.mp4: 384x640 (no detections), 9.3ms\n",
            "video 1/1 (frame 502/570) /content/istockphoto-937868038-640_adpp_is.mp4: 384x640 (no detections), 9.4ms\n",
            "video 1/1 (frame 503/570) /content/istockphoto-937868038-640_adpp_is.mp4: 384x640 (no detections), 9.4ms\n",
            "video 1/1 (frame 504/570) /content/istockphoto-937868038-640_adpp_is.mp4: 384x640 1 Berlubang, 9.7ms\n",
            "video 1/1 (frame 505/570) /content/istockphoto-937868038-640_adpp_is.mp4: 384x640 (no detections), 9.4ms\n",
            "video 1/1 (frame 506/570) /content/istockphoto-937868038-640_adpp_is.mp4: 384x640 1 Berlubang, 9.3ms\n",
            "video 1/1 (frame 507/570) /content/istockphoto-937868038-640_adpp_is.mp4: 384x640 1 Berlubang, 9.3ms\n",
            "video 1/1 (frame 508/570) /content/istockphoto-937868038-640_adpp_is.mp4: 384x640 2 Berlubangs, 11.0ms\n",
            "video 1/1 (frame 509/570) /content/istockphoto-937868038-640_adpp_is.mp4: 384x640 1 Berlubang, 9.6ms\n",
            "video 1/1 (frame 510/570) /content/istockphoto-937868038-640_adpp_is.mp4: 384x640 3 Berlubangs, 9.5ms\n",
            "video 1/1 (frame 511/570) /content/istockphoto-937868038-640_adpp_is.mp4: 384x640 1 Berlubang, 9.5ms\n",
            "video 1/1 (frame 512/570) /content/istockphoto-937868038-640_adpp_is.mp4: 384x640 1 Berlubang, 9.5ms\n",
            "video 1/1 (frame 513/570) /content/istockphoto-937868038-640_adpp_is.mp4: 384x640 (no detections), 9.5ms\n",
            "video 1/1 (frame 514/570) /content/istockphoto-937868038-640_adpp_is.mp4: 384x640 (no detections), 10.3ms\n",
            "video 1/1 (frame 515/570) /content/istockphoto-937868038-640_adpp_is.mp4: 384x640 (no detections), 9.7ms\n",
            "video 1/1 (frame 516/570) /content/istockphoto-937868038-640_adpp_is.mp4: 384x640 (no detections), 9.7ms\n",
            "video 1/1 (frame 517/570) /content/istockphoto-937868038-640_adpp_is.mp4: 384x640 (no detections), 12.1ms\n",
            "video 1/1 (frame 518/570) /content/istockphoto-937868038-640_adpp_is.mp4: 384x640 (no detections), 11.7ms\n",
            "video 1/1 (frame 519/570) /content/istockphoto-937868038-640_adpp_is.mp4: 384x640 1 Berlubang, 15.2ms\n",
            "video 1/1 (frame 520/570) /content/istockphoto-937868038-640_adpp_is.mp4: 384x640 1 Berlubang, 16.0ms\n",
            "video 1/1 (frame 521/570) /content/istockphoto-937868038-640_adpp_is.mp4: 384x640 1 Berlubang, 15.0ms\n",
            "video 1/1 (frame 522/570) /content/istockphoto-937868038-640_adpp_is.mp4: 384x640 1 Berlubang, 9.9ms\n",
            "video 1/1 (frame 523/570) /content/istockphoto-937868038-640_adpp_is.mp4: 384x640 1 Berlubang, 10.2ms\n",
            "video 1/1 (frame 524/570) /content/istockphoto-937868038-640_adpp_is.mp4: 384x640 1 Berlubang, 10.1ms\n",
            "video 1/1 (frame 525/570) /content/istockphoto-937868038-640_adpp_is.mp4: 384x640 1 Berlubang, 14.6ms\n",
            "video 1/1 (frame 526/570) /content/istockphoto-937868038-640_adpp_is.mp4: 384x640 1 Berlubang, 9.9ms\n",
            "video 1/1 (frame 527/570) /content/istockphoto-937868038-640_adpp_is.mp4: 384x640 1 Berlubang, 10.1ms\n",
            "video 1/1 (frame 528/570) /content/istockphoto-937868038-640_adpp_is.mp4: 384x640 1 Berlubang, 11.7ms\n",
            "video 1/1 (frame 529/570) /content/istockphoto-937868038-640_adpp_is.mp4: 384x640 (no detections), 10.1ms\n",
            "video 1/1 (frame 530/570) /content/istockphoto-937868038-640_adpp_is.mp4: 384x640 (no detections), 10.1ms\n",
            "video 1/1 (frame 531/570) /content/istockphoto-937868038-640_adpp_is.mp4: 384x640 (no detections), 10.9ms\n",
            "video 1/1 (frame 532/570) /content/istockphoto-937868038-640_adpp_is.mp4: 384x640 (no detections), 10.1ms\n",
            "video 1/1 (frame 533/570) /content/istockphoto-937868038-640_adpp_is.mp4: 384x640 (no detections), 10.1ms\n",
            "video 1/1 (frame 534/570) /content/istockphoto-937868038-640_adpp_is.mp4: 384x640 (no detections), 12.2ms\n",
            "video 1/1 (frame 535/570) /content/istockphoto-937868038-640_adpp_is.mp4: 384x640 (no detections), 10.0ms\n",
            "video 1/1 (frame 536/570) /content/istockphoto-937868038-640_adpp_is.mp4: 384x640 (no detections), 10.1ms\n",
            "video 1/1 (frame 537/570) /content/istockphoto-937868038-640_adpp_is.mp4: 384x640 (no detections), 10.1ms\n",
            "video 1/1 (frame 538/570) /content/istockphoto-937868038-640_adpp_is.mp4: 384x640 (no detections), 10.1ms\n",
            "video 1/1 (frame 539/570) /content/istockphoto-937868038-640_adpp_is.mp4: 384x640 (no detections), 10.1ms\n",
            "video 1/1 (frame 540/570) /content/istockphoto-937868038-640_adpp_is.mp4: 384x640 (no detections), 10.3ms\n",
            "video 1/1 (frame 541/570) /content/istockphoto-937868038-640_adpp_is.mp4: 384x640 (no detections), 10.3ms\n",
            "video 1/1 (frame 542/570) /content/istockphoto-937868038-640_adpp_is.mp4: 384x640 (no detections), 10.3ms\n",
            "video 1/1 (frame 543/570) /content/istockphoto-937868038-640_adpp_is.mp4: 384x640 (no detections), 10.3ms\n",
            "video 1/1 (frame 544/570) /content/istockphoto-937868038-640_adpp_is.mp4: 384x640 (no detections), 10.3ms\n",
            "video 1/1 (frame 545/570) /content/istockphoto-937868038-640_adpp_is.mp4: 384x640 (no detections), 10.3ms\n",
            "video 1/1 (frame 546/570) /content/istockphoto-937868038-640_adpp_is.mp4: 384x640 (no detections), 10.5ms\n",
            "video 1/1 (frame 547/570) /content/istockphoto-937868038-640_adpp_is.mp4: 384x640 (no detections), 10.5ms\n",
            "video 1/1 (frame 548/570) /content/istockphoto-937868038-640_adpp_is.mp4: 384x640 (no detections), 10.8ms\n",
            "video 1/1 (frame 549/570) /content/istockphoto-937868038-640_adpp_is.mp4: 384x640 (no detections), 10.5ms\n",
            "video 1/1 (frame 550/570) /content/istockphoto-937868038-640_adpp_is.mp4: 384x640 (no detections), 10.5ms\n",
            "video 1/1 (frame 551/570) /content/istockphoto-937868038-640_adpp_is.mp4: 384x640 (no detections), 10.5ms\n",
            "video 1/1 (frame 552/570) /content/istockphoto-937868038-640_adpp_is.mp4: 384x640 (no detections), 10.5ms\n",
            "video 1/1 (frame 553/570) /content/istockphoto-937868038-640_adpp_is.mp4: 384x640 (no detections), 10.5ms\n",
            "video 1/1 (frame 554/570) /content/istockphoto-937868038-640_adpp_is.mp4: 384x640 (no detections), 10.5ms\n",
            "video 1/1 (frame 555/570) /content/istockphoto-937868038-640_adpp_is.mp4: 384x640 (no detections), 11.7ms\n",
            "video 1/1 (frame 556/570) /content/istockphoto-937868038-640_adpp_is.mp4: 384x640 (no detections), 10.5ms\n",
            "video 1/1 (frame 557/570) /content/istockphoto-937868038-640_adpp_is.mp4: 384x640 (no detections), 12.6ms\n",
            "video 1/1 (frame 558/570) /content/istockphoto-937868038-640_adpp_is.mp4: 384x640 (no detections), 10.5ms\n",
            "video 1/1 (frame 559/570) /content/istockphoto-937868038-640_adpp_is.mp4: 384x640 (no detections), 11.4ms\n",
            "video 1/1 (frame 560/570) /content/istockphoto-937868038-640_adpp_is.mp4: 384x640 (no detections), 10.5ms\n",
            "video 1/1 (frame 561/570) /content/istockphoto-937868038-640_adpp_is.mp4: 384x640 (no detections), 13.2ms\n",
            "video 1/1 (frame 562/570) /content/istockphoto-937868038-640_adpp_is.mp4: 384x640 (no detections), 10.5ms\n",
            "video 1/1 (frame 563/570) /content/istockphoto-937868038-640_adpp_is.mp4: 384x640 (no detections), 10.5ms\n",
            "video 1/1 (frame 564/570) /content/istockphoto-937868038-640_adpp_is.mp4: 384x640 (no detections), 10.5ms\n",
            "video 1/1 (frame 565/570) /content/istockphoto-937868038-640_adpp_is.mp4: 384x640 (no detections), 10.5ms\n",
            "video 1/1 (frame 566/570) /content/istockphoto-937868038-640_adpp_is.mp4: 384x640 (no detections), 10.5ms\n",
            "video 1/1 (frame 567/570) /content/istockphoto-937868038-640_adpp_is.mp4: 384x640 (no detections), 14.0ms\n",
            "video 1/1 (frame 568/570) /content/istockphoto-937868038-640_adpp_is.mp4: 384x640 (no detections), 10.0ms\n",
            "video 1/1 (frame 569/570) /content/istockphoto-937868038-640_adpp_is.mp4: 384x640 (no detections), 10.4ms\n",
            "video 1/1 (frame 570/570) /content/istockphoto-937868038-640_adpp_is.mp4: 384x640 (no detections), 13.8ms\n",
            "Speed: 2.9ms preprocess, 9.3ms inference, 1.0ms postprocess per image at shape (1, 3, 384, 640)\n",
            "Results saved to \u001b[1mruns/detect/predict33\u001b[0m\n",
            "Gambar hasil tidak ditemukan.\n"
          ]
        }
      ]
    },
    {
      "cell_type": "code",
      "source": [],
      "metadata": {
        "id": "C4b0q-FLbuaK"
      },
      "execution_count": null,
      "outputs": []
    }
  ]
}